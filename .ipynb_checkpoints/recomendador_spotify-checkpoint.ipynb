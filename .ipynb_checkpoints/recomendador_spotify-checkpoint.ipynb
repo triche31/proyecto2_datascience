{
 "cells": [
  {
   "cell_type": "code",
   "execution_count": 2,
   "metadata": {
    "tags": []
   },
   "outputs": [],
   "source": [
    "import numpy as np\n",
    "import pandas as pd\n",
    "import matplotlib.pyplot as plt\n",
    "import seaborn as sns\n",
    "from sklearn.metrics.pairwise import cosine_similarity"
   ]
  },
  {
   "cell_type": "markdown",
   "metadata": {},
   "source": [
    "**artist_0**\n",
    "**Main Artist**\n",
    "**duration_sec**\n",
    "**Duration_sec**Track length in seconds\n",
    "**label** The label associated with the album.\n",
    "track_number: The number of the track. If an album has several discs, the track number is the number on the specified disc.\n",
    "artist_popularity\n",
    "The popularity of the artist. The value will be between 0 and 100, with 100 being the most popular.\n",
    "followers\n",
    "The total number of followers for main artist.\n",
    "genre_0\n",
    "Main Genre\n",
    "acousticness\n",
    "A confidence measure from 0.0 to 1.0 of whether the track is acoustic.\n",
    "danceability\n",
    "Danceability describes how suitable a track is for dancing based on a combination of musical elements\n",
    "energy\n",
    "Energy is a measure from 0.0 to 1.0 and represents a perceptual measure of intensity and activity.\n",
    "instrumentalness\n",
    "Predicts whether a track contains no vocals\n",
    "key\n",
    "The key the track is in. Integers map to pitches using standard Pitch\n",
    "liveness\n",
    "Detects the presence of an audience in the recording.\n",
    "loudness\n",
    "The overall loudness of a track in decibels (dB).\n",
    "mode\n",
    "Mode indicates the modality (major or minor) of a track\n",
    "tempo\n",
    "The overall estimated tempo of a track in beats per minute (BPM)\n",
    "time_signature\n",
    "An estimated time signature.\n",
    "valence\n",
    "A measure from 0.0 to 1.0 describing the musical positiveness conveyed by a track.\n",
    "track_popularity\n",
    "The popularity of a track is a value between 0 and 100, with 100 being the most popular."
   ]
  },
  {
   "cell_type": "code",
   "execution_count": 3,
   "metadata": {},
   "outputs": [
    {
     "name": "stderr",
     "output_type": "stream",
     "text": [
      "/var/folders/d1/031rn2653ks13f7byzh2zxpr0000gn/T/ipykernel_20579/2719705088.py:1: DtypeWarning: Columns (25,26,44) have mixed types. Specify dtype option on import or set low_memory=False.\n",
      "  spotify_features_data = pd.read_csv(\"spotify_data_12_20_2023.csv\")\n"
     ]
    }
   ],
   "source": [
    "spotify_features_data = pd.read_csv(\"spotify_data_12_20_2023.csv\")"
   ]
  },
  {
   "cell_type": "markdown",
   "metadata": {},
   "source": [
    "### Analizamos las distintas columnas que contiene el DataFrame"
   ]
  },
  {
   "cell_type": "code",
   "execution_count": 4,
   "metadata": {
    "tags": []
   },
   "outputs": [
    {
     "name": "stdout",
     "output_type": "stream",
     "text": [
      "Primeras filas del DataFrame:\n",
      "                  album_id   album_name  album_popularity album_type  \\\n",
      "0  4zH8bbEjLe0Gdbv2FVLjnK  Son Of Tabu                 1      album   \n",
      "1  4zH8bbEjLe0Gdbv2FVLjnK  Son Of Tabu                 1      album   \n",
      "2  4zH8bbEjLe0Gdbv2FVLjnK  Son Of Tabu                 1      album   \n",
      "\n",
      "              artists artist_0  artist_1 artist_2 artist_3 artist_4  ...  \\\n",
      "0              ['AB']       AB       NaN      NaN      NaN      NaN  ...   \n",
      "1  ['AB', '22nd Jim']       AB  22nd Jim      NaN      NaN      NaN  ...   \n",
      "2     ['AB', 'Veeze']       AB     Veeze      NaN      NaN      NaN  ...   \n",
      "\n",
      "  time_signature                                         track_href  \\\n",
      "0            4.0  https://api.spotify.com/v1/tracks/5JucnTkqh8uC...   \n",
      "1            4.0  https://api.spotify.com/v1/tracks/4VWrKNG3ssyZ...   \n",
      "2            4.0  https://api.spotify.com/v1/tracks/6JsVrTLJPSOS...   \n",
      "\n",
      "             type                                   uri  valence explicit  \\\n",
      "0  audio_features  spotify:track:5JucnTkqh8uCZGggL1xxvv    0.382     True   \n",
      "1  audio_features  spotify:track:4VWrKNG3ssyZeboTgQ7Kj1    0.193     True   \n",
      "2  audio_features  spotify:track:6JsVrTLJPSOSpgJSnZyfSK    0.835     True   \n",
      "\n",
      "  track_popularity  release_year release_month  rn  \n",
      "0              0.0        2023.0         April   1  \n",
      "1              1.0        2023.0         April   1  \n",
      "2              1.0        2023.0         April   1  \n",
      "\n",
      "[3 rows x 49 columns] \n",
      "\n",
      "Información del DataFrame:\n",
      "\n",
      "<class 'pandas.core.frame.DataFrame'>\n",
      "RangeIndex: 375141 entries, 0 to 375140\n",
      "Data columns (total 49 columns):\n",
      " #   Column             Non-Null Count   Dtype  \n",
      "---  ------             --------------   -----  \n",
      " 0   album_id           375141 non-null  object \n",
      " 1   album_name         375140 non-null  object \n",
      " 2   album_popularity   375141 non-null  int64  \n",
      " 3   album_type         375141 non-null  object \n",
      " 4   artists            375141 non-null  object \n",
      " 5   artist_0           375139 non-null  object \n",
      " 6   artist_1           87079 non-null   object \n",
      " 7   artist_2           38300 non-null   object \n",
      " 8   artist_3           13823 non-null   object \n",
      " 9   artist_4           6087 non-null    object \n",
      " 10  artist_id          375141 non-null  object \n",
      " 11  duration_sec       375141 non-null  float64\n",
      " 12  label              375089 non-null  object \n",
      " 13  release_date       375119 non-null  object \n",
      " 14  total_tracks       375141 non-null  int64  \n",
      " 15  track_id           375141 non-null  object \n",
      " 16  track_name         375136 non-null  object \n",
      " 17  track_number       375141 non-null  int64  \n",
      " 18  artist_genres      375141 non-null  object \n",
      " 19  artist_popularity  375141 non-null  int64  \n",
      " 20  followers          375141 non-null  int64  \n",
      " 21  name               375141 non-null  object \n",
      " 22  genre_0            209863 non-null  object \n",
      " 23  genre_1            119486 non-null  object \n",
      " 24  genre_2            77219 non-null   object \n",
      " 25  genre_3            48610 non-null   object \n",
      " 26  genre_4            31317 non-null   object \n",
      " 27  acousticness       374364 non-null  float64\n",
      " 28  analysis_url       374364 non-null  object \n",
      " 29  danceability       374364 non-null  float64\n",
      " 30  duration_ms        374364 non-null  float64\n",
      " 31  energy             374364 non-null  float64\n",
      " 32  instrumentalness   374364 non-null  float64\n",
      " 33  key                374364 non-null  float64\n",
      " 34  liveness           374364 non-null  float64\n",
      " 35  loudness           374364 non-null  float64\n",
      " 36  mode               374364 non-null  float64\n",
      " 37  speechiness        374364 non-null  float64\n",
      " 38  tempo              374364 non-null  float64\n",
      " 39  time_signature     374364 non-null  float64\n",
      " 40  track_href         374364 non-null  object \n",
      " 41  type               374364 non-null  object \n",
      " 42  uri                374364 non-null  object \n",
      " 43  valence            374364 non-null  float64\n",
      " 44  explicit           375131 non-null  object \n",
      " 45  track_popularity   375131 non-null  float64\n",
      " 46  release_year       375119 non-null  float64\n",
      " 47  release_month      375119 non-null  object \n",
      " 48  rn                 375141 non-null  int64  \n",
      "dtypes: float64(16), int64(6), object(27)\n",
      "memory usage: 140.2+ MB\n",
      "None \n",
      "\n",
      "Descripción estadística:\n",
      "        album_popularity   duration_sec   total_tracks   track_number  \\\n",
      "count     375141.000000  375141.000000  375141.000000  375141.000000   \n",
      "mean          17.132020     215.427770      18.258711       8.039367   \n",
      "std           20.371022     125.727422      26.674688       8.089265   \n",
      "min            0.000000       0.000000       1.000000       1.000000   \n",
      "25%            1.000000     159.700000       8.000000       2.000000   \n",
      "50%            8.000000     204.545000      13.000000       6.000000   \n",
      "75%           28.000000     251.480000      20.000000      11.000000   \n",
      "max          100.000000   17919.000000     984.000000      50.000000   \n",
      "\n",
      "       artist_popularity     followers   acousticness   danceability  \\\n",
      "count      375141.000000  3.751410e+05  374364.000000  374364.000000   \n",
      "mean           29.346552  2.282646e+06       0.385691       0.572329   \n",
      "std            26.250589  9.635135e+06       0.359072       0.190816   \n",
      "min             0.000000  0.000000e+00       0.000000       0.000000   \n",
      "25%             5.000000  2.500000e+02       0.038900       0.452000   \n",
      "50%            24.000000  3.511000e+03       0.268000       0.598000   \n",
      "75%            48.000000  9.816100e+04       0.739000       0.714000   \n",
      "max           100.000000  1.160356e+08       0.996000       0.999000   \n",
      "\n",
      "        duration_ms         energy  ...       liveness       loudness  \\\n",
      "count  3.743640e+05  374364.000000  ...  374364.000000  374364.000000   \n",
      "mean   2.155215e+05       0.524809  ...       0.196691     -11.248916   \n",
      "std    1.166461e+05       0.264170  ...       0.175032       6.548005   \n",
      "min    3.056000e+03       0.000000  ...       0.000000     -60.000000   \n",
      "25%    1.600000e+05       0.319000  ...       0.097400     -14.060000   \n",
      "50%    2.047070e+05       0.539000  ...       0.124000      -9.527000   \n",
      "75%    2.516130e+05       0.736000  ...       0.235000      -6.681000   \n",
      "max    5.280027e+06       1.000000  ...       1.000000       3.744000   \n",
      "\n",
      "                mode    speechiness          tempo  time_signature  \\\n",
      "count  374364.000000  374364.000000  374364.000000   374364.000000   \n",
      "mean        0.637981       0.116585     118.651284        3.874149   \n",
      "std         0.480585       0.162882      30.516832        0.520690   \n",
      "min         0.000000       0.000000       0.000000        0.000000   \n",
      "25%         0.000000       0.036400      94.989000        4.000000   \n",
      "50%         1.000000       0.050100     119.422000        4.000000   \n",
      "75%         1.000000       0.109000     138.005000        4.000000   \n",
      "max         1.000000       0.970000     249.428000        5.000000   \n",
      "\n",
      "             valence  track_popularity   release_year        rn  \n",
      "count  374364.000000     375131.000000  375119.000000  375141.0  \n",
      "mean        0.453961         10.273267    2013.410198       1.0  \n",
      "std         0.266342         15.633540      11.814354       0.0  \n",
      "min         0.000000          0.000000    1886.000000       1.0  \n",
      "25%         0.231000          0.000000    2010.000000       1.0  \n",
      "50%         0.440000          2.000000    2017.000000       1.0  \n",
      "75%         0.664000         15.000000    2022.000000       1.0  \n",
      "max         1.000000         99.000000    2023.000000       1.0  \n",
      "\n",
      "[8 rows x 22 columns] \n",
      "\n",
      "Valores faltantes por columna:\n",
      " album_id                  0\n",
      "album_name                1\n",
      "album_popularity          0\n",
      "album_type                0\n",
      "artists                   0\n",
      "artist_0                  2\n",
      "artist_1             288062\n",
      "artist_2             336841\n",
      "artist_3             361318\n",
      "artist_4             369054\n",
      "artist_id                 0\n",
      "duration_sec              0\n",
      "label                    52\n",
      "release_date             22\n",
      "total_tracks              0\n",
      "track_id                  0\n",
      "track_name                5\n",
      "track_number              0\n",
      "artist_genres             0\n",
      "artist_popularity         0\n",
      "followers                 0\n",
      "name                      0\n",
      "genre_0              165278\n",
      "genre_1              255655\n",
      "genre_2              297922\n",
      "genre_3              326531\n",
      "genre_4              343824\n",
      "acousticness            777\n",
      "analysis_url            777\n",
      "danceability            777\n",
      "duration_ms             777\n",
      "energy                  777\n",
      "instrumentalness        777\n",
      "key                     777\n",
      "liveness                777\n",
      "loudness                777\n",
      "mode                    777\n",
      "speechiness             777\n",
      "tempo                   777\n",
      "time_signature          777\n",
      "track_href              777\n",
      "type                    777\n",
      "uri                     777\n",
      "valence                 777\n",
      "explicit                 10\n",
      "track_popularity         10\n",
      "release_year             22\n",
      "release_month            22\n",
      "rn                        0\n",
      "dtype: int64\n"
     ]
    }
   ],
   "source": [
    "# Visualizar las primeras filas del DataFrame\n",
    "print(\"Primeras filas del DataFrame:\\n\", spotify_features_data.head(3), \"\\n\")\n",
    "\n",
    "# Comprobamos la información el DataFrame\n",
    "print(\"Información del DataFrame:\\n\")\n",
    "print(spotify_features_data.info(), \"\\n\")\n",
    "\n",
    "# Descripción estadística de las columnas numéricas\n",
    "print(\"Descripción estadística:\\n\", spotify_features_data.describe(), \"\\n\")\n",
    "\n",
    "# Contamos los valores faltantes por columna\n",
    "print(\"Valores faltantes por columna:\\n\", spotify_features_data.isna().sum())"
   ]
  },
  {
   "cell_type": "code",
   "execution_count": 5,
   "metadata": {},
   "outputs": [
    {
     "data": {
      "text/plain": [
       "album_id              67991\n",
       "album_name            61467\n",
       "album_popularity         99\n",
       "album_type                2\n",
       "artists               66002\n",
       "artist_0              35112\n",
       "artist_1              24641\n",
       "artist_2               9567\n",
       "artist_3               3828\n",
       "artist_4               1756\n",
       "artist_id             31699\n",
       "duration_sec         138290\n",
       "label                 29638\n",
       "release_date           7503\n",
       "total_tracks            151\n",
       "track_id             375141\n",
       "track_name           275523\n",
       "track_number             50\n",
       "artist_genres          5993\n",
       "artist_popularity        94\n",
       "followers             12001\n",
       "name                  30948\n",
       "genre_0                3008\n",
       "genre_1                1740\n",
       "genre_2                 955\n",
       "genre_3                 524\n",
       "genre_4                 301\n",
       "acousticness           5242\n",
       "analysis_url         374364\n",
       "danceability           1327\n",
       "duration_ms          137997\n",
       "energy                 2918\n",
       "instrumentalness       5402\n",
       "key                      12\n",
       "liveness               1769\n",
       "loudness              32916\n",
       "mode                      2\n",
       "speechiness            1653\n",
       "tempo                101940\n",
       "time_signature            5\n",
       "track_href           374364\n",
       "type                      1\n",
       "uri                  374364\n",
       "valence                2043\n",
       "explicit                  2\n",
       "track_popularity        100\n",
       "release_year             85\n",
       "release_month            12\n",
       "rn                        1\n",
       "dtype: int64"
      ]
     },
     "execution_count": 5,
     "metadata": {},
     "output_type": "execute_result"
    }
   ],
   "source": [
    "# Comprobamos los datos unicos de las columnas\n",
    "spotify_features_data.nunique()"
   ]
  },
  {
   "cell_type": "code",
   "execution_count": 6,
   "metadata": {},
   "outputs": [
    {
     "data": {
      "text/plain": [
       "album_id\n",
       "6qgAuugdqobfFpxbvDH5zp    50\n",
       "6PyXDQ7RHgjW6kqPjdzCkn    50\n",
       "7JaXcjZSJ3l7SFPNhbkhG9    50\n",
       "5wfE8jSFFeOgweSvKrQHEf    50\n",
       "14VVqBoDw1SxoNLW3Cj3mN    50\n",
       "                          ..\n",
       "232GXMKh6CQyLOcmH0Idzv     1\n",
       "2lNbJRscao0jJV4ODJGxSf     1\n",
       "1YZGjwVr5NaB7A2wtKCv1Y     1\n",
       "2pXP6FJsvQNbTzY0PNUCX7     1\n",
       "5mSOpBwtuQUIg69cClKiFF     1\n",
       "Name: count, Length: 67991, dtype: int64"
      ]
     },
     "execution_count": 6,
     "metadata": {},
     "output_type": "execute_result"
    }
   ],
   "source": [
    "#album_id es un object, 375141 valores, 0 nans, dentro de los 375141 valores hay 67991 unicos, este es el total de albums que tenemos. 307150 valores repetidos\n",
    "#es el id del album de spoti\n",
    "\n",
    "spotify_features_data[\"album_id\"].value_counts()"
   ]
  },
  {
   "cell_type": "code",
   "execution_count": 7,
   "metadata": {},
   "outputs": [
    {
     "data": {
      "text/plain": [
       "album_name\n",
       "Nirvana                                                                          707\n",
       "Exodus                                                                           489\n",
       "Action                                                                           385\n",
       "Future                                                                           367\n",
       "Bach: St. John Passion                                                           305\n",
       "                                                                                ... \n",
       "Dimes Only (Feat. Snoop Dogg, Follow Your Instinct & Jacob Luttrell)               1\n",
       "Bebe Rexha & David Guetta One In A Million (Alex Laray & Parry Vishion Remix)      1\n",
       "Rosalie2                                                                           1\n",
       "The Summer Was 11Hz                                                                1\n",
       "Love Story (Digital Dog Remix)                                                     1\n",
       "Name: count, Length: 61467, dtype: int64"
      ]
     },
     "execution_count": 7,
     "metadata": {},
     "output_type": "execute_result"
    }
   ],
   "source": [
    "#album_name, object, 375141 valores, 0 nans, 61468 valores unicos, 313673 repetidos\n",
    "# ¿Este dato no deberia ser igual a album_id?\n",
    "\n",
    "spotify_features_data[\"album_name\"].value_counts()"
   ]
  },
  {
   "cell_type": "code",
   "execution_count": 8,
   "metadata": {},
   "outputs": [
    {
     "data": {
      "text/plain": [
       "album_popularity\n",
       "0      74198\n",
       "1      34489\n",
       "2      20297\n",
       "3      15216\n",
       "4      11668\n",
       "       ...  \n",
       "100       22\n",
       "98        21\n",
       "97        17\n",
       "90        11\n",
       "93        10\n",
       "Name: count, Length: 99, dtype: int64"
      ]
     },
     "execution_count": 8,
     "metadata": {},
     "output_type": "execute_result"
    }
   ],
   "source": [
    "#album_popularity, entero, dato numerico, 375141 valores, no Nans, valores que van del 0 al 100, \n",
    "#Album más popular, más cercano a 100, más popular.\n",
    "\n",
    "spotify_features_data[\"album_popularity\"].value_counts()"
   ]
  },
  {
   "cell_type": "code",
   "execution_count": 9,
   "metadata": {},
   "outputs": [
    {
     "data": {
      "text/plain": [
       "album_type\n",
       "album     297589\n",
       "single     77552\n",
       "Name: count, dtype: int64"
      ]
     },
     "execution_count": 9,
     "metadata": {},
     "output_type": "execute_result"
    }
   ],
   "source": [
    "# album_type, object, 375141 valores, no tiene Nans, hay dos tipos: Album o single\n",
    "\n",
    "spotify_features_data[\"album_type\"].value_counts()"
   ]
  },
  {
   "cell_type": "code",
   "execution_count": 10,
   "metadata": {},
   "outputs": [
    {
     "data": {
      "text/plain": [
       "artists\n",
       "['The Karaoke Channel']                 1769\n",
       "[\"Singer's Edge Karaoke\"]               1455\n",
       "['Raphael']                             1409\n",
       "['Johnny Cash']                         1351\n",
       "['ProSound Karaoke Band']               1285\n",
       "                                        ... \n",
       "['Rafael Querido']                         1\n",
       "['Yung Drilla YG']                         1\n",
       "['Yung Gunna Boi', \"M'bagz Pacino\"]        1\n",
       "['Yung Gunna Boi', 'Brick Wolfpack']       1\n",
       "['Taylor Swift', 'Digital Dog']            1\n",
       "Name: count, Length: 66002, dtype: int64"
      ]
     },
     "execution_count": 10,
     "metadata": {},
     "output_type": "execute_result"
    }
   ],
   "source": [
    "#artists, object, 375141 valores, no tiene Nans, 66002 valores unicos, 309139 valores repetidos\n",
    "spotify_features_data[\"artists\"].value_counts()"
   ]
  },
  {
   "cell_type": "code",
   "execution_count": 11,
   "metadata": {},
   "outputs": [
    {
     "data": {
      "text/plain": [
       "artist_0\n",
       "Johann Sebastian Bach    2483\n",
       "Johnny Cash              1792\n",
       "The Karaoke Channel      1769\n",
       "Raphael                  1519\n",
       "Singer's Edge Karaoke    1455\n",
       "                         ... \n",
       "Jazzy Music                 1\n",
       "Jaye Rhodes                 1\n",
       "Gunna Black                 1\n",
       "George Anto                 1\n",
       "Little Big Town             1\n",
       "Name: count, Length: 35112, dtype: int64"
      ]
     },
     "execution_count": 11,
     "metadata": {},
     "output_type": "execute_result"
    }
   ],
   "source": [
    "#artist_0, object, 375139 valores, 2 Nans, 35112 valores unicos, 340027 valores repetidos\n",
    "#esta columna hace referencia al artista\n",
    "\n",
    "spotify_features_data[\"artist_0\"].value_counts()"
   ]
  },
  {
   "cell_type": "code",
   "execution_count": 12,
   "metadata": {},
   "outputs": [
    {
     "data": {
      "text/plain": [
       "artist_1\n",
       "Sound Healing Center                      1445\n",
       "Choir of St. John's College, Cambridge     764\n",
       "Trap House Mafia                           453\n",
       "Snoop Dogg                                 410\n",
       "Lil Wayne                                  343\n",
       "                                          ... \n",
       "kaywikk                                      1\n",
       "KaeGoodie                                    1\n",
       "D.Marlo                                      1\n",
       "Anodrac                                      1\n",
       "Digital Dog                                  1\n",
       "Name: count, Length: 24641, dtype: int64"
      ]
     },
     "execution_count": 12,
     "metadata": {},
     "output_type": "execute_result"
    }
   ],
   "source": [
    "#artist_1, object, 87079 valores, 288062 Nans, 24641 valores unicos, 62438 repetidos\n",
    "# esta columna hace referencia a canciones que cantan dos artistas, esto significa que hay 87079 con dos artistas, por ejemplo una cancion del album Son Of Tabu es cantado por 'AB' y'Veeze'\n",
    "#valores repetidos es la cantidad total de artistas que cantan juntos varios temas\n",
    "\n",
    "spotify_features_data[\"artist_1\"].value_counts()"
   ]
  },
  {
   "cell_type": "code",
   "execution_count": 13,
   "metadata": {},
   "outputs": [
    {
     "data": {
      "text/plain": [
       "artist_2\n",
       "Sound Healing Center                   1300\n",
       "Hip Hop Type Beat                       453\n",
       "Andrew Nethsingha                       283\n",
       "Academy of St. Martin in the Fields     263\n",
       "New York Philharmonic                   219\n",
       "                                       ... \n",
       "Coxenberg                                 1\n",
       "Twigg                                     1\n",
       "OHTORA                                    1\n",
       "B4lreem                                   1\n",
       "Ryan Tedder                               1\n",
       "Name: count, Length: 9567, dtype: int64"
      ]
     },
     "execution_count": 13,
     "metadata": {},
     "output_type": "execute_result"
    }
   ],
   "source": [
    "#artist_2, object, 38300 valores, 336841 Nans, 9567 valores unicos, 28733 repetidos\n",
    "\n",
    "spotify_features_data[\"artist_2\"].value_counts()"
   ]
  },
  {
   "cell_type": "code",
   "execution_count": 14,
   "metadata": {},
   "outputs": [
    {
     "data": {
      "text/plain": [
       "artist_3\n",
       "George Guest                           199\n",
       "Academy of St. Martin in the Fields    156\n",
       "Sir Neville Marriner                   137\n",
       "India Fisher                           133\n",
       "Maggie Stables                         109\n",
       "                                      ... \n",
       "Andrea Libman                            1\n",
       "Natalie Sharp                            1\n",
       "Jaques Morelenbaum                       1\n",
       "Anders Bondeman                          1\n",
       "DJ Nelson                                1\n",
       "Name: count, Length: 3828, dtype: int64"
      ]
     },
     "execution_count": 14,
     "metadata": {},
     "output_type": "execute_result"
    }
   ],
   "source": [
    "#artist_3, object, 13823 valores, 361318 valores Nans, 3828 valores unicos, 9995 repetidos\n",
    "\n",
    "spotify_features_data[\"artist_3\"].value_counts()"
   ]
  },
  {
   "cell_type": "code",
   "execution_count": 15,
   "metadata": {},
   "outputs": [
    {
     "data": {
      "text/plain": [
       "artist_4\n",
       "Makoto Sakurada                        86\n",
       "Mark Padmore                           80\n",
       "Ingeborg Danz                          71\n",
       "George Guest                           66\n",
       "Academy of St. Martin in the Fields    63\n",
       "                                       ..\n",
       "Stunny!                                 1\n",
       "Los Menores 4 AM                        1\n",
       "AK26                                    1\n",
       "Ray Fuego                               1\n",
       "El Fother                               1\n",
       "Name: count, Length: 1756, dtype: int64"
      ]
     },
     "execution_count": 15,
     "metadata": {},
     "output_type": "execute_result"
    }
   ],
   "source": [
    "#artist_4, object, 6087 valores, 369054 nulos, 1756 unicos, 4331 repetidos\n",
    "\n",
    "spotify_features_data[\"artist_4\"].value_counts()"
   ]
  },
  {
   "cell_type": "code",
   "execution_count": 16,
   "metadata": {},
   "outputs": [
    {
     "data": {
      "text/plain": [
       "artist_id\n",
       "5aIqB5nVVvmFsvSdExz408    2292\n",
       "6kACVPfCOnqzgfEF5ryl0x    1897\n",
       "5UloVKzUNJcjORzhhTWWiJ    1763\n",
       "3CtgjasLNN3Ym8SHm5JuJn    1455\n",
       "2o5jDhtHVPhrJdv3cEQ99Z    1442\n",
       "                          ... \n",
       "6LlKZK9P1msOFVXF5x5uFe       1\n",
       "1UHiuMG5lF2jiX1v5pkwaX       1\n",
       "0c8wV1AM6Kfnc55UBww5pG       1\n",
       "7uXg8cHXoZzR2edMEXR8t1       1\n",
       "4pk5Jovc6GAggQrLXGYDWB       1\n",
       "Name: count, Length: 31699, dtype: int64"
      ]
     },
     "execution_count": 16,
     "metadata": {},
     "output_type": "execute_result"
    }
   ],
   "source": [
    "#artist_id, object, 375141 valores, no nulos, 31699 valores unicos, 343442 repetidos \n",
    "\n",
    "spotify_features_data[\"artist_id\"].value_counts()"
   ]
  },
  {
   "cell_type": "code",
   "execution_count": 17,
   "metadata": {},
   "outputs": [
    {
     "data": {
      "text/plain": [
       "duration_sec\n",
       "0.000        2\n",
       "0.184        1\n",
       "0.737        1\n",
       "0.798        1\n",
       "0.850        1\n",
       "            ..\n",
       "5280.026     1\n",
       "7295.500     1\n",
       "12813.333    1\n",
       "17040.000    1\n",
       "17919.000    1\n",
       "Name: count, Length: 138290, dtype: int64"
      ]
     },
     "execution_count": 17,
     "metadata": {},
     "output_type": "execute_result"
    }
   ],
   "source": [
    "#duration_sec, float64, 375141 valores, no nulos, 138290 valores unicos, 236851 repetidos\n",
    "#el valor que mas se reppite son 120 segundos, hay alguna cancion que no tiene sentido su duracion, por ejemplo, 0 segundos:\n",
    "\n",
    "spotify_features_data[\"duration_sec\"].value_counts().sort_index()"
   ]
  },
  {
   "cell_type": "code",
   "execution_count": 18,
   "metadata": {},
   "outputs": [
    {
     "data": {
      "text/plain": [
       "label\n",
       "Sami Springs              3395\n",
       "CC Entertainment          3197\n",
       "Columbia                  2316\n",
       "Legacy Recordings         2058\n",
       "Ameritz Music Ltd         2040\n",
       "                          ... \n",
       "YNC RECORDS                  1\n",
       "Non sum qualis eram          1\n",
       "WEST JAVA MUSIC RECORD       1\n",
       "Rod Truss                    1\n",
       "Double Trouble               1\n",
       "Name: count, Length: 29638, dtype: int64"
      ]
     },
     "execution_count": 18,
     "metadata": {},
     "output_type": "execute_result"
    }
   ],
   "source": [
    "# label, object, 375117 valores, 24 nulos,  29639 unicos, 345478 repetidos\n",
    "#por los resultados que da, entiendo que esta columna se refiere al sello discografico.\n",
    "\n",
    "spotify_features_data[\"label\"].value_counts()"
   ]
  },
  {
   "cell_type": "code",
   "execution_count": 19,
   "metadata": {},
   "outputs": [
    {
     "data": {
      "text/plain": [
       "release_date\n",
       "1886-01-01 00:00:00 UTC     4\n",
       "1899-12-30 00:00:00 UTC    20\n",
       "1900-01-01 00:00:00 UTC    14\n",
       "1901-01-01 00:00:00 UTC    50\n",
       "1912-01-01 00:00:00 UTC    13\n",
       "                           ..\n",
       "2023-12-16 00:00:00 UTC    20\n",
       "2023-12-17 00:00:00 UTC    33\n",
       "2023-12-19 00:00:00 UTC     1\n",
       "2023-12-20 00:00:00 UTC    14\n",
       "2023-12-22 00:00:00 UTC     2\n",
       "Name: count, Length: 7503, dtype: int64"
      ]
     },
     "execution_count": 19,
     "metadata": {},
     "output_type": "execute_result"
    }
   ],
   "source": [
    "#release_date, object, 375119 valores, 22 nulos, 7503 unicos, 367616 repetidos\n",
    "# fecha de lanzamiento, la mas repetida es el 1/01/2008 y la mas antigua el 1/01/1886??, la mas reciente el 22/12/23\n",
    "\n",
    "spotify_features_data[\"release_date\"].value_counts().sort_index()"
   ]
  },
  {
   "cell_type": "code",
   "execution_count": 20,
   "metadata": {},
   "outputs": [
    {
     "data": {
      "text/plain": [
       "total_tracks\n",
       "1      34736\n",
       "10     30071\n",
       "12     27286\n",
       "11     19864\n",
       "14     18289\n",
       "       ...  \n",
       "283       50\n",
       "928       50\n",
       "984       50\n",
       "74        50\n",
       "150       50\n",
       "Name: count, Length: 151, dtype: int64"
      ]
     },
     "execution_count": 20,
     "metadata": {},
     "output_type": "execute_result"
    }
   ],
   "source": [
    "# total_tracks, entero, 375141 valores, no tiene Nans, 151 unicos, 374990 repetidos\n",
    "\n",
    "spotify_features_data[\"total_tracks\"].value_counts()"
   ]
  },
  {
   "cell_type": "code",
   "execution_count": 21,
   "metadata": {},
   "outputs": [
    {
     "data": {
      "text/plain": [
       "track_id\n",
       "5JucnTkqh8uCZGggL1xxvv    1\n",
       "2w3mlYwUX5efwXjIkGkO64    1\n",
       "2Aq2IbxgKsFlbZbUix7mKI    1\n",
       "7Dxv6HIquXGFXKXSRMxZVC    1\n",
       "7AStBA9de3kR9laQjZfwCU    1\n",
       "                         ..\n",
       "7uuCq4pJ166X49hnI6YJ2E    1\n",
       "08RvbSrLQrBXSf0oiAcYHR    1\n",
       "6gPDw6NlZ71Md4TgrVkhpd    1\n",
       "1nKcL9dKVJI04BtRMNXPUE    1\n",
       "6WZgeIZgy7iFSC25chloVu    1\n",
       "Name: count, Length: 375141, dtype: int64"
      ]
     },
     "execution_count": 21,
     "metadata": {},
     "output_type": "execute_result"
    }
   ],
   "source": [
    "#track_id, object, 375141, valores, no Nnas, 375141 unicos, no valores repetidos\n",
    "\n",
    "spotify_features_data[\"track_id\"].value_counts()"
   ]
  },
  {
   "cell_type": "code",
   "execution_count": 22,
   "metadata": {},
   "outputs": [
    {
     "data": {
      "text/plain": [
       "track_name\n",
       "Intro                                                           511\n",
       "Outro                                                           161\n",
       "Home                                                             98\n",
       "Stay                                                             94\n",
       "Silent Night                                                     92\n",
       "                                                               ... \n",
       "Beautiful Music To Relax To                                       1\n",
       "Continuous Flow (Background Song)                                 1\n",
       "Zen Song                                                          1\n",
       "Energy Yoga Studio                                                1\n",
       "Everything Has Changed - Instrumental With Background Vocals      1\n",
       "Name: count, Length: 275523, dtype: int64"
      ]
     },
     "execution_count": 22,
     "metadata": {},
     "output_type": "execute_result"
    }
   ],
   "source": [
    "#track_name, object, 375139 valores, 2 nulos,  275524 unicos, 99615 repetidos\n",
    "\n",
    "spotify_features_data[\"track_name\"].value_counts()"
   ]
  },
  {
   "cell_type": "code",
   "execution_count": 23,
   "metadata": {},
   "outputs": [
    {
     "data": {
      "text/plain": [
       "track_number\n",
       "1     67976\n",
       "2     33415\n",
       "3     28501\n",
       "4     25982\n",
       "5     24210\n",
       "6     22584\n",
       "7     20984\n",
       "8     19807\n",
       "9     18280\n",
       "10    16943\n",
       "11    13811\n",
       "12    11925\n",
       "13     9518\n",
       "14     8076\n",
       "15     6664\n",
       "16     5464\n",
       "17     4540\n",
       "18     3945\n",
       "19     3365\n",
       "20     2980\n",
       "21     2343\n",
       "22     2083\n",
       "23     1814\n",
       "24     1661\n",
       "25     1497\n",
       "26     1342\n",
       "27     1194\n",
       "28     1135\n",
       "29     1060\n",
       "30     1017\n",
       "31      858\n",
       "32      810\n",
       "33      743\n",
       "34      705\n",
       "35      667\n",
       "36      630\n",
       "37      602\n",
       "38      586\n",
       "39      571\n",
       "40      548\n",
       "41      481\n",
       "42      476\n",
       "43      457\n",
       "44      444\n",
       "45      442\n",
       "46      423\n",
       "47      414\n",
       "48      397\n",
       "49      392\n",
       "50      379\n",
       "Name: count, dtype: int64"
      ]
     },
     "execution_count": 23,
     "metadata": {},
     "output_type": "execute_result"
    }
   ],
   "source": [
    "#track_number, enteros, 375141, no Nnas, 50 valores uniso, 375091 repetidos\n",
    "#valores de 1 al 50. SI me meto dentro del album de spotify, que posicion ocupa la canción. SIgue un patrón, la mas escuchada es la que aparece de numero 1 y la menos la 50\n",
    "\n",
    "spotify_features_data[\"track_number\"].value_counts()"
   ]
  },
  {
   "cell_type": "code",
   "execution_count": 24,
   "metadata": {},
   "outputs": [
    {
     "data": {
      "text/plain": [
       "artist_genres\n",
       "[]                                                           165278\n",
       "['karaoke']                                                   15344\n",
       "['baroque', 'classical', 'early music', 'german baroque']      2292\n",
       "['workout product']                                            2039\n",
       "['arkansas country', 'outlaw country', 'rock']                 1897\n",
       "                                                              ...  \n",
       "['chopped and screwed']                                           1\n",
       "['musica sergipana', 'rock sergipano']                            1\n",
       "['seggae']                                                        1\n",
       "['hard minimal techno', 'melbourne bounce']                       1\n",
       "['barbadian pop', 'chutney', 'soca']                              1\n",
       "Name: count, Length: 5993, dtype: int64"
      ]
     },
     "execution_count": 24,
     "metadata": {},
     "output_type": "execute_result"
    }
   ],
   "source": [
    "#artist_genres, object, 375141 valores, no Nans, 5993 unicos, 369148 repetidos.\n",
    "#Ojo aquí hay 1650278 valores que aparecen en blanco.\n",
    "# Tenemos 209863 que realmente están etiquetados. \n",
    "#entiendo que los valores en blanco es porque no están etiquetados dentro de spoti.\n",
    "#Ojo, un artista puede estar etiquetado dentro de varios generos.\n",
    "\n",
    "spotify_features_data[\"artist_genres\"].value_counts()"
   ]
  },
  {
   "cell_type": "code",
   "execution_count": 25,
   "metadata": {},
   "outputs": [
    {
     "data": {
      "text/plain": [
       "209863"
      ]
     },
     "execution_count": 25,
     "metadata": {},
     "output_type": "execute_result"
    }
   ],
   "source": [
    "375141 - 165278 #estos son los datos que nos quedariamos si eliminamos lo que quedan en blanco"
   ]
  },
  {
   "cell_type": "code",
   "execution_count": 26,
   "metadata": {},
   "outputs": [
    {
     "data": {
      "text/plain": [
       "artist_popularity\n",
       "0      46397\n",
       "1      16746\n",
       "2      10475\n",
       "3       8447\n",
       "4       8699\n",
       "       ...  \n",
       "89      1009\n",
       "90       403\n",
       "93       407\n",
       "95       785\n",
       "100      938\n",
       "Name: count, Length: 94, dtype: int64"
      ]
     },
     "execution_count": 26,
     "metadata": {},
     "output_type": "execute_result"
    }
   ],
   "source": [
    "#artist_popularity, int, 375141 valores, no Nans, 94 valores unicos, 375047 repetidos\n",
    "#Los valores comprenden entre el 0-100, más cercano a 100, más popular el artista.\n",
    "\n",
    "spotify_features_data[\"artist_popularity\"].value_counts().sort_index()"
   ]
  },
  {
   "cell_type": "code",
   "execution_count": 27,
   "metadata": {},
   "outputs": [
    {
     "data": {
      "text/plain": [
       "followers\n",
       "0            3009\n",
       "1            2001\n",
       "2            1713\n",
       "3            1467\n",
       "4            1539\n",
       "             ... \n",
       "95741850       18\n",
       "95859165      938\n",
       "115998928       6\n",
       "116016052       6\n",
       "116035640       2\n",
       "Name: count, Length: 12001, dtype: int64"
      ]
     },
     "execution_count": 27,
     "metadata": {},
     "output_type": "execute_result"
    }
   ],
   "source": [
    "# followers, int, 375141 valores, 12001 valores unicos, no Nans, 363140 valores repetidos\n",
    "# Hay 3009 datos que aparecen con 0 followers\n",
    "# Mas escuchado es nirvana.\n",
    "\n",
    "spotify_features_data[\"followers\"].value_counts().sort_index()"
   ]
  },
  {
   "cell_type": "code",
   "execution_count": 28,
   "metadata": {},
   "outputs": [
    {
     "data": {
      "text/plain": [
       "name\n",
       "Johann Sebastian Bach    2292\n",
       "Johnny Cash              1897\n",
       "The Karaoke Channel      1763\n",
       "Raphael                  1521\n",
       "Singer's Edge Karaoke    1455\n",
       "                         ... \n",
       "Inertia                     1\n",
       "Whitney Moseley             1\n",
       "Voltimetro Bass             1\n",
       "ONJUICY                     1\n",
       "Hall Of Fame                1\n",
       "Name: count, Length: 30948, dtype: int64"
      ]
     },
     "execution_count": 28,
     "metadata": {},
     "output_type": "execute_result"
    }
   ],
   "source": [
    "#name, object, 375141 valores, no Nans, 30948 valores unicos, 344193 valores repetidos\n",
    "\n",
    "spotify_features_data[\"name\"].value_counts()"
   ]
  },
  {
   "cell_type": "code",
   "execution_count": 29,
   "metadata": {},
   "outputs": [
    {
     "data": {
      "text/plain": [
       "genre_0\n",
       "adelaide indie            1\n",
       "french romanticism        1\n",
       "trap baiano               1\n",
       "deep techno               1\n",
       "raggatek                  1\n",
       "                      ...  \n",
       "baroque                3421\n",
       "album rock             3707\n",
       "classical              3848\n",
       "dance pop              4496\n",
       "karaoke               15344\n",
       "Name: count, Length: 3008, dtype: int64"
      ]
     },
     "execution_count": 29,
     "metadata": {},
     "output_type": "execute_result"
    }
   ],
   "source": [
    "# genre_0, object, 209863 valores, 165278Nans, 3008 valores unicos, 206855 repetidos\n",
    "\n",
    "spotify_features_data[\"genre_0\"].value_counts().sort_values()"
   ]
  },
  {
   "cell_type": "code",
   "execution_count": 30,
   "metadata": {},
   "outputs": [
    {
     "data": {
      "text/plain": [
       "44585"
      ]
     },
     "execution_count": 30,
     "metadata": {},
     "output_type": "execute_result"
    }
   ],
   "source": [
    "209863 - 165278 #estos son el numero total de datos que nos quedariamos si eliminasemos los nan de nenero"
   ]
  },
  {
   "cell_type": "code",
   "execution_count": 31,
   "metadata": {},
   "outputs": [],
   "source": [
    "#genre_1,2,3 y 4 abarcan mas de un genero."
   ]
  },
  {
   "cell_type": "code",
   "execution_count": 32,
   "metadata": {},
   "outputs": [
    {
     "data": {
      "text/plain": [
       "acousticness\n",
       "0.995000    2007\n",
       "0.994000    1688\n",
       "0.993000    1644\n",
       "0.992000    1605\n",
       "0.991000    1356\n",
       "            ... \n",
       "0.000009       1\n",
       "0.000008       1\n",
       "0.000007       1\n",
       "0.000005       1\n",
       "0.000006       1\n",
       "Name: count, Length: 5242, dtype: int64"
      ]
     },
     "execution_count": 32,
     "metadata": {},
     "output_type": "execute_result"
    }
   ],
   "source": [
    "#acousticness, float, 374364 valores, 777 Nans, 5242 valores unicos, 369122 repetidos\n",
    "#Variable que va de 0 a 1, indica nivel de confianza de que la cancion sea acustica.\n",
    "\n",
    "spotify_features_data[\"acousticness\"].value_counts()"
   ]
  },
  {
   "cell_type": "code",
   "execution_count": 33,
   "metadata": {},
   "outputs": [
    {
     "data": {
      "text/plain": [
       "analysis_url\n",
       "https://api.spotify.com/v1/audio-analysis/5JucnTkqh8uCZGggL1xxvv    1\n",
       "https://api.spotify.com/v1/audio-analysis/3essuepQGkhmThd037oiwp    1\n",
       "https://api.spotify.com/v1/audio-analysis/78ZPhDz7YFOlZsbU0f1q0V    1\n",
       "https://api.spotify.com/v1/audio-analysis/0gJjIkAa4OnoPzsjd0qVns    1\n",
       "https://api.spotify.com/v1/audio-analysis/0YxRx1G4GNqCJdkop9CrFP    1\n",
       "                                                                   ..\n",
       "https://api.spotify.com/v1/audio-analysis/1eCsDDNIWLpATa4SU3Dsko    1\n",
       "https://api.spotify.com/v1/audio-analysis/2cqLEMcNvqjBCwB3Akj2cX    1\n",
       "https://api.spotify.com/v1/audio-analysis/6VBuMFlEp7xd9lkgEKLzIG    1\n",
       "https://api.spotify.com/v1/audio-analysis/1mJ2IVIBW0xmOQ8QwWVtDA    1\n",
       "https://api.spotify.com/v1/audio-analysis/6WZgeIZgy7iFSC25chloVu    1\n",
       "Name: count, Length: 374364, dtype: int64"
      ]
     },
     "execution_count": 33,
     "metadata": {},
     "output_type": "execute_result"
    }
   ],
   "source": [
    "#analysis_url, object, 374364 valores, 777 Nans, 374364 unicos, no valores repetidos.\n",
    "\n",
    "spotify_features_data[\"analysis_url\"].value_counts()"
   ]
  },
  {
   "cell_type": "code",
   "execution_count": 34,
   "metadata": {},
   "outputs": [
    {
     "data": {
      "text/plain": [
       "danceability\n",
       "0.0000    546\n",
       "0.0167      1\n",
       "0.0236      1\n",
       "0.0492      1\n",
       "0.0532      1\n",
       "         ... \n",
       "0.9880      7\n",
       "0.9890      3\n",
       "0.9920      2\n",
       "0.9930      1\n",
       "0.9990      1\n",
       "Name: count, Length: 1327, dtype: int64"
      ]
     },
     "execution_count": 34,
     "metadata": {},
     "output_type": "execute_result"
    }
   ],
   "source": [
    "#danceability, float, 374364 valores, 777 Nans, 1327 unicos, 373037 repetidos.\n",
    "#Valores que van del 0 al 1 e indican cuanto de bailable es una cancion.\n",
    "\n",
    "spotify_features_data[\"danceability\"].value_counts().sort_index()\n"
   ]
  },
  {
   "cell_type": "code",
   "execution_count": 35,
   "metadata": {},
   "outputs": [
    {
     "data": {
      "text/plain": [
       "duration_ms\n",
       "120000.0    1585\n",
       "192000.0     340\n",
       "240000.0     295\n",
       "180000.0     272\n",
       "60000.0      187\n",
       "            ... \n",
       "130568.0       1\n",
       "343850.0       1\n",
       "114504.0       1\n",
       "112584.0       1\n",
       "90441.0        1\n",
       "Name: count, Length: 137997, dtype: int64"
      ]
     },
     "execution_count": 35,
     "metadata": {},
     "output_type": "execute_result"
    }
   ],
   "source": [
    "#duration_ms, float, 374364 valroes, 777 Nans, 137997 valores unicos, 236367 repetidos\n",
    "#Indica el tiempo que dura la cancion en milisegundos\n",
    "spotify_features_data[\"duration_ms\"].value_counts()"
   ]
  },
  {
   "cell_type": "code",
   "execution_count": 36,
   "metadata": {},
   "outputs": [
    {
     "data": {
      "text/plain": [
       "energy\n",
       "0.539000    568\n",
       "0.640000    566\n",
       "0.562000    554\n",
       "0.662000    547\n",
       "0.528000    546\n",
       "           ... \n",
       "0.006380      1\n",
       "0.000923      1\n",
       "0.000945      1\n",
       "0.004270      1\n",
       "0.000848      1\n",
       "Name: count, Length: 2918, dtype: int64"
      ]
     },
     "execution_count": 36,
     "metadata": {},
     "output_type": "execute_result"
    }
   ],
   "source": [
    "#energy, float, 374364 valores, 777 Nans, 2918 valores unicos, 371446 repetidos\n",
    "# Valores del 0 al 1.\n",
    "#Indica la energía de la canción, más proximo a 1 más energía tiene la cancion, más proximo a 0 menos,\n",
    "spotify_features_data[\"energy\"].value_counts()"
   ]
  },
  {
   "cell_type": "code",
   "execution_count": 37,
   "metadata": {},
   "outputs": [
    {
     "data": {
      "text/plain": [
       "instrumentalness\n",
       "0.000000    108294\n",
       "0.932000       674\n",
       "0.910000       655\n",
       "0.915000       652\n",
       "0.925000       646\n",
       "             ...  \n",
       "0.091600         4\n",
       "0.009670         4\n",
       "0.009930         3\n",
       "0.000096         3\n",
       "0.008450         3\n",
       "Name: count, Length: 5402, dtype: int64"
      ]
     },
     "execution_count": 37,
     "metadata": {},
     "output_type": "execute_result"
    }
   ],
   "source": [
    "#instrumentalness, float, 374364 valores, 777 Nans, 5402 unicos, 368962 repetidos.\n",
    "# Valores del 0 al 1.\n",
    "# Valores más cercanos a 1 indican que la cancion es mas instrumental y los mas cercanos a 0, menos intriçumental.\n",
    "\n",
    "spotify_features_data[\"instrumentalness\"].value_counts()"
   ]
  },
  {
   "cell_type": "code",
   "execution_count": 38,
   "metadata": {},
   "outputs": [
    {
     "data": {
      "text/plain": [
       "key\n",
       "0.0     43670\n",
       "1.0     39389\n",
       "2.0     37951\n",
       "3.0     12874\n",
       "4.0     27586\n",
       "5.0     31666\n",
       "6.0     23403\n",
       "7.0     42404\n",
       "8.0     24049\n",
       "9.0     36151\n",
       "10.0    26971\n",
       "11.0    28250\n",
       "Name: count, dtype: int64"
      ]
     },
     "execution_count": 38,
     "metadata": {},
     "output_type": "execute_result"
    }
   ],
   "source": [
    "#  key, float, 374364 valores, 777 key, 12 valores unicos, 374352 repetidos\n",
    "# valores que van del 0 al 11 \n",
    "#Canciones con bajo key suenan más graves, mientras que con alto key suenan más agudos.\n",
    "spotify_features_data[\"key\"].value_counts().sort_index()"
   ]
  },
  {
   "cell_type": "code",
   "execution_count": 39,
   "metadata": {},
   "outputs": [
    {
     "data": {
      "text/plain": [
       "liveness\n",
       "0.11100    5634\n",
       "0.11000    5101\n",
       "0.10900    4783\n",
       "0.11200    4600\n",
       "0.10800    4574\n",
       "           ... \n",
       "0.01700       1\n",
       "0.01060       1\n",
       "0.01590       1\n",
       "0.00217       1\n",
       "0.00936       1\n",
       "Name: count, Length: 1769, dtype: int64"
      ]
     },
     "execution_count": 39,
     "metadata": {},
     "output_type": "execute_result"
    }
   ],
   "source": [
    "#liveness, float, 374364 valores, 777 Nans, 1769 unicos, 372595 repetidos.\n",
    "#Valores del 0 a 1\n",
    "#Indica la probabilidad de que la cancion haya sido grabada en vivo. Valores mas cercanos a 1 mas probable en vivo.\n",
    "spotify_features_data[\"liveness\"].value_counts()"
   ]
  },
  {
   "cell_type": "code",
   "execution_count": 40,
   "metadata": {},
   "outputs": [
    {
     "data": {
      "text/plain": [
       "loudness\n",
       "-60.000    23\n",
       "-58.780     1\n",
       "-58.188     1\n",
       "-57.929     1\n",
       "-57.579     1\n",
       "           ..\n",
       " 2.801      1\n",
       " 2.853      1\n",
       " 2.868      1\n",
       " 3.053      1\n",
       " 3.744      1\n",
       "Name: count, Length: 32916, dtype: int64"
      ]
     },
     "execution_count": 40,
     "metadata": {},
     "output_type": "execute_result"
    }
   ],
   "source": [
    "#loudness, float, 374364 valores, 777 Nans, 32916 valores unicos, 341448 repetidos.\n",
    "#valores que van de -60 a 3.\n",
    "#La presencia de ruido en decibeles (dB), \n",
    "#este valor es el promedio de la cancion\n",
    "\n",
    "spotify_features_data[\"loudness\"].value_counts().sort_index()"
   ]
  },
  {
   "cell_type": "code",
   "execution_count": 41,
   "metadata": {},
   "outputs": [
    {
     "data": {
      "text/plain": [
       "mode\n",
       "1.0    238837\n",
       "0.0    135527\n",
       "Name: count, dtype: int64"
      ]
     },
     "execution_count": 41,
     "metadata": {},
     "output_type": "execute_result"
    }
   ],
   "source": [
    "#mode, float, 374364 valores, 777 Nans, 2 valores unicos.\n",
    "# valores de 0 y 1\n",
    "# Indica la modalidad (mayor o menor) de una canción, el tipo de escala del que se deriva su contenido melódico. La mayor se representa con 1 y la menor con 0.\n",
    "\n",
    "spotify_features_data[\"mode\"].value_counts()"
   ]
  },
  {
   "cell_type": "code",
   "execution_count": 42,
   "metadata": {},
   "outputs": [
    {
     "data": {
      "text/plain": [
       "speechiness\n",
       "0.0000    545\n",
       "0.0217      1\n",
       "0.0218      1\n",
       "0.0221      2\n",
       "0.0222      2\n",
       "         ... \n",
       "0.9660     45\n",
       "0.9670     37\n",
       "0.9680     17\n",
       "0.9690      1\n",
       "0.9700      2\n",
       "Name: count, Length: 1653, dtype: int64"
      ]
     },
     "execution_count": 42,
     "metadata": {},
     "output_type": "execute_result"
    }
   ],
   "source": [
    "#speechiness, float, 374364 valores, 777 Nans, 1653 unicos, 372711 iguales.\n",
    "#elementos de 0 a 1\n",
    "#inidca la presencia de palabras, mayores palabras puede indicar que se trata de un audiolibro, podcast etc.\n",
    "\n",
    "spotify_features_data[\"speechiness\"].value_counts().sort_index()"
   ]
  },
  {
   "cell_type": "code",
   "execution_count": 43,
   "metadata": {},
   "outputs": [
    {
     "data": {
      "text/plain": [
       "tempo\n",
       "0.000      545\n",
       "120.001    139\n",
       "120.008    133\n",
       "119.999    125\n",
       "120.003    123\n",
       "          ... \n",
       "72.962       1\n",
       "179.612      1\n",
       "55.180       1\n",
       "180.341      1\n",
       "160.868      1\n",
       "Name: count, Length: 101940, dtype: int64"
      ]
     },
     "execution_count": 43,
     "metadata": {},
     "output_type": "execute_result"
    }
   ],
   "source": [
    "#tempo, float, 374364 valores, 777 Nans, 101940 unicos, 272424 diferentes.\n",
    "#indica la velocidad de una cancion.\n",
    "\n",
    "spotify_features_data[\"tempo\"].value_counts()"
   ]
  },
  {
   "cell_type": "code",
   "execution_count": 44,
   "metadata": {},
   "outputs": [
    {
     "data": {
      "text/plain": [
       "time_signature\n",
       "4.0    317462\n",
       "3.0     40062\n",
       "5.0     11004\n",
       "1.0      5288\n",
       "0.0       548\n",
       "Name: count, dtype: int64"
      ]
     },
     "execution_count": 44,
     "metadata": {},
     "output_type": "execute_result"
    }
   ],
   "source": [
    "#time_signature, float, 374364 valores, 777 Nans, 5 unicso.\n",
    "#Indica La notación convencional que indica cuantos beats hay en cada bar. Se escriben únicamente los numeradores, ya que el denominador es 4. Por ejemplo, \"4/4\" o \"7/4\"\n",
    "\n",
    "spotify_features_data[\"time_signature\"].value_counts()"
   ]
  },
  {
   "cell_type": "code",
   "execution_count": 45,
   "metadata": {},
   "outputs": [
    {
     "data": {
      "text/plain": [
       "track_href\n",
       "https://api.spotify.com/v1/tracks/5JucnTkqh8uCZGggL1xxvv    1\n",
       "https://api.spotify.com/v1/tracks/3essuepQGkhmThd037oiwp    1\n",
       "https://api.spotify.com/v1/tracks/78ZPhDz7YFOlZsbU0f1q0V    1\n",
       "https://api.spotify.com/v1/tracks/0gJjIkAa4OnoPzsjd0qVns    1\n",
       "https://api.spotify.com/v1/tracks/0YxRx1G4GNqCJdkop9CrFP    1\n",
       "                                                           ..\n",
       "https://api.spotify.com/v1/tracks/1eCsDDNIWLpATa4SU3Dsko    1\n",
       "https://api.spotify.com/v1/tracks/2cqLEMcNvqjBCwB3Akj2cX    1\n",
       "https://api.spotify.com/v1/tracks/6VBuMFlEp7xd9lkgEKLzIG    1\n",
       "https://api.spotify.com/v1/tracks/1mJ2IVIBW0xmOQ8QwWVtDA    1\n",
       "https://api.spotify.com/v1/tracks/6WZgeIZgy7iFSC25chloVu    1\n",
       "Name: count, Length: 374364, dtype: int64"
      ]
     },
     "execution_count": 45,
     "metadata": {},
     "output_type": "execute_result"
    }
   ],
   "source": [
    "#track_href, object, 374364 valores, 777 Nans, 374364 son todos lçvaloers unicos.\n",
    "\n",
    "spotify_features_data[\"track_href\"].value_counts()"
   ]
  },
  {
   "cell_type": "code",
   "execution_count": 46,
   "metadata": {},
   "outputs": [
    {
     "data": {
      "text/plain": [
       "type\n",
       "audio_features    374364\n",
       "Name: count, dtype: int64"
      ]
     },
     "execution_count": 46,
     "metadata": {},
     "output_type": "execute_result"
    }
   ],
   "source": [
    "#type, object, 374364 valores, 777 Nans, 1 valor unico.\n",
    "\n",
    "spotify_features_data[\"type\"].value_counts()"
   ]
  },
  {
   "cell_type": "code",
   "execution_count": 47,
   "metadata": {},
   "outputs": [
    {
     "data": {
      "text/plain": [
       "uri\n",
       "spotify:track:5JucnTkqh8uCZGggL1xxvv    1\n",
       "spotify:track:3essuepQGkhmThd037oiwp    1\n",
       "spotify:track:78ZPhDz7YFOlZsbU0f1q0V    1\n",
       "spotify:track:0gJjIkAa4OnoPzsjd0qVns    1\n",
       "spotify:track:0YxRx1G4GNqCJdkop9CrFP    1\n",
       "                                       ..\n",
       "spotify:track:1eCsDDNIWLpATa4SU3Dsko    1\n",
       "spotify:track:2cqLEMcNvqjBCwB3Akj2cX    1\n",
       "spotify:track:6VBuMFlEp7xd9lkgEKLzIG    1\n",
       "spotify:track:1mJ2IVIBW0xmOQ8QwWVtDA    1\n",
       "spotify:track:6WZgeIZgy7iFSC25chloVu    1\n",
       "Name: count, Length: 374364, dtype: int64"
      ]
     },
     "execution_count": 47,
     "metadata": {},
     "output_type": "execute_result"
    }
   ],
   "source": [
    "#uri, object, 374364 valores, 777 Nans, 374364 unicos (todo valores unicos)\n",
    "\n",
    "spotify_features_data[\"uri\"].value_counts()"
   ]
  },
  {
   "cell_type": "code",
   "execution_count": 48,
   "metadata": {},
   "outputs": [
    {
     "data": {
      "text/plain": [
       "valence\n",
       "0.000000     845\n",
       "0.000010    1278\n",
       "0.000022       1\n",
       "0.000087       1\n",
       "0.000115       1\n",
       "            ... \n",
       "0.996000       5\n",
       "0.997000       7\n",
       "0.998000       3\n",
       "0.999000       6\n",
       "1.000000      23\n",
       "Name: count, Length: 2043, dtype: int64"
      ]
     },
     "execution_count": 48,
     "metadata": {},
     "output_type": "execute_result"
    }
   ],
   "source": [
    "# valence, float, 374364, 777 Nans, 2043 unicos, 372321 repetidos\n",
    "#Describe la positividad de la canción. Valores altos indican mayor positividad (alegría, euforia, ánimos) y valores bajos indican más negatividad (tristeza, etc)\n",
    "\n",
    "spotify_features_data[\"valence\"].value_counts().sort_index()"
   ]
  },
  {
   "cell_type": "code",
   "execution_count": 49,
   "metadata": {},
   "outputs": [
    {
     "data": {
      "text/plain": [
       "explicit\n",
       "False    316732\n",
       "True      58399\n",
       "Name: count, dtype: int64"
      ]
     },
     "execution_count": 49,
     "metadata": {},
     "output_type": "execute_result"
    }
   ],
   "source": [
    "#explicit, object, 375131 valores, 10 Nans, 2 valores únicos.\n",
    "#creo que significa contenido explicito (lenguaje ofensivo, insultos...)\n",
    "\n",
    "spotify_features_data[\"explicit\"].value_counts()"
   ]
  },
  {
   "cell_type": "code",
   "execution_count": 50,
   "metadata": {},
   "outputs": [
    {
     "data": {
      "text/plain": [
       "track_popularity\n",
       "0.0     147239\n",
       "1.0      28123\n",
       "2.0      17820\n",
       "3.0      13677\n",
       "4.0      10675\n",
       "         ...  \n",
       "95.0         1\n",
       "96.0         1\n",
       "97.0         1\n",
       "98.0         1\n",
       "99.0         2\n",
       "Name: count, Length: 100, dtype: int64"
      ]
     },
     "execution_count": 50,
     "metadata": {},
     "output_type": "execute_result"
    }
   ],
   "source": [
    "#track_popularity, float, 375131 valores, 10 Nans, 100 valores unicos\n",
    "#valores del 0 al 100, siendo 100 el más popular . La popularidad se calcula mediante un algoritmo y se basa, en su mayor parte, en el número total de reproducciones que ha tenido la pista y en lo recientes que son esas reproduccione\n",
    "\n",
    "spotify_features_data[\"track_popularity\"].value_counts().sort_index()"
   ]
  },
  {
   "cell_type": "code",
   "execution_count": 51,
   "metadata": {},
   "outputs": [
    {
     "data": {
      "text/plain": [
       "release_year\n",
       "2023.0    58986\n",
       "2022.0    36940\n",
       "2021.0    25990\n",
       "2020.0    24261\n",
       "2019.0    18842\n",
       "          ...  \n",
       "1942.0       11\n",
       "1954.0       10\n",
       "1929.0        7\n",
       "1948.0        6\n",
       "1886.0        4\n",
       "Name: count, Length: 85, dtype: int64"
      ]
     },
     "execution_count": 51,
     "metadata": {},
     "output_type": "execute_result"
    }
   ],
   "source": [
    "# release_year, float , 375119 valores, 22 Nans, 85 unicas\n",
    "# año de lanzamiento, siendo 1886 la mas antigua y 2023 la mas reciente.\n",
    "\n",
    "spotify_features_data[\"release_year\"].value_counts()"
   ]
  },
  {
   "cell_type": "code",
   "execution_count": 52,
   "metadata": {},
   "outputs": [
    {
     "data": {
      "text/plain": [
       "release_month\n",
       "January      63888\n",
       "November     36295\n",
       "October      34846\n",
       "September    30097\n",
       "July         28528\n",
       "June         27756\n",
       "August       27429\n",
       "March        27044\n",
       "May          26022\n",
       "April        25698\n",
       "December     25017\n",
       "February     22499\n",
       "Name: count, dtype: int64"
      ]
     },
     "execution_count": 52,
     "metadata": {},
     "output_type": "execute_result"
    }
   ],
   "source": [
    "#release_month, object, 375119 valores, 22 Nans, 12 valores unicos\n",
    "#mes de lanzamiento\n",
    "\n",
    "spotify_features_data[\"release_month\"].value_counts()"
   ]
  },
  {
   "cell_type": "code",
   "execution_count": 53,
   "metadata": {},
   "outputs": [
    {
     "data": {
      "text/plain": [
       "rn\n",
       "1    375141\n",
       "Name: count, dtype: int64"
      ]
     },
     "execution_count": 53,
     "metadata": {},
     "output_type": "execute_result"
    }
   ],
   "source": [
    "#rn, int, 375141 valores 0 Nans, 1 dato unico\n",
    "\n",
    "spotify_features_data[\"rn\"].value_counts()"
   ]
  },
  {
   "cell_type": "code",
   "execution_count": 99,
   "metadata": {},
   "outputs": [
    {
     "data": {
      "image/png": "[encoded data removed]",
      "text/plain": [
       "<Figure size 1200x700 with 2 Axes>"
      ]
     },
     "metadata": {},
     "output_type": "display_data"
    }
   ],
   "source": [
    "# Graficamos los NaN:\n",
    "\n",
    "plt.figure(figsize = (12,7))\n",
    "sns.heatmap(spotify_features_data.isna())\n",
    "plt.savefig('grafica_nan.png')\n",
    "plt.show()\n",
    "\n"
   ]
  },
  {
   "cell_type": "markdown",
   "metadata": {},
   "source": [
    "### Comenzamos a modificar el DataFrame según las conclusiones tras observar las variables"
   ]
  },
  {
   "cell_type": "code",
   "execution_count": 55,
   "metadata": {
    "tags": []
   },
   "outputs": [
    {
     "name": "stdout",
     "output_type": "stream",
     "text": [
      "<class 'pandas.core.frame.DataFrame'>\n",
      "Index: 13402 entries, 334 to 374832\n",
      "Data columns (total 2 columns):\n",
      " #   Column     Non-Null Count  Dtype \n",
      "---  ------     --------------  ----- \n",
      " 0   artist_id  13402 non-null  object\n",
      " 1   artists    13402 non-null  object\n",
      "dtypes: object(2)\n",
      "memory usage: 314.1+ KB\n"
     ]
    }
   ],
   "source": [
    "# Decidimos que las columnas relevantes son las siguientes: \n",
    "columnas_relevantes = ['album_id', 'album_name', 'album_popularity', 'genre_0',\n",
    "                       'album_type', 'artists', 'artist_id', 'duration_sec', \n",
    "                       'track_id', 'track_name', 'artist_genres', 'artist_popularity', \n",
    "                       'name', 'acousticness', 'danceability', 'energy', \n",
    "                       'instrumentalness', 'key', 'liveness', 'loudness', \n",
    "                       'mode', 'speechiness', 'tempo', 'time_signature', \n",
    "                       'uri', 'valence', 'explicit', 'track_popularity', 'followers']\n",
    "\n",
    "# Creamos una copia con las columnas relevantes y sin nan\n",
    "spotify_features_data_reducido = spotify_features_data[columnas_relevantes].copy().dropna()\n",
    "\n",
    "spotify_features_data_reducido[\"artists\"] = spotify_features_data_reducido[\"artists\"].apply(lambda x : eval(x)[0].lower())\n",
    "\n",
    "# Creamos un DataFrame con Artista_id y el nombre del artista con los id unicos\n",
    "data = pd.DataFrame({\"artist_id\": spotify_features_data_reducido[\"artist_id\"],\n",
    "                     \"artists\" : spotify_features_data_reducido[\"artists\"]})\n",
    "data = data.drop_duplicates()\n",
    "\n",
    "# Creamos un DataFrame con los valores no numéricos/ no comparables/relevantes\n",
    "columnas_objetos = ['album_id', 'album_name', 'duration_sec', 'album_popularity', 'album_type',\n",
    "                    'artists', 'artist_popularity', 'tempo', 'artist_id', 'track_id', 'track_name', \n",
    "                    'artist_genres', 'name', 'uri', 'time_signature', 'explicit', 'track_popularity']\n",
    "spotify_datos = spotify_features_data_reducido[columnas_objetos].copy()\n",
    "\n",
    "data.info()"
   ]
  },
  {
   "cell_type": "markdown",
   "metadata": {
    "tags": []
   },
   "source": [
    "### Gráfico inicial mostrando followers vs artista"
   ]
  },
  {
   "cell_type": "code",
   "execution_count": 56,
   "metadata": {
    "tags": []
   },
   "outputs": [],
   "source": [
    "follower_top_inicial = pd.DataFrame({\"followers\": spotify_features_data_reducido[\"followers\"],\n",
    "                     \"artists\" : spotify_features_data_reducido[\"artists\"]})\n",
    "follower_top_inicial = follower_top_inicial.drop_duplicates(\"artists\")\n",
    "follower_top_inicial = follower_top_inicial.sort_values(by = \"followers\", ascending = False)\n",
    "follower_top_inicial = follower_top_inicial.head(10)"
   ]
  },
  {
   "cell_type": "code",
   "execution_count": 57,
   "metadata": {
    "tags": []
   },
   "outputs": [
    {
     "data": {
      "image/png": "[encoded data removed]",
      "text/plain": [
       "<Figure size 1200x600 with 1 Axes>"
      ]
     },
     "metadata": {},
     "output_type": "display_data"
    }
   ],
   "source": [
    "plt.figure(figsize=(12,6))\n",
    "ax = sns.barplot(x='artists', y='followers', data=follower_top_inicial)\n",
    "plt.xticks(rotation=90)\n",
    "for bar in ax.patches:\n",
    "    ax.annotate(format(bar.get_height(), '.2f'), \n",
    "                   (bar.get_x() + bar.get_width() / 2, \n",
    "                    bar.get_height()), ha='center', va='bottom',\n",
    "                   textcoords='offset points', xytext=(0,10),\n",
    "                   fontsize=8)\n",
    "\n",
    "plt.show()"
   ]
  },
  {
   "cell_type": "markdown",
   "metadata": {},
   "source": [
    "### Gráfica popularity vs artista"
   ]
  },
  {
   "cell_type": "code",
   "execution_count": 58,
   "metadata": {
    "tags": []
   },
   "outputs": [],
   "source": [
    "popularity_top_inicial = pd.DataFrame({\"artist_popularity\": spotify_features_data_reducido[\"artist_popularity\"],\n",
    "                     \"artists\" : spotify_features_data_reducido[\"artists\"]})\n",
    "popularity_top_inicial = popularity_top_inicial.drop_duplicates(\"artists\")\n",
    "popularity_top_inicial = popularity_top_inicial.sort_values(by = \"artist_popularity\", ascending = False)\n",
    "popularity_top_inicial = popularity_top_inicial.head(10)"
   ]
  },
  {
   "cell_type": "code",
   "execution_count": 100,
   "metadata": {
    "tags": []
   },
   "outputs": [
    {
     "data": {
      "image/png": "[encoded data removed]",
      "text/plain": [
       "<Figure size 1200x600 with 1 Axes>"
      ]
     },
     "metadata": {},
     "output_type": "display_data"
    }
   ],
   "source": [
    "plt.figure(figsize=(12,6))\n",
    "ax = sns.barplot(x='artists', y='artist_popularity', data=popularity_top_inicial)\n",
    "plt.xticks(rotation=90)\n",
    "for bar in ax.patches:\n",
    "    ax.annotate(format(bar.get_height(), '.2f'), \n",
    "                   (bar.get_x() + bar.get_width() / 2, \n",
    "                    bar.get_height()), ha='center', va='bottom',\n",
    "                   textcoords='offset points', xytext=(0,10),\n",
    "                   fontsize=8)\n",
    "plt.savefig('popularity vs artista.png')\n",
    "plt.show()"
   ]
  },
  {
   "cell_type": "code",
   "execution_count": 60,
   "metadata": {
    "tags": []
   },
   "outputs": [],
   "source": [
    "def generador_preferencias():\n",
    "    \n",
    "    artistas_puntuacion = list()\n",
    "    \n",
    "    while len(artistas_puntuacion) < 5:\n",
    "        try:\n",
    "            artista_usuario = input(\"Por favor, introduce el nombre de un artista/banda: \").strip().lower()\n",
    "\n",
    "            # Verificar si el artista está en el DataFrame\n",
    "            if artista_usuario not in spotify_features_data_reducido[\"artists\"].values:\n",
    "                print(\"Artista no encontrado. Por favor, intenta con otro nombre.\")\n",
    "                continue\n",
    "\n",
    "            puntuacion_usuario = int(input(\"Por favor, introduce la puntuación del artista/banda (1-10): \"))\n",
    "\n",
    "            # Validar que la puntuación está en el rango correcto\n",
    "            if puntuacion_usuario < 1 or puntuacion_usuario > 10:\n",
    "                print(\"La puntuación debe estar entre 1 y 10.\")\n",
    "                continue\n",
    "\n",
    "            artist_id = spotify_features_data_reducido[spotify_features_data_reducido[\"artists\"] == artista_usuario][\"artist_id\"].values[0]\n",
    "\n",
    "            artistas_puntuacion.append([artist_id, puntuacion_usuario])\n",
    "\n",
    "        except ValueError:\n",
    "            print(\"Por favor, introduce un número válido para la puntuación.\")\n",
    "        except IndexError:\n",
    "            print(\"Hubo un error al buscar el artista. Por favor, intenta de nuevo.\")\n",
    "\n",
    "    return pd.DataFrame(data=artistas_puntuacion, columns=[\"artist_id\", \"score\"])"
   ]
  },
  {
   "cell_type": "markdown",
   "metadata": {},
   "source": [
    "### Datos Aleatorios"
   ]
  },
  {
   "cell_type": "code",
   "execution_count": 61,
   "metadata": {
    "tags": []
   },
   "outputs": [],
   "source": [
    "import random"
   ]
  },
  {
   "cell_type": "code",
   "execution_count": 62,
   "metadata": {
    "tags": []
   },
   "outputs": [
    {
     "name": "stdout",
     "output_type": "stream",
     "text": [
      "CPU times: user 6.89 s, sys: 394 ms, total: 7.29 s\n",
      "Wall time: 7.33 s\n"
     ]
    }
   ],
   "source": [
    "%%time\n",
    "\n",
    "n_usuarios = random.randint(10_000, 20_000)\n",
    "\n",
    "usuarios_id = [f\"userid_{x}\" for x in range(n_usuarios)]\n",
    "\n",
    "artist_id_list = data[\"artist_id\"].tolist()\n",
    "\n",
    "data_usuarios = list()\n",
    "\n",
    "for uid in usuarios_id:\n",
    "    \n",
    "    for i in range(random.randint(200, 300)):\n",
    "        \n",
    "        data_usuarios.append([uid, random.randint(1, 10), random.choice(seq = artist_id_list)])\n",
    "        \n",
    "usuarios = pd.DataFrame(data = data_usuarios, columns = [\"user_id\", \"like\", \"artist_id\"])"
   ]
  },
  {
   "cell_type": "code",
   "execution_count": 63,
   "metadata": {
    "tags": []
   },
   "outputs": [
    {
     "data": {
      "text/html": [
       "<div>\n",
       "<style scoped>\n",
       "    .dataframe tbody tr th:only-of-type {\n",
       "        vertical-align: middle;\n",
       "    }\n",
       "\n",
       "    .dataframe tbody tr th {\n",
       "        vertical-align: top;\n",
       "    }\n",
       "\n",
       "    .dataframe thead th {\n",
       "        text-align: right;\n",
       "    }\n",
       "</style>\n",
       "<table border=\"1\" class=\"dataframe\">\n",
       "  <thead>\n",
       "    <tr style=\"text-align: right;\">\n",
       "      <th></th>\n",
       "      <th>user_id</th>\n",
       "      <th>like</th>\n",
       "      <th>artist_id</th>\n",
       "    </tr>\n",
       "  </thead>\n",
       "  <tbody>\n",
       "    <tr>\n",
       "      <th>0</th>\n",
       "      <td>userid_0</td>\n",
       "      <td>3</td>\n",
       "      <td>3uCTdq9rOnPCAlJMc4OzGn</td>\n",
       "    </tr>\n",
       "    <tr>\n",
       "      <th>1</th>\n",
       "      <td>userid_0</td>\n",
       "      <td>10</td>\n",
       "      <td>2CgVSpL4tfbUuHmTGS7wF3</td>\n",
       "    </tr>\n",
       "    <tr>\n",
       "      <th>2</th>\n",
       "      <td>userid_0</td>\n",
       "      <td>5</td>\n",
       "      <td>5pxb4FJJzapQG0J5zmX2jz</td>\n",
       "    </tr>\n",
       "    <tr>\n",
       "      <th>3</th>\n",
       "      <td>userid_0</td>\n",
       "      <td>5</td>\n",
       "      <td>70ZKqVQq6G7hFqty4aXEQ0</td>\n",
       "    </tr>\n",
       "    <tr>\n",
       "      <th>4</th>\n",
       "      <td>userid_0</td>\n",
       "      <td>5</td>\n",
       "      <td>4E69riquObrTmBTVuF1b7B</td>\n",
       "    </tr>\n",
       "    <tr>\n",
       "      <th>...</th>\n",
       "      <td>...</td>\n",
       "      <td>...</td>\n",
       "      <td>...</td>\n",
       "    </tr>\n",
       "    <tr>\n",
       "      <th>3803098</th>\n",
       "      <td>userid_15215</td>\n",
       "      <td>1</td>\n",
       "      <td>6hJ1WCK5GxmaYzmWWK7UiJ</td>\n",
       "    </tr>\n",
       "    <tr>\n",
       "      <th>3803099</th>\n",
       "      <td>userid_15215</td>\n",
       "      <td>8</td>\n",
       "      <td>0HxX6imltnNXJyQhu4nsiO</td>\n",
       "    </tr>\n",
       "    <tr>\n",
       "      <th>3803100</th>\n",
       "      <td>userid_15215</td>\n",
       "      <td>6</td>\n",
       "      <td>0d5lSp7AtxdIQ9De6xmazL</td>\n",
       "    </tr>\n",
       "    <tr>\n",
       "      <th>3803101</th>\n",
       "      <td>userid_15215</td>\n",
       "      <td>6</td>\n",
       "      <td>5lR7yDVN4z9kahOiUSlMhe</td>\n",
       "    </tr>\n",
       "    <tr>\n",
       "      <th>3803102</th>\n",
       "      <td>userid_15215</td>\n",
       "      <td>10</td>\n",
       "      <td>0NFb7EzMeIc7fZMsdDjlrf</td>\n",
       "    </tr>\n",
       "  </tbody>\n",
       "</table>\n",
       "<p>3803103 rows × 3 columns</p>\n",
       "</div>"
      ],
      "text/plain": [
       "              user_id  like               artist_id\n",
       "0            userid_0     3  3uCTdq9rOnPCAlJMc4OzGn\n",
       "1            userid_0    10  2CgVSpL4tfbUuHmTGS7wF3\n",
       "2            userid_0     5  5pxb4FJJzapQG0J5zmX2jz\n",
       "3            userid_0     5  70ZKqVQq6G7hFqty4aXEQ0\n",
       "4            userid_0     5  4E69riquObrTmBTVuF1b7B\n",
       "...               ...   ...                     ...\n",
       "3803098  userid_15215     1  6hJ1WCK5GxmaYzmWWK7UiJ\n",
       "3803099  userid_15215     8  0HxX6imltnNXJyQhu4nsiO\n",
       "3803100  userid_15215     6  0d5lSp7AtxdIQ9De6xmazL\n",
       "3803101  userid_15215     6  5lR7yDVN4z9kahOiUSlMhe\n",
       "3803102  userid_15215    10  0NFb7EzMeIc7fZMsdDjlrf\n",
       "\n",
       "[3803103 rows x 3 columns]"
      ]
     },
     "execution_count": 63,
     "metadata": {},
     "output_type": "execute_result"
    }
   ],
   "source": [
    "usuarios"
   ]
  },
  {
   "cell_type": "code",
   "execution_count": 64,
   "metadata": {
    "tags": []
   },
   "outputs": [],
   "source": [
    "usuarios.to_csv(\"usuarios.csv\", index = False)"
   ]
  },
  {
   "cell_type": "markdown",
   "metadata": {},
   "source": [
    "### Usuario Activo"
   ]
  },
  {
   "cell_type": "code",
   "execution_count": 85,
   "metadata": {
    "tags": []
   },
   "outputs": [
    {
     "name": "stdin",
     "output_type": "stream",
     "text": [
      "Por favor, introduce el nombre de un artista/banda:  Taylor Swift\n",
      "Por favor, introduce la puntuación del artista/banda (1-10):  8\n",
      "Por favor, introduce el nombre de un artista/banda:  coldplay\n",
      "Por favor, introduce la puntuación del artista/banda (1-10):  10\n",
      "Por favor, introduce el nombre de un artista/banda:  Bizarrap\n",
      "Por favor, introduce la puntuación del artista/banda (1-10):  9\n",
      "Por favor, introduce el nombre de un artista/banda:  Snoop Dogg\n",
      "Por favor, introduce la puntuación del artista/banda (1-10):  10\n",
      "Por favor, introduce el nombre de un artista/banda:  Raphael\n",
      "Por favor, introduce la puntuación del artista/banda (1-10):  3\n"
     ]
    },
    {
     "data": {
      "text/plain": [
       "['userid_0',\n",
       " 'userid_1000',\n",
       " 'userid_10007',\n",
       " 'userid_10025',\n",
       " 'userid_10026',\n",
       " 'userid_10029',\n",
       " 'userid_10035',\n",
       " 'userid_10039',\n",
       " 'userid_10044',\n",
       " 'userid_10046',\n",
       " 'userid_10053',\n",
       " 'userid_10056',\n",
       " 'userid_10062',\n",
       " 'userid_10065',\n",
       " 'userid_10081',\n",
       " 'userid_10083',\n",
       " 'userid_10084',\n",
       " 'userid_1009',\n",
       " 'userid_10096',\n",
       " 'userid_10101',\n",
       " 'userid_10111',\n",
       " 'userid_10113',\n",
       " 'userid_10126',\n",
       " 'userid_10135',\n",
       " 'userid_10143',\n",
       " 'userid_10153',\n",
       " 'userid_10169',\n",
       " 'userid_10179',\n",
       " 'userid_10184',\n",
       " 'userid_10195',\n",
       " 'userid_10204',\n",
       " 'userid_1021',\n",
       " 'userid_10220',\n",
       " 'userid_10221',\n",
       " 'userid_10227',\n",
       " 'userid_10236',\n",
       " 'userid_10237',\n",
       " 'userid_1024',\n",
       " 'userid_10244',\n",
       " 'userid_10246',\n",
       " 'userid_10272',\n",
       " 'userid_10273',\n",
       " 'userid_10274',\n",
       " 'userid_10279',\n",
       " 'userid_10281',\n",
       " 'userid_10288',\n",
       " 'userid_1029',\n",
       " 'userid_10300',\n",
       " 'userid_10304',\n",
       " 'userid_10317',\n",
       " 'userid_10318',\n",
       " 'userid_1032',\n",
       " 'userid_10326',\n",
       " 'userid_10330',\n",
       " 'userid_10339',\n",
       " 'userid_10345',\n",
       " 'userid_10349',\n",
       " 'userid_10351',\n",
       " 'userid_10372',\n",
       " 'userid_10374',\n",
       " 'userid_10377',\n",
       " 'userid_10382',\n",
       " 'userid_10384',\n",
       " 'userid_10386',\n",
       " 'userid_10397',\n",
       " 'userid_10406',\n",
       " 'userid_1041',\n",
       " 'userid_10420',\n",
       " 'userid_10428',\n",
       " 'userid_10430',\n",
       " 'userid_10432',\n",
       " 'userid_10435',\n",
       " 'userid_10441',\n",
       " 'userid_10455',\n",
       " 'userid_1046',\n",
       " 'userid_10461',\n",
       " 'userid_10485',\n",
       " 'userid_10497',\n",
       " 'userid_10499',\n",
       " 'userid_10507',\n",
       " 'userid_1051',\n",
       " 'userid_10521',\n",
       " 'userid_10533',\n",
       " 'userid_10536',\n",
       " 'userid_10537',\n",
       " 'userid_10548',\n",
       " 'userid_10569',\n",
       " 'userid_10570',\n",
       " 'userid_10575',\n",
       " 'userid_10577',\n",
       " 'userid_1058',\n",
       " 'userid_10596',\n",
       " 'userid_10604',\n",
       " 'userid_10606',\n",
       " 'userid_10621',\n",
       " 'userid_10627',\n",
       " 'userid_1065',\n",
       " 'userid_10655',\n",
       " 'userid_10661',\n",
       " 'userid_10662',\n",
       " 'userid_10664',\n",
       " 'userid_10665',\n",
       " 'userid_10669',\n",
       " 'userid_10671',\n",
       " 'userid_10673',\n",
       " 'userid_10689',\n",
       " 'userid_10699',\n",
       " 'userid_10708',\n",
       " 'userid_10714',\n",
       " 'userid_10717',\n",
       " 'userid_10719',\n",
       " 'userid_10725',\n",
       " 'userid_10727',\n",
       " 'userid_10728',\n",
       " 'userid_1073',\n",
       " 'userid_10731',\n",
       " 'userid_10738',\n",
       " 'userid_10751',\n",
       " 'userid_10762',\n",
       " 'userid_10765',\n",
       " 'userid_10778',\n",
       " 'userid_10789',\n",
       " 'userid_10804',\n",
       " 'userid_10816',\n",
       " 'userid_10823',\n",
       " 'userid_10826',\n",
       " 'userid_10830',\n",
       " 'userid_10834',\n",
       " 'userid_10844',\n",
       " 'userid_10859',\n",
       " 'userid_10872',\n",
       " 'userid_10902',\n",
       " 'userid_10913',\n",
       " 'userid_1092',\n",
       " 'userid_10923',\n",
       " 'userid_10924',\n",
       " 'userid_10926',\n",
       " 'userid_10929',\n",
       " 'userid_10935',\n",
       " 'userid_10941',\n",
       " 'userid_10948',\n",
       " 'userid_10955',\n",
       " 'userid_10959',\n",
       " 'userid_10969',\n",
       " 'userid_10973',\n",
       " 'userid_10975',\n",
       " 'userid_1099',\n",
       " 'userid_10991',\n",
       " 'userid_10993',\n",
       " 'userid_10998',\n",
       " 'userid_10999',\n",
       " 'userid_110',\n",
       " 'userid_11008',\n",
       " 'userid_11009',\n",
       " 'userid_11017',\n",
       " 'userid_11018',\n",
       " 'userid_11027',\n",
       " 'userid_11036',\n",
       " 'userid_11038',\n",
       " 'userid_11048',\n",
       " 'userid_11049',\n",
       " 'userid_11055',\n",
       " 'userid_11056',\n",
       " 'userid_11059',\n",
       " 'userid_11060',\n",
       " 'userid_11061',\n",
       " 'userid_11062',\n",
       " 'userid_11071',\n",
       " 'userid_11076',\n",
       " 'userid_1108',\n",
       " 'userid_11082',\n",
       " 'userid_11085',\n",
       " 'userid_11087',\n",
       " 'userid_11094',\n",
       " 'userid_11095',\n",
       " 'userid_11098',\n",
       " 'userid_11116',\n",
       " 'userid_11119',\n",
       " 'userid_11126',\n",
       " 'userid_11128',\n",
       " 'userid_11134',\n",
       " 'userid_11135',\n",
       " 'userid_11153',\n",
       " 'userid_11154',\n",
       " 'userid_11156',\n",
       " 'userid_11160',\n",
       " 'userid_11163',\n",
       " 'userid_11172',\n",
       " 'userid_11173',\n",
       " 'userid_11187',\n",
       " 'userid_11191',\n",
       " 'userid_11192',\n",
       " 'userid_112',\n",
       " 'userid_11203',\n",
       " 'userid_11205',\n",
       " 'userid_11236',\n",
       " 'userid_1124',\n",
       " 'userid_11244',\n",
       " 'userid_11247',\n",
       " 'userid_11265',\n",
       " 'userid_1127',\n",
       " 'userid_11271',\n",
       " 'userid_11276',\n",
       " 'userid_1128',\n",
       " 'userid_11282',\n",
       " 'userid_11287',\n",
       " 'userid_11290',\n",
       " 'userid_11291',\n",
       " 'userid_11296',\n",
       " 'userid_11298',\n",
       " 'userid_11308',\n",
       " 'userid_11317',\n",
       " 'userid_11318',\n",
       " 'userid_11322',\n",
       " 'userid_11331',\n",
       " 'userid_11337',\n",
       " 'userid_11338',\n",
       " 'userid_11339',\n",
       " 'userid_11340',\n",
       " 'userid_11343',\n",
       " 'userid_11344',\n",
       " 'userid_1135',\n",
       " 'userid_11351',\n",
       " 'userid_11359',\n",
       " 'userid_11365',\n",
       " 'userid_11374',\n",
       " 'userid_11380',\n",
       " 'userid_11382',\n",
       " 'userid_11383',\n",
       " 'userid_11386',\n",
       " 'userid_11404',\n",
       " 'userid_11414',\n",
       " 'userid_11418',\n",
       " 'userid_11422',\n",
       " 'userid_11432',\n",
       " 'userid_1144',\n",
       " 'userid_11441',\n",
       " 'userid_11448',\n",
       " 'userid_11450',\n",
       " 'userid_11451',\n",
       " 'userid_11462',\n",
       " 'userid_11464',\n",
       " 'userid_11471',\n",
       " 'userid_11476',\n",
       " 'userid_11479',\n",
       " 'userid_11482',\n",
       " 'userid_11483',\n",
       " 'userid_11486',\n",
       " 'userid_11488',\n",
       " 'userid_11491',\n",
       " 'userid_11492',\n",
       " 'userid_11493',\n",
       " 'userid_11496',\n",
       " 'userid_115',\n",
       " 'userid_11508',\n",
       " 'userid_11513',\n",
       " 'userid_11515',\n",
       " 'userid_11520',\n",
       " 'userid_11525',\n",
       " 'userid_11529',\n",
       " 'userid_11548',\n",
       " 'userid_11557',\n",
       " 'userid_11558',\n",
       " 'userid_11560',\n",
       " 'userid_11564',\n",
       " 'userid_11577',\n",
       " 'userid_11580',\n",
       " 'userid_11584',\n",
       " 'userid_11586',\n",
       " 'userid_11591',\n",
       " 'userid_116',\n",
       " 'userid_11606',\n",
       " 'userid_11609',\n",
       " 'userid_11611',\n",
       " 'userid_11612',\n",
       " 'userid_11622',\n",
       " 'userid_11627',\n",
       " 'userid_11645',\n",
       " 'userid_1165',\n",
       " 'userid_11668',\n",
       " 'userid_11677',\n",
       " 'userid_11679',\n",
       " 'userid_11681',\n",
       " 'userid_11683',\n",
       " 'userid_11686',\n",
       " 'userid_11697',\n",
       " 'userid_11699',\n",
       " 'userid_11708',\n",
       " 'userid_11715',\n",
       " 'userid_11718',\n",
       " 'userid_11720',\n",
       " 'userid_11727',\n",
       " 'userid_11730',\n",
       " 'userid_11739',\n",
       " 'userid_11747',\n",
       " 'userid_1175',\n",
       " 'userid_11752',\n",
       " 'userid_11766',\n",
       " 'userid_11769',\n",
       " 'userid_11772',\n",
       " 'userid_11784',\n",
       " 'userid_11789',\n",
       " 'userid_11792',\n",
       " 'userid_11797',\n",
       " 'userid_11798',\n",
       " 'userid_118',\n",
       " 'userid_11806',\n",
       " 'userid_11808',\n",
       " 'userid_11811',\n",
       " 'userid_1182',\n",
       " 'userid_11836',\n",
       " 'userid_11848',\n",
       " 'userid_11859',\n",
       " 'userid_11866',\n",
       " 'userid_11870',\n",
       " 'userid_11882',\n",
       " 'userid_11885',\n",
       " 'userid_11886',\n",
       " 'userid_11890',\n",
       " 'userid_11891',\n",
       " 'userid_11892',\n",
       " 'userid_119',\n",
       " 'userid_11920',\n",
       " 'userid_11921',\n",
       " 'userid_11924',\n",
       " 'userid_11930',\n",
       " 'userid_11936',\n",
       " 'userid_11941',\n",
       " 'userid_11949',\n",
       " 'userid_11967',\n",
       " 'userid_1197',\n",
       " 'userid_11974',\n",
       " 'userid_11992',\n",
       " 'userid_11993',\n",
       " 'userid_11996',\n",
       " 'userid_11998',\n",
       " 'userid_1200',\n",
       " 'userid_12005',\n",
       " 'userid_12009',\n",
       " 'userid_12011',\n",
       " 'userid_12018',\n",
       " 'userid_12021',\n",
       " 'userid_12024',\n",
       " 'userid_12027',\n",
       " 'userid_1204',\n",
       " 'userid_12050',\n",
       " 'userid_12056',\n",
       " 'userid_12074',\n",
       " 'userid_12079',\n",
       " 'userid_12081',\n",
       " 'userid_12100',\n",
       " 'userid_12116',\n",
       " 'userid_12122',\n",
       " 'userid_12142',\n",
       " 'userid_12146',\n",
       " 'userid_12152',\n",
       " 'userid_12155',\n",
       " 'userid_12169',\n",
       " 'userid_12185',\n",
       " 'userid_12199',\n",
       " 'userid_12201',\n",
       " 'userid_12209',\n",
       " 'userid_12211',\n",
       " 'userid_12214',\n",
       " 'userid_12217',\n",
       " 'userid_12218',\n",
       " 'userid_12235',\n",
       " 'userid_12239',\n",
       " 'userid_12247',\n",
       " 'userid_12264',\n",
       " 'userid_12270',\n",
       " 'userid_12282',\n",
       " 'userid_12298',\n",
       " 'userid_12304',\n",
       " 'userid_12312',\n",
       " 'userid_12313',\n",
       " 'userid_12326',\n",
       " 'userid_1233',\n",
       " 'userid_12331',\n",
       " 'userid_12332',\n",
       " 'userid_12339',\n",
       " 'userid_12341',\n",
       " 'userid_12350',\n",
       " 'userid_12355',\n",
       " 'userid_12361',\n",
       " 'userid_12362',\n",
       " 'userid_12363',\n",
       " 'userid_12366',\n",
       " 'userid_12370',\n",
       " 'userid_12376',\n",
       " 'userid_1238',\n",
       " 'userid_12384',\n",
       " 'userid_12387',\n",
       " 'userid_1239',\n",
       " 'userid_12392',\n",
       " 'userid_12399',\n",
       " 'userid_12405',\n",
       " 'userid_12406',\n",
       " 'userid_12408',\n",
       " 'userid_12409',\n",
       " 'userid_12412',\n",
       " 'userid_12413',\n",
       " 'userid_12415',\n",
       " 'userid_12420',\n",
       " 'userid_12421',\n",
       " 'userid_1244',\n",
       " 'userid_12442',\n",
       " 'userid_12445',\n",
       " 'userid_12448',\n",
       " 'userid_12453',\n",
       " 'userid_12454',\n",
       " 'userid_12457',\n",
       " 'userid_12460',\n",
       " 'userid_12466',\n",
       " 'userid_12479',\n",
       " 'userid_12480',\n",
       " 'userid_12482',\n",
       " 'userid_12484',\n",
       " 'userid_12486',\n",
       " 'userid_12487',\n",
       " 'userid_12490',\n",
       " 'userid_12491',\n",
       " 'userid_12493',\n",
       " 'userid_12495',\n",
       " 'userid_125',\n",
       " 'userid_12500',\n",
       " 'userid_12521',\n",
       " 'userid_12526',\n",
       " 'userid_12537',\n",
       " 'userid_12539',\n",
       " 'userid_12540',\n",
       " 'userid_12547',\n",
       " 'userid_12548',\n",
       " 'userid_12550',\n",
       " 'userid_12554',\n",
       " 'userid_12556',\n",
       " 'userid_12564',\n",
       " 'userid_12567',\n",
       " 'userid_12570',\n",
       " 'userid_12583',\n",
       " 'userid_12585',\n",
       " 'userid_12591',\n",
       " 'userid_12600',\n",
       " 'userid_12601',\n",
       " 'userid_12603',\n",
       " 'userid_12615',\n",
       " 'userid_12617',\n",
       " 'userid_12625',\n",
       " 'userid_12629',\n",
       " 'userid_12641',\n",
       " 'userid_12662',\n",
       " 'userid_12676',\n",
       " 'userid_12680',\n",
       " 'userid_12690',\n",
       " 'userid_12695',\n",
       " 'userid_12706',\n",
       " 'userid_12713',\n",
       " 'userid_12725',\n",
       " 'userid_12742',\n",
       " 'userid_12763',\n",
       " 'userid_12779',\n",
       " 'userid_1278',\n",
       " 'userid_12808',\n",
       " 'userid_12813',\n",
       " 'userid_12814',\n",
       " 'userid_12815',\n",
       " 'userid_12821',\n",
       " 'userid_12824',\n",
       " 'userid_12828',\n",
       " 'userid_12830',\n",
       " 'userid_12844',\n",
       " 'userid_12845',\n",
       " 'userid_12848',\n",
       " 'userid_12851',\n",
       " 'userid_12855',\n",
       " 'userid_12858',\n",
       " 'userid_1286',\n",
       " 'userid_12873',\n",
       " 'userid_12895',\n",
       " 'userid_12900',\n",
       " 'userid_12904',\n",
       " 'userid_12913',\n",
       " 'userid_12920',\n",
       " 'userid_12928',\n",
       " 'userid_12930',\n",
       " 'userid_12931',\n",
       " 'userid_12950',\n",
       " 'userid_12957',\n",
       " 'userid_12958',\n",
       " 'userid_12967',\n",
       " 'userid_12988',\n",
       " 'userid_1299',\n",
       " 'userid_12991',\n",
       " 'userid_13006',\n",
       " 'userid_13018',\n",
       " 'userid_13019',\n",
       " 'userid_13034',\n",
       " 'userid_13041',\n",
       " 'userid_1306',\n",
       " 'userid_13060',\n",
       " 'userid_13063',\n",
       " 'userid_13068',\n",
       " 'userid_13076',\n",
       " 'userid_13085',\n",
       " 'userid_13095',\n",
       " 'userid_13097',\n",
       " 'userid_13114',\n",
       " 'userid_13119',\n",
       " 'userid_1312',\n",
       " 'userid_13122',\n",
       " 'userid_13127',\n",
       " 'userid_13135',\n",
       " 'userid_13147',\n",
       " 'userid_13158',\n",
       " 'userid_13162',\n",
       " 'userid_13177',\n",
       " 'userid_13178',\n",
       " 'userid_13182',\n",
       " 'userid_1320',\n",
       " 'userid_13204',\n",
       " 'userid_13212',\n",
       " 'userid_13220',\n",
       " 'userid_13228',\n",
       " 'userid_13240',\n",
       " 'userid_13242',\n",
       " 'userid_13247',\n",
       " 'userid_13248',\n",
       " 'userid_13253',\n",
       " 'userid_13256',\n",
       " 'userid_13269',\n",
       " 'userid_13270',\n",
       " 'userid_13294',\n",
       " 'userid_13299',\n",
       " 'userid_13304',\n",
       " 'userid_13307',\n",
       " 'userid_13324',\n",
       " 'userid_13336',\n",
       " 'userid_13337',\n",
       " 'userid_13345',\n",
       " 'userid_13347',\n",
       " 'userid_13349',\n",
       " 'userid_13358',\n",
       " 'userid_1336',\n",
       " 'userid_13362',\n",
       " 'userid_13363',\n",
       " 'userid_13369',\n",
       " 'userid_13375',\n",
       " 'userid_13384',\n",
       " 'userid_13389',\n",
       " 'userid_13398',\n",
       " 'userid_13404',\n",
       " 'userid_13409',\n",
       " 'userid_13410',\n",
       " 'userid_13413',\n",
       " 'userid_13418',\n",
       " 'userid_1343',\n",
       " 'userid_13430',\n",
       " 'userid_13438',\n",
       " 'userid_13444',\n",
       " 'userid_13451',\n",
       " 'userid_13454',\n",
       " 'userid_1346',\n",
       " 'userid_13468',\n",
       " 'userid_13474',\n",
       " 'userid_13475',\n",
       " 'userid_13479',\n",
       " 'userid_13484',\n",
       " 'userid_13492',\n",
       " 'userid_13497',\n",
       " 'userid_1350',\n",
       " 'userid_1352',\n",
       " 'userid_13537',\n",
       " 'userid_13538',\n",
       " 'userid_13549',\n",
       " 'userid_13558',\n",
       " 'userid_13567',\n",
       " 'userid_13568',\n",
       " 'userid_13570',\n",
       " 'userid_13574',\n",
       " 'userid_13582',\n",
       " 'userid_13583',\n",
       " 'userid_13586',\n",
       " 'userid_13592',\n",
       " 'userid_13593',\n",
       " 'userid_136',\n",
       " 'userid_13600',\n",
       " 'userid_13602',\n",
       " 'userid_13612',\n",
       " 'userid_13617',\n",
       " 'userid_13621',\n",
       " 'userid_13622',\n",
       " 'userid_13628',\n",
       " 'userid_13630',\n",
       " 'userid_13645',\n",
       " 'userid_1365',\n",
       " 'userid_13659',\n",
       " 'userid_13664',\n",
       " 'userid_13671',\n",
       " 'userid_13675',\n",
       " 'userid_13678',\n",
       " 'userid_13697',\n",
       " 'userid_13705',\n",
       " 'userid_13706',\n",
       " 'userid_13711',\n",
       " 'userid_13718',\n",
       " 'userid_1372',\n",
       " 'userid_13730',\n",
       " 'userid_13748',\n",
       " 'userid_13759',\n",
       " 'userid_13763',\n",
       " 'userid_13764',\n",
       " 'userid_13765',\n",
       " 'userid_1377',\n",
       " 'userid_1380',\n",
       " 'userid_13814',\n",
       " 'userid_13839',\n",
       " 'userid_13842',\n",
       " 'userid_13850',\n",
       " 'userid_13852',\n",
       " 'userid_13856',\n",
       " 'userid_13858',\n",
       " 'userid_13861',\n",
       " 'userid_1387',\n",
       " 'userid_1389',\n",
       " 'userid_1391',\n",
       " 'userid_13913',\n",
       " 'userid_13914',\n",
       " 'userid_13921',\n",
       " 'userid_13930',\n",
       " 'userid_13938',\n",
       " 'userid_13940',\n",
       " 'userid_13955',\n",
       " 'userid_13963',\n",
       " 'userid_13966',\n",
       " 'userid_13969',\n",
       " 'userid_13979',\n",
       " 'userid_13980',\n",
       " 'userid_13983',\n",
       " 'userid_13996',\n",
       " 'userid_13997',\n",
       " 'userid_14006',\n",
       " 'userid_14008',\n",
       " 'userid_1401',\n",
       " 'userid_14014',\n",
       " 'userid_14024',\n",
       " 'userid_14030',\n",
       " 'userid_14037',\n",
       " 'userid_14038',\n",
       " 'userid_14042',\n",
       " 'userid_14044',\n",
       " 'userid_14046',\n",
       " 'userid_14049',\n",
       " 'userid_14050',\n",
       " 'userid_14061',\n",
       " 'userid_14063',\n",
       " 'userid_14066',\n",
       " 'userid_1407',\n",
       " 'userid_14077',\n",
       " 'userid_14079',\n",
       " 'userid_14080',\n",
       " 'userid_14082',\n",
       " 'userid_14087',\n",
       " 'userid_14092',\n",
       " 'userid_14098',\n",
       " 'userid_14105',\n",
       " 'userid_14113',\n",
       " 'userid_14114',\n",
       " 'userid_14115',\n",
       " 'userid_14117',\n",
       " 'userid_14128',\n",
       " 'userid_1413',\n",
       " 'userid_14132',\n",
       " 'userid_14140',\n",
       " 'userid_14141',\n",
       " 'userid_14155',\n",
       " 'userid_14159',\n",
       " 'userid_14164',\n",
       " 'userid_14167',\n",
       " 'userid_14169',\n",
       " 'userid_14172',\n",
       " 'userid_14181',\n",
       " 'userid_1419',\n",
       " 'userid_142',\n",
       " 'userid_14205',\n",
       " 'userid_1421',\n",
       " 'userid_14210',\n",
       " 'userid_14211',\n",
       " 'userid_14213',\n",
       " 'userid_14234',\n",
       " 'userid_14243',\n",
       " 'userid_14247',\n",
       " 'userid_14261',\n",
       " 'userid_14266',\n",
       " 'userid_14268',\n",
       " 'userid_14273',\n",
       " 'userid_14279',\n",
       " 'userid_14282',\n",
       " 'userid_14284',\n",
       " 'userid_14287',\n",
       " 'userid_14292',\n",
       " 'userid_14298',\n",
       " 'userid_14303',\n",
       " 'userid_14305',\n",
       " 'userid_14308',\n",
       " 'userid_14317',\n",
       " 'userid_14323',\n",
       " 'userid_14340',\n",
       " 'userid_14342',\n",
       " 'userid_14345',\n",
       " 'userid_14346',\n",
       " 'userid_14349',\n",
       " 'userid_14353',\n",
       " 'userid_14354',\n",
       " 'userid_14356',\n",
       " 'userid_14367',\n",
       " 'userid_14368',\n",
       " 'userid_14369',\n",
       " 'userid_14374',\n",
       " 'userid_14396',\n",
       " 'userid_14397',\n",
       " 'userid_14401',\n",
       " 'userid_14403',\n",
       " 'userid_14405',\n",
       " 'userid_14406',\n",
       " 'userid_14408',\n",
       " 'userid_14424',\n",
       " 'userid_14427',\n",
       " 'userid_1443',\n",
       " 'userid_14431',\n",
       " 'userid_14438',\n",
       " 'userid_14446',\n",
       " 'userid_14454',\n",
       " 'userid_14455',\n",
       " 'userid_14461',\n",
       " 'userid_14469',\n",
       " 'userid_1448',\n",
       " 'userid_14485',\n",
       " 'userid_14490',\n",
       " 'userid_14492',\n",
       " 'userid_14495',\n",
       " 'userid_14505',\n",
       " 'userid_14514',\n",
       " 'userid_14538',\n",
       " 'userid_14543',\n",
       " 'userid_14557',\n",
       " 'userid_14558',\n",
       " 'userid_1456',\n",
       " 'userid_14564',\n",
       " 'userid_14572',\n",
       " 'userid_14573',\n",
       " 'userid_14578',\n",
       " 'userid_14585',\n",
       " 'userid_1459',\n",
       " 'userid_14593',\n",
       " 'userid_14594',\n",
       " 'userid_14597',\n",
       " 'userid_14601',\n",
       " 'userid_14610',\n",
       " 'userid_14633',\n",
       " 'userid_14644',\n",
       " 'userid_14645',\n",
       " 'userid_14661',\n",
       " 'userid_14666',\n",
       " 'userid_1467',\n",
       " 'userid_14671',\n",
       " 'userid_14673',\n",
       " 'userid_14674',\n",
       " 'userid_14699',\n",
       " 'userid_14722',\n",
       " 'userid_14723',\n",
       " 'userid_14726',\n",
       " 'userid_14730',\n",
       " 'userid_14741',\n",
       " 'userid_14747',\n",
       " 'userid_14748',\n",
       " 'userid_14766',\n",
       " 'userid_14774',\n",
       " 'userid_14777',\n",
       " 'userid_14785',\n",
       " 'userid_14798',\n",
       " 'userid_14801',\n",
       " 'userid_14825',\n",
       " 'userid_14828',\n",
       " 'userid_14829',\n",
       " 'userid_1484',\n",
       " 'userid_14843',\n",
       " 'userid_14849',\n",
       " 'userid_1485',\n",
       " 'userid_1486',\n",
       " 'userid_14866',\n",
       " 'userid_14869',\n",
       " 'userid_14872',\n",
       " 'userid_14892',\n",
       " 'userid_14896',\n",
       " 'userid_1490',\n",
       " 'userid_14900',\n",
       " 'userid_14911',\n",
       " 'userid_14914',\n",
       " 'userid_14915',\n",
       " 'userid_14920',\n",
       " 'userid_14921',\n",
       " 'userid_14924',\n",
       " 'userid_14934',\n",
       " 'userid_14935',\n",
       " 'userid_14937',\n",
       " 'userid_14955',\n",
       " 'userid_14957',\n",
       " 'userid_14958',\n",
       " 'userid_14961',\n",
       " 'userid_14970',\n",
       " 'userid_14973',\n",
       " 'userid_14976',\n",
       " 'userid_14977',\n",
       " 'userid_14985',\n",
       " 'userid_14991',\n",
       " 'userid_15002',\n",
       " 'userid_1501',\n",
       " 'userid_15032',\n",
       " 'userid_15037',\n",
       " 'userid_15045',\n",
       " 'userid_15051',\n",
       " 'userid_15058',\n",
       " 'userid_15075',\n",
       " 'userid_1508',\n",
       " 'userid_15082',\n",
       " 'userid_15096',\n",
       " 'userid_15101',\n",
       " 'userid_15102',\n",
       " 'userid_15105',\n",
       " 'userid_15107',\n",
       " 'userid_1511',\n",
       " 'userid_1512',\n",
       " 'userid_15122',\n",
       " 'userid_15124',\n",
       " 'userid_15125',\n",
       " 'userid_15136',\n",
       " 'userid_15139',\n",
       " 'userid_15142',\n",
       " 'userid_15143',\n",
       " 'userid_15144',\n",
       " 'userid_15150',\n",
       " 'userid_15156',\n",
       " 'userid_15179',\n",
       " 'userid_15182',\n",
       " 'userid_15191',\n",
       " 'userid_152',\n",
       " 'userid_15207',\n",
       " 'userid_1521',\n",
       " 'userid_1523',\n",
       " 'userid_1525',\n",
       " 'userid_1529',\n",
       " 'userid_1535',\n",
       " 'userid_154',\n",
       " 'userid_1540',\n",
       " 'userid_1542',\n",
       " 'userid_1548',\n",
       " 'userid_1552',\n",
       " 'userid_1556',\n",
       " 'userid_1566',\n",
       " 'userid_1571',\n",
       " 'userid_1593',\n",
       " 'userid_1594',\n",
       " 'userid_1595',\n",
       " 'userid_1606',\n",
       " 'userid_1610',\n",
       " 'userid_1619',\n",
       " 'userid_1622',\n",
       " 'userid_164',\n",
       " 'userid_1659',\n",
       " 'userid_167',\n",
       " 'userid_1671',\n",
       " 'userid_1676',\n",
       " 'userid_1679',\n",
       " 'userid_1683',\n",
       " 'userid_1684',\n",
       " 'userid_1685',\n",
       " 'userid_1686',\n",
       " 'userid_1687',\n",
       " 'userid_1690',\n",
       " 'userid_1691',\n",
       " 'userid_1692',\n",
       " 'userid_1704',\n",
       " 'userid_1705',\n",
       " 'userid_1714',\n",
       " 'userid_1718',\n",
       " 'userid_172',\n",
       " 'userid_1720',\n",
       " 'userid_1722',\n",
       " 'userid_1724',\n",
       " 'userid_1725',\n",
       " 'userid_1726',\n",
       " 'userid_173',\n",
       " 'userid_1731',\n",
       " 'userid_1736',\n",
       " 'userid_1741',\n",
       " 'userid_1754',\n",
       " 'userid_1756',\n",
       " 'userid_1763',\n",
       " 'userid_1765',\n",
       " 'userid_1767',\n",
       " 'userid_1768',\n",
       " 'userid_1770',\n",
       " 'userid_1779',\n",
       " 'userid_1790',\n",
       " 'userid_180',\n",
       " 'userid_1800',\n",
       " 'userid_1802',\n",
       " 'userid_1803',\n",
       " 'userid_1807',\n",
       " 'userid_1810',\n",
       " 'userid_1812',\n",
       " 'userid_1819',\n",
       " 'userid_1831',\n",
       " 'userid_1833',\n",
       " 'userid_1834',\n",
       " 'userid_1839',\n",
       " 'userid_1849',\n",
       " 'userid_1853',\n",
       " 'userid_1878',\n",
       " 'userid_1879',\n",
       " 'userid_188',\n",
       " 'userid_1880',\n",
       " 'userid_1884',\n",
       " 'userid_190',\n",
       " 'userid_1903',\n",
       " 'userid_1918',\n",
       " 'userid_1921',\n",
       " 'userid_1931',\n",
       " 'userid_1935',\n",
       " 'userid_1948',\n",
       " 'userid_1955',\n",
       " 'userid_1959',\n",
       " 'userid_1960',\n",
       " 'userid_1963',\n",
       " 'userid_1964',\n",
       " 'userid_1966',\n",
       " 'userid_1993',\n",
       " 'userid_1998',\n",
       " 'userid_2',\n",
       " 'userid_20',\n",
       " 'userid_2005',\n",
       " 'userid_2006',\n",
       " 'userid_2010',\n",
       " 'userid_2017',\n",
       " 'userid_2019',\n",
       " 'userid_2029',\n",
       " 'userid_203',\n",
       " 'userid_2030',\n",
       " 'userid_204',\n",
       " 'userid_2040',\n",
       " 'userid_2052',\n",
       " 'userid_2058',\n",
       " 'userid_2074',\n",
       " 'userid_2087',\n",
       " 'userid_2091',\n",
       " 'userid_2096',\n",
       " 'userid_2107',\n",
       " 'userid_2111',\n",
       " 'userid_2114',\n",
       " 'userid_2127',\n",
       " 'userid_2128',\n",
       " 'userid_2130',\n",
       " 'userid_2132',\n",
       " 'userid_2137',\n",
       " 'userid_214',\n",
       " 'userid_2146',\n",
       " 'userid_2153',\n",
       " 'userid_2166',\n",
       " 'userid_2172',\n",
       " 'userid_2174',\n",
       " 'userid_2185',\n",
       " 'userid_2186',\n",
       " 'userid_2189',\n",
       " 'userid_2193',\n",
       " 'userid_220',\n",
       " 'userid_2200',\n",
       " 'userid_2202',\n",
       " 'userid_2214',\n",
       " 'userid_2218',\n",
       " 'userid_2228',\n",
       " 'userid_2237',\n",
       " 'userid_2243',\n",
       " 'userid_2246',\n",
       " 'userid_2247',\n",
       " 'userid_2253',\n",
       " 'userid_2255',\n",
       " 'userid_2266',\n",
       " 'userid_2288',\n",
       " 'userid_2302',\n",
       " 'userid_2303',\n",
       " 'userid_2321',\n",
       " 'userid_2327',\n",
       " 'userid_2330',\n",
       " 'userid_2332',\n",
       " 'userid_2336',\n",
       " 'userid_2340',\n",
       " 'userid_2343',\n",
       " 'userid_2361',\n",
       " 'userid_2367',\n",
       " 'userid_2368',\n",
       " ...]"
      ]
     },
     "execution_count": 85,
     "metadata": {},
     "output_type": "execute_result"
    }
   ],
   "source": [
    "# n_canciones = 2\n",
    "\n",
    "usuario_activo = generador_preferencias().sort_values(\"artist_id\")\n",
    "\n",
    "usuarios_count = usuarios[usuarios[\"artist_id\"].isin(usuario_activo[\"artist_id\"])].groupby(\"user_id\", as_index = False).agg({\"artist_id\" : \"count\"})\n",
    "\n",
    "lista_usuarios = usuarios_count[usuarios_count[\"artist_id\"] == usuario_activo.shape[0]][\"user_id\"].to_list()\n",
    "\n",
    "lista_usuarios"
   ]
  },
  {
   "cell_type": "code",
   "execution_count": 86,
   "metadata": {
    "tags": []
   },
   "outputs": [
    {
     "name": "stderr",
     "output_type": "stream",
     "text": [
      "/var/folders/d1/031rn2653ks13f7byzh2zxpr0000gn/T/ipykernel_20579/3042593484.py:1: UserWarning: Boolean Series key will be reindexed to match DataFrame index.\n",
      "  correlacion = usuarios.sort_values([\"user_id\", \"artist_id\"])[(usuarios[\"user_id\"].isin(lista_usuarios)) & (usuarios[\"artist_id\"].isin(usuario_activo[\"artist_id\"]))][[\"user_id\", \"like\"]]\n"
     ]
    },
    {
     "data": {
      "text/html": [
       "<div>\n",
       "<style scoped>\n",
       "    .dataframe tbody tr th:only-of-type {\n",
       "        vertical-align: middle;\n",
       "    }\n",
       "\n",
       "    .dataframe tbody tr th {\n",
       "        vertical-align: top;\n",
       "    }\n",
       "\n",
       "    .dataframe thead th {\n",
       "        text-align: right;\n",
       "    }\n",
       "</style>\n",
       "<table border=\"1\" class=\"dataframe\">\n",
       "  <thead>\n",
       "    <tr style=\"text-align: right;\">\n",
       "      <th></th>\n",
       "      <th>user_id</th>\n",
       "      <th>like</th>\n",
       "    </tr>\n",
       "  </thead>\n",
       "  <tbody>\n",
       "    <tr>\n",
       "      <th>94</th>\n",
       "      <td>userid_0</td>\n",
       "      <td>6</td>\n",
       "    </tr>\n",
       "    <tr>\n",
       "      <th>129</th>\n",
       "      <td>userid_0</td>\n",
       "      <td>2</td>\n",
       "    </tr>\n",
       "    <tr>\n",
       "      <th>164</th>\n",
       "      <td>userid_0</td>\n",
       "      <td>10</td>\n",
       "    </tr>\n",
       "    <tr>\n",
       "      <th>184</th>\n",
       "      <td>userid_0</td>\n",
       "      <td>5</td>\n",
       "    </tr>\n",
       "    <tr>\n",
       "      <th>215</th>\n",
       "      <td>userid_0</td>\n",
       "      <td>6</td>\n",
       "    </tr>\n",
       "    <tr>\n",
       "      <th>...</th>\n",
       "      <td>...</td>\n",
       "      <td>...</td>\n",
       "    </tr>\n",
       "    <tr>\n",
       "      <th>2498821</th>\n",
       "      <td>userid_9999</td>\n",
       "      <td>8</td>\n",
       "    </tr>\n",
       "    <tr>\n",
       "      <th>2498859</th>\n",
       "      <td>userid_9999</td>\n",
       "      <td>5</td>\n",
       "    </tr>\n",
       "    <tr>\n",
       "      <th>2498888</th>\n",
       "      <td>userid_9999</td>\n",
       "      <td>4</td>\n",
       "    </tr>\n",
       "    <tr>\n",
       "      <th>2498916</th>\n",
       "      <td>userid_9999</td>\n",
       "      <td>6</td>\n",
       "    </tr>\n",
       "    <tr>\n",
       "      <th>2498975</th>\n",
       "      <td>userid_9999</td>\n",
       "      <td>7</td>\n",
       "    </tr>\n",
       "  </tbody>\n",
       "</table>\n",
       "<p>11530 rows × 2 columns</p>\n",
       "</div>"
      ],
      "text/plain": [
       "             user_id  like\n",
       "94          userid_0     6\n",
       "129         userid_0     2\n",
       "164         userid_0    10\n",
       "184         userid_0     5\n",
       "215         userid_0     6\n",
       "...              ...   ...\n",
       "2498821  userid_9999     8\n",
       "2498859  userid_9999     5\n",
       "2498888  userid_9999     4\n",
       "2498916  userid_9999     6\n",
       "2498975  userid_9999     7\n",
       "\n",
       "[11530 rows x 2 columns]"
      ]
     },
     "execution_count": 86,
     "metadata": {},
     "output_type": "execute_result"
    }
   ],
   "source": [
    "correlacion = usuarios.sort_values([\"user_id\", \"artist_id\"])[(usuarios[\"user_id\"].isin(lista_usuarios)) & (usuarios[\"artist_id\"].isin(usuario_activo[\"artist_id\"]))][[\"user_id\", \"like\"]]\n",
    "\n",
    "correlacion"
   ]
  },
  {
   "cell_type": "code",
   "execution_count": 87,
   "metadata": {
    "tags": []
   },
   "outputs": [
    {
     "data": {
      "text/html": [
       "<div>\n",
       "<style scoped>\n",
       "    .dataframe tbody tr th:only-of-type {\n",
       "        vertical-align: middle;\n",
       "    }\n",
       "\n",
       "    .dataframe tbody tr th {\n",
       "        vertical-align: top;\n",
       "    }\n",
       "\n",
       "    .dataframe thead th {\n",
       "        text-align: right;\n",
       "    }\n",
       "</style>\n",
       "<table border=\"1\" class=\"dataframe\">\n",
       "  <thead>\n",
       "    <tr style=\"text-align: right;\">\n",
       "      <th></th>\n",
       "      <th>artist_id</th>\n",
       "      <th>score</th>\n",
       "    </tr>\n",
       "  </thead>\n",
       "  <tbody>\n",
       "    <tr>\n",
       "      <th>0</th>\n",
       "      <td>06HL4z0CvFAxyc27GXpf02</td>\n",
       "      <td>8</td>\n",
       "    </tr>\n",
       "    <tr>\n",
       "      <th>4</th>\n",
       "      <td>1lUCH7LGT6XkhM47jQVGiD</td>\n",
       "      <td>3</td>\n",
       "    </tr>\n",
       "    <tr>\n",
       "      <th>2</th>\n",
       "      <td>2UZIAOlrnyZmyzt1nuXr9y</td>\n",
       "      <td>9</td>\n",
       "    </tr>\n",
       "    <tr>\n",
       "      <th>1</th>\n",
       "      <td>2o5jDhtHVPhrJdv3cEQ99Z</td>\n",
       "      <td>10</td>\n",
       "    </tr>\n",
       "    <tr>\n",
       "      <th>3</th>\n",
       "      <td>5KTSB8X0opC29aSVK5f0vm</td>\n",
       "      <td>10</td>\n",
       "    </tr>\n",
       "  </tbody>\n",
       "</table>\n",
       "</div>"
      ],
      "text/plain": [
       "                artist_id  score\n",
       "0  06HL4z0CvFAxyc27GXpf02      8\n",
       "4  1lUCH7LGT6XkhM47jQVGiD      3\n",
       "2  2UZIAOlrnyZmyzt1nuXr9y      9\n",
       "1  2o5jDhtHVPhrJdv3cEQ99Z     10\n",
       "3  5KTSB8X0opC29aSVK5f0vm     10"
      ]
     },
     "execution_count": 87,
     "metadata": {},
     "output_type": "execute_result"
    }
   ],
   "source": [
    "usuario_activo"
   ]
  },
  {
   "cell_type": "code",
   "execution_count": 88,
   "metadata": {
    "tags": []
   },
   "outputs": [
    {
     "data": {
      "text/html": [
       "<div>\n",
       "<style scoped>\n",
       "    .dataframe tbody tr th:only-of-type {\n",
       "        vertical-align: middle;\n",
       "    }\n",
       "\n",
       "    .dataframe tbody tr th {\n",
       "        vertical-align: top;\n",
       "    }\n",
       "\n",
       "    .dataframe thead th {\n",
       "        text-align: right;\n",
       "    }\n",
       "</style>\n",
       "<table border=\"1\" class=\"dataframe\">\n",
       "  <thead>\n",
       "    <tr style=\"text-align: right;\">\n",
       "      <th></th>\n",
       "      <th>user_id</th>\n",
       "      <th>similitud</th>\n",
       "    </tr>\n",
       "  </thead>\n",
       "  <tbody>\n",
       "    <tr>\n",
       "      <th>520</th>\n",
       "      <td>userid_13212</td>\n",
       "      <td>0.998209</td>\n",
       "    </tr>\n",
       "    <tr>\n",
       "      <th>1027</th>\n",
       "      <td>userid_2570</td>\n",
       "      <td>0.998115</td>\n",
       "    </tr>\n",
       "    <tr>\n",
       "      <th>1013</th>\n",
       "      <td>userid_250</td>\n",
       "      <td>0.997690</td>\n",
       "    </tr>\n",
       "    <tr>\n",
       "      <th>704</th>\n",
       "      <td>userid_14317</td>\n",
       "      <td>0.997132</td>\n",
       "    </tr>\n",
       "    <tr>\n",
       "      <th>1124</th>\n",
       "      <td>userid_3173</td>\n",
       "      <td>0.996578</td>\n",
       "    </tr>\n",
       "    <tr>\n",
       "      <th>...</th>\n",
       "      <td>...</td>\n",
       "      <td>...</td>\n",
       "    </tr>\n",
       "    <tr>\n",
       "      <th>1771</th>\n",
       "      <td>userid_6941</td>\n",
       "      <td>0.537893</td>\n",
       "    </tr>\n",
       "    <tr>\n",
       "      <th>1333</th>\n",
       "      <td>userid_4350</td>\n",
       "      <td>0.532936</td>\n",
       "    </tr>\n",
       "    <tr>\n",
       "      <th>1275</th>\n",
       "      <td>userid_4061</td>\n",
       "      <td>0.523503</td>\n",
       "    </tr>\n",
       "    <tr>\n",
       "      <th>283</th>\n",
       "      <td>userid_11683</td>\n",
       "      <td>0.513223</td>\n",
       "    </tr>\n",
       "    <tr>\n",
       "      <th>108</th>\n",
       "      <td>userid_10714</td>\n",
       "      <td>0.395637</td>\n",
       "    </tr>\n",
       "  </tbody>\n",
       "</table>\n",
       "<p>2306 rows × 2 columns</p>\n",
       "</div>"
      ],
      "text/plain": [
       "           user_id  similitud\n",
       "520   userid_13212   0.998209\n",
       "1027   userid_2570   0.998115\n",
       "1013    userid_250   0.997690\n",
       "704   userid_14317   0.997132\n",
       "1124   userid_3173   0.996578\n",
       "...            ...        ...\n",
       "1771   userid_6941   0.537893\n",
       "1333   userid_4350   0.532936\n",
       "1275   userid_4061   0.523503\n",
       "283   userid_11683   0.513223\n",
       "108   userid_10714   0.395637\n",
       "\n",
       "[2306 rows x 2 columns]"
      ]
     },
     "execution_count": 88,
     "metadata": {},
     "output_type": "execute_result"
    }
   ],
   "source": [
    "similitud = list()\n",
    "\n",
    "for user_id in correlacion[\"user_id\"].unique():\n",
    "    \n",
    "    user_ = correlacion[correlacion[\"user_id\"] == user_id][\"like\"].values.reshape(1, -1)\n",
    "    \n",
    "    similitud.append([user_id, cosine_similarity(usuario_activo[\"score\"].values.reshape(1, -1), user_)[0][0]])\n",
    "    \n",
    "df_correlacion_usuario = pd.DataFrame(similitud, columns = [\"user_id\", \"similitud\"])\n",
    "\n",
    "df_correlacion_usuario.sort_values(\"similitud\", ascending = False)"
   ]
  },
  {
   "cell_type": "code",
   "execution_count": 89,
   "metadata": {
    "tags": []
   },
   "outputs": [],
   "source": [
    "#Borrar los artistas que \n",
    "artistas_borrados = usuarios[(usuarios[\"user_id\"].isin(df_correlacion_usuario[\"user_id\"])) & ~(usuarios[\"artist_id\"].isin(usuario_activo[\"artist_id\"]))]"
   ]
  },
  {
   "cell_type": "code",
   "execution_count": 90,
   "metadata": {
    "tags": []
   },
   "outputs": [
    {
     "data": {
      "text/html": [
       "<div>\n",
       "<style scoped>\n",
       "    .dataframe tbody tr th:only-of-type {\n",
       "        vertical-align: middle;\n",
       "    }\n",
       "\n",
       "    .dataframe tbody tr th {\n",
       "        vertical-align: top;\n",
       "    }\n",
       "\n",
       "    .dataframe thead th {\n",
       "        text-align: right;\n",
       "    }\n",
       "</style>\n",
       "<table border=\"1\" class=\"dataframe\">\n",
       "  <thead>\n",
       "    <tr style=\"text-align: right;\">\n",
       "      <th></th>\n",
       "      <th>user_id</th>\n",
       "      <th>similitud</th>\n",
       "      <th>like</th>\n",
       "      <th>artist_id</th>\n",
       "    </tr>\n",
       "  </thead>\n",
       "  <tbody>\n",
       "    <tr>\n",
       "      <th>0</th>\n",
       "      <td>userid_0</td>\n",
       "      <td>0.952213</td>\n",
       "      <td>3</td>\n",
       "      <td>3uCTdq9rOnPCAlJMc4OzGn</td>\n",
       "    </tr>\n",
       "    <tr>\n",
       "      <th>1</th>\n",
       "      <td>userid_0</td>\n",
       "      <td>0.952213</td>\n",
       "      <td>10</td>\n",
       "      <td>2CgVSpL4tfbUuHmTGS7wF3</td>\n",
       "    </tr>\n",
       "    <tr>\n",
       "      <th>2</th>\n",
       "      <td>userid_0</td>\n",
       "      <td>0.952213</td>\n",
       "      <td>5</td>\n",
       "      <td>5pxb4FJJzapQG0J5zmX2jz</td>\n",
       "    </tr>\n",
       "    <tr>\n",
       "      <th>3</th>\n",
       "      <td>userid_0</td>\n",
       "      <td>0.952213</td>\n",
       "      <td>5</td>\n",
       "      <td>70ZKqVQq6G7hFqty4aXEQ0</td>\n",
       "    </tr>\n",
       "    <tr>\n",
       "      <th>4</th>\n",
       "      <td>userid_0</td>\n",
       "      <td>0.952213</td>\n",
       "      <td>5</td>\n",
       "      <td>4E69riquObrTmBTVuF1b7B</td>\n",
       "    </tr>\n",
       "    <tr>\n",
       "      <th>...</th>\n",
       "      <td>...</td>\n",
       "      <td>...</td>\n",
       "      <td>...</td>\n",
       "      <td>...</td>\n",
       "    </tr>\n",
       "    <tr>\n",
       "      <th>556071</th>\n",
       "      <td>userid_9999</td>\n",
       "      <td>0.944686</td>\n",
       "      <td>1</td>\n",
       "      <td>7876yxNFs1YW0HyQCgcdoF</td>\n",
       "    </tr>\n",
       "    <tr>\n",
       "      <th>556072</th>\n",
       "      <td>userid_9999</td>\n",
       "      <td>0.944686</td>\n",
       "      <td>4</td>\n",
       "      <td>6o5ZRWDGa1iu5wvojk9HKB</td>\n",
       "    </tr>\n",
       "    <tr>\n",
       "      <th>556073</th>\n",
       "      <td>userid_9999</td>\n",
       "      <td>0.944686</td>\n",
       "      <td>3</td>\n",
       "      <td>6Y1mffmPmnLmBscjXWMERK</td>\n",
       "    </tr>\n",
       "    <tr>\n",
       "      <th>556074</th>\n",
       "      <td>userid_9999</td>\n",
       "      <td>0.944686</td>\n",
       "      <td>3</td>\n",
       "      <td>0lwfj9lWtkPxdIWDU1bRqc</td>\n",
       "    </tr>\n",
       "    <tr>\n",
       "      <th>556075</th>\n",
       "      <td>userid_9999</td>\n",
       "      <td>0.944686</td>\n",
       "      <td>6</td>\n",
       "      <td>1TOsG8cjVKJ8aSs5MRCfXJ</td>\n",
       "    </tr>\n",
       "  </tbody>\n",
       "</table>\n",
       "<p>556076 rows × 4 columns</p>\n",
       "</div>"
      ],
      "text/plain": [
       "            user_id  similitud  like               artist_id\n",
       "0          userid_0   0.952213     3  3uCTdq9rOnPCAlJMc4OzGn\n",
       "1          userid_0   0.952213    10  2CgVSpL4tfbUuHmTGS7wF3\n",
       "2          userid_0   0.952213     5  5pxb4FJJzapQG0J5zmX2jz\n",
       "3          userid_0   0.952213     5  70ZKqVQq6G7hFqty4aXEQ0\n",
       "4          userid_0   0.952213     5  4E69riquObrTmBTVuF1b7B\n",
       "...             ...        ...   ...                     ...\n",
       "556071  userid_9999   0.944686     1  7876yxNFs1YW0HyQCgcdoF\n",
       "556072  userid_9999   0.944686     4  6o5ZRWDGa1iu5wvojk9HKB\n",
       "556073  userid_9999   0.944686     3  6Y1mffmPmnLmBscjXWMERK\n",
       "556074  userid_9999   0.944686     3  0lwfj9lWtkPxdIWDU1bRqc\n",
       "556075  userid_9999   0.944686     6  1TOsG8cjVKJ8aSs5MRCfXJ\n",
       "\n",
       "[556076 rows x 4 columns]"
      ]
     },
     "execution_count": 90,
     "metadata": {},
     "output_type": "execute_result"
    }
   ],
   "source": [
    "df_ratings_subset = df_correlacion_usuario.merge(artistas_borrados, on = \"user_id\")\n",
    "df_ratings_subset"
   ]
  },
  {
   "cell_type": "code",
   "execution_count": 91,
   "metadata": {
    "tags": []
   },
   "outputs": [],
   "source": [
    "df_ratings_subset['weight'] = df_ratings_subset['like'] * df_ratings_subset['similitud']"
   ]
  },
  {
   "cell_type": "code",
   "execution_count": 92,
   "metadata": {
    "tags": []
   },
   "outputs": [],
   "source": [
    "df_ratings_subset_agg = df_ratings_subset.groupby(\"artist_id\", as_index = False).agg({\"weight\": \"sum\", \"similitud\":\"sum\"})"
   ]
  },
  {
   "cell_type": "code",
   "execution_count": 93,
   "metadata": {
    "tags": []
   },
   "outputs": [
    {
     "data": {
      "text/html": [
       "<div>\n",
       "<style scoped>\n",
       "    .dataframe tbody tr th:only-of-type {\n",
       "        vertical-align: middle;\n",
       "    }\n",
       "\n",
       "    .dataframe tbody tr th {\n",
       "        vertical-align: top;\n",
       "    }\n",
       "\n",
       "    .dataframe thead th {\n",
       "        text-align: right;\n",
       "    }\n",
       "</style>\n",
       "<table border=\"1\" class=\"dataframe\">\n",
       "  <thead>\n",
       "    <tr style=\"text-align: right;\">\n",
       "      <th></th>\n",
       "      <th>artist_id</th>\n",
       "      <th>weight</th>\n",
       "      <th>similitud</th>\n",
       "    </tr>\n",
       "  </thead>\n",
       "  <tbody>\n",
       "    <tr>\n",
       "      <th>0</th>\n",
       "      <td>000Dq0VqTZpxOP6jQMscVL</td>\n",
       "      <td>184.602682</td>\n",
       "      <td>33.551293</td>\n",
       "    </tr>\n",
       "    <tr>\n",
       "      <th>1</th>\n",
       "      <td>00190FC20vIUv0wXpeTf8S</td>\n",
       "      <td>184.046087</td>\n",
       "      <td>35.508214</td>\n",
       "    </tr>\n",
       "    <tr>\n",
       "      <th>2</th>\n",
       "      <td>002nyxOMwdc9EgNEo7ETcF</td>\n",
       "      <td>279.275831</td>\n",
       "      <td>51.122974</td>\n",
       "    </tr>\n",
       "    <tr>\n",
       "      <th>3</th>\n",
       "      <td>003f4bk13c6Q3gAUXv7dGJ</td>\n",
       "      <td>1099.507541</td>\n",
       "      <td>198.615781</td>\n",
       "    </tr>\n",
       "    <tr>\n",
       "      <th>4</th>\n",
       "      <td>00AUnQaXE6XTTZvr7kgNHb</td>\n",
       "      <td>208.278959</td>\n",
       "      <td>39.026852</td>\n",
       "    </tr>\n",
       "    <tr>\n",
       "      <th>...</th>\n",
       "      <td>...</td>\n",
       "      <td>...</td>\n",
       "      <td>...</td>\n",
       "    </tr>\n",
       "    <tr>\n",
       "      <th>9737</th>\n",
       "      <td>7zkwepHPyac6tCYl0fL0co</td>\n",
       "      <td>235.347251</td>\n",
       "      <td>43.966758</td>\n",
       "    </tr>\n",
       "    <tr>\n",
       "      <th>9738</th>\n",
       "      <td>7zla0bcNDIUPym1Jj7ChEm</td>\n",
       "      <td>218.931945</td>\n",
       "      <td>41.009730</td>\n",
       "    </tr>\n",
       "    <tr>\n",
       "      <th>9739</th>\n",
       "      <td>7zmk5lkmCMVvfvwF3H8FWC</td>\n",
       "      <td>193.681928</td>\n",
       "      <td>34.308951</td>\n",
       "    </tr>\n",
       "    <tr>\n",
       "      <th>9740</th>\n",
       "      <td>7zmuMr74dNGqjq74uibncO</td>\n",
       "      <td>170.812737</td>\n",
       "      <td>34.526485</td>\n",
       "    </tr>\n",
       "    <tr>\n",
       "      <th>9741</th>\n",
       "      <td>7zwiFdY90oXzLh1Wz22oEq</td>\n",
       "      <td>179.027034</td>\n",
       "      <td>36.621023</td>\n",
       "    </tr>\n",
       "  </tbody>\n",
       "</table>\n",
       "<p>9742 rows × 3 columns</p>\n",
       "</div>"
      ],
      "text/plain": [
       "                   artist_id       weight   similitud\n",
       "0     000Dq0VqTZpxOP6jQMscVL   184.602682   33.551293\n",
       "1     00190FC20vIUv0wXpeTf8S   184.046087   35.508214\n",
       "2     002nyxOMwdc9EgNEo7ETcF   279.275831   51.122974\n",
       "3     003f4bk13c6Q3gAUXv7dGJ  1099.507541  198.615781\n",
       "4     00AUnQaXE6XTTZvr7kgNHb   208.278959   39.026852\n",
       "...                      ...          ...         ...\n",
       "9737  7zkwepHPyac6tCYl0fL0co   235.347251   43.966758\n",
       "9738  7zla0bcNDIUPym1Jj7ChEm   218.931945   41.009730\n",
       "9739  7zmk5lkmCMVvfvwF3H8FWC   193.681928   34.308951\n",
       "9740  7zmuMr74dNGqjq74uibncO   170.812737   34.526485\n",
       "9741  7zwiFdY90oXzLh1Wz22oEq   179.027034   36.621023\n",
       "\n",
       "[9742 rows x 3 columns]"
      ]
     },
     "execution_count": 93,
     "metadata": {},
     "output_type": "execute_result"
    }
   ],
   "source": [
    "df_ratings_subset_agg"
   ]
  },
  {
   "cell_type": "code",
   "execution_count": 94,
   "metadata": {
    "tags": []
   },
   "outputs": [],
   "source": [
    "df_ratings_subset_agg['final'] = df_ratings_subset_agg['weight']  / df_ratings_subset_agg['similitud'] "
   ]
  },
  {
   "cell_type": "code",
   "execution_count": 95,
   "metadata": {
    "tags": []
   },
   "outputs": [],
   "source": [
    "df_ratings_subset_agg = df_ratings_subset_agg.merge(spotify_features_data_reducido, on = \"artist_id\").drop_duplicates(\"artist_id\")"
   ]
  },
  {
   "cell_type": "code",
   "execution_count": 96,
   "metadata": {
    "tags": []
   },
   "outputs": [],
   "source": [
    "df_ratings_subset_agg = df_ratings_subset_agg.sort_values(by = \"final\", ascending=False)"
   ]
  },
  {
   "cell_type": "code",
   "execution_count": 98,
   "metadata": {
    "tags": []
   },
   "outputs": [
    {
     "data": {
      "text/html": [
       "<div>\n",
       "<style scoped>\n",
       "    .dataframe tbody tr th:only-of-type {\n",
       "        vertical-align: middle;\n",
       "    }\n",
       "\n",
       "    .dataframe tbody tr th {\n",
       "        vertical-align: top;\n",
       "    }\n",
       "\n",
       "    .dataframe thead th {\n",
       "        text-align: right;\n",
       "    }\n",
       "</style>\n",
       "<table border=\"1\" class=\"dataframe\">\n",
       "  <thead>\n",
       "    <tr style=\"text-align: right;\">\n",
       "      <th></th>\n",
       "      <th>artist_id</th>\n",
       "      <th>weight</th>\n",
       "      <th>similitud</th>\n",
       "      <th>final</th>\n",
       "      <th>album_id</th>\n",
       "      <th>album_name</th>\n",
       "      <th>album_popularity</th>\n",
       "      <th>genre_0</th>\n",
       "      <th>album_type</th>\n",
       "      <th>artists</th>\n",
       "      <th>...</th>\n",
       "      <th>loudness</th>\n",
       "      <th>mode</th>\n",
       "      <th>speechiness</th>\n",
       "      <th>tempo</th>\n",
       "      <th>time_signature</th>\n",
       "      <th>uri</th>\n",
       "      <th>valence</th>\n",
       "      <th>explicit</th>\n",
       "      <th>track_popularity</th>\n",
       "      <th>followers</th>\n",
       "    </tr>\n",
       "  </thead>\n",
       "  <tbody>\n",
       "    <tr>\n",
       "      <th>80224</th>\n",
       "      <td>3CTVuBqbBrMYFl5Vjt429a</td>\n",
       "      <td>228.990762</td>\n",
       "      <td>30.828486</td>\n",
       "      <td>7.427895</td>\n",
       "      <td>5Uvcn0gYvYUFC1f8asaBLZ</td>\n",
       "      <td>50 Ultimate Winter Rain Sounds &amp; Rain Sounds</td>\n",
       "      <td>0</td>\n",
       "      <td>environmental</td>\n",
       "      <td>album</td>\n",
       "      <td>a sudden rainstorm</td>\n",
       "      <td>...</td>\n",
       "      <td>-19.629</td>\n",
       "      <td>1.0</td>\n",
       "      <td>0.0436</td>\n",
       "      <td>90.454</td>\n",
       "      <td>3.0</td>\n",
       "      <td>spotify:track:6FpS8PgmBJEuLHN0S5boZK</td>\n",
       "      <td>0.0213</td>\n",
       "      <td>False</td>\n",
       "      <td>0.0</td>\n",
       "      <td>238</td>\n",
       "    </tr>\n",
       "    <tr>\n",
       "      <th>165983</th>\n",
       "      <td>6PEMFpe3PTOksdV4ZXUpbE</td>\n",
       "      <td>192.718117</td>\n",
       "      <td>27.300110</td>\n",
       "      <td>7.059243</td>\n",
       "      <td>1o8zUe3QYHV42SHSsg6ffu</td>\n",
       "      <td>Where I Go (Feat. H.E.R.)</td>\n",
       "      <td>55</td>\n",
       "      <td>alternative r&amp;b</td>\n",
       "      <td>single</td>\n",
       "      <td>nxworries</td>\n",
       "      <td>...</td>\n",
       "      <td>-15.498</td>\n",
       "      <td>0.0</td>\n",
       "      <td>0.2060</td>\n",
       "      <td>87.865</td>\n",
       "      <td>4.0</td>\n",
       "      <td>spotify:track:3MlQPB0wJuopo3NTZGlMpI</td>\n",
       "      <td>0.7740</td>\n",
       "      <td>True</td>\n",
       "      <td>64.0</td>\n",
       "      <td>268152</td>\n",
       "    </tr>\n",
       "    <tr>\n",
       "      <th>95565</th>\n",
       "      <td>3pDqLo5LnCyCBxhKZygkfK</td>\n",
       "      <td>242.433654</td>\n",
       "      <td>34.377073</td>\n",
       "      <td>7.052190</td>\n",
       "      <td>25UZUqLrtmjKl6tuOhmybG</td>\n",
       "      <td>Silent Future</td>\n",
       "      <td>25</td>\n",
       "      <td>post-doom metal</td>\n",
       "      <td>album</td>\n",
       "      <td>rezn</td>\n",
       "      <td>...</td>\n",
       "      <td>-11.438</td>\n",
       "      <td>1.0</td>\n",
       "      <td>0.0374</td>\n",
       "      <td>117.957</td>\n",
       "      <td>4.0</td>\n",
       "      <td>spotify:track:4Dl8d9o5Wj8TrmHwJQKkbm</td>\n",
       "      <td>0.1400</td>\n",
       "      <td>False</td>\n",
       "      <td>23.0</td>\n",
       "      <td>24940</td>\n",
       "    </tr>\n",
       "  </tbody>\n",
       "</table>\n",
       "<p>3 rows × 32 columns</p>\n",
       "</div>"
      ],
      "text/plain": [
       "                     artist_id      weight  similitud     final  \\\n",
       "80224   3CTVuBqbBrMYFl5Vjt429a  228.990762  30.828486  7.427895   \n",
       "165983  6PEMFpe3PTOksdV4ZXUpbE  192.718117  27.300110  7.059243   \n",
       "95565   3pDqLo5LnCyCBxhKZygkfK  242.433654  34.377073  7.052190   \n",
       "\n",
       "                      album_id                                    album_name  \\\n",
       "80224   5Uvcn0gYvYUFC1f8asaBLZ  50 Ultimate Winter Rain Sounds & Rain Sounds   \n",
       "165983  1o8zUe3QYHV42SHSsg6ffu                     Where I Go (Feat. H.E.R.)   \n",
       "95565   25UZUqLrtmjKl6tuOhmybG                                 Silent Future   \n",
       "\n",
       "        album_popularity          genre_0 album_type             artists  ...  \\\n",
       "80224                  0    environmental      album  a sudden rainstorm  ...   \n",
       "165983                55  alternative r&b     single           nxworries  ...   \n",
       "95565                 25  post-doom metal      album                rezn  ...   \n",
       "\n",
       "        loudness mode speechiness    tempo  time_signature  \\\n",
       "80224    -19.629  1.0      0.0436   90.454             3.0   \n",
       "165983   -15.498  0.0      0.2060   87.865             4.0   \n",
       "95565    -11.438  1.0      0.0374  117.957             4.0   \n",
       "\n",
       "                                         uri  valence  explicit  \\\n",
       "80224   spotify:track:6FpS8PgmBJEuLHN0S5boZK   0.0213     False   \n",
       "165983  spotify:track:3MlQPB0wJuopo3NTZGlMpI   0.7740      True   \n",
       "95565   spotify:track:4Dl8d9o5Wj8TrmHwJQKkbm   0.1400     False   \n",
       "\n",
       "        track_popularity  followers  \n",
       "80224                0.0        238  \n",
       "165983              64.0     268152  \n",
       "95565               23.0      24940  \n",
       "\n",
       "[3 rows x 32 columns]"
      ]
     },
     "execution_count": 98,
     "metadata": {},
     "output_type": "execute_result"
    }
   ],
   "source": [
    "df_ratings_subset_agg.head(3)"
   ]
  },
  {
   "cell_type": "code",
   "execution_count": 101,
   "metadata": {
    "tags": []
   },
   "outputs": [
    {
     "name": "stdout",
     "output_type": "stream",
     "text": [
      "<class 'pandas.core.frame.DataFrame'>\n",
      "Index: 3 entries, 80224 to 95565\n",
      "Data columns (total 32 columns):\n",
      " #   Column             Non-Null Count  Dtype  \n",
      "---  ------             --------------  -----  \n",
      " 0   artist_id          3 non-null      object \n",
      " 1   weight             3 non-null      float64\n",
      " 2   similitud          3 non-null      float64\n",
      " 3   final              3 non-null      float64\n",
      " 4   album_id           3 non-null      object \n",
      " 5   album_name         3 non-null      object \n",
      " 6   album_popularity   3 non-null      int64  \n",
      " 7   genre_0            3 non-null      object \n",
      " 8   album_type         3 non-null      object \n",
      " 9   artists            3 non-null      object \n",
      " 10  duration_sec       3 non-null      float64\n",
      " 11  track_id           3 non-null      object \n",
      " 12  track_name         3 non-null      object \n",
      " 13  artist_genres      3 non-null      object \n",
      " 14  artist_popularity  3 non-null      int64  \n",
      " 15  name               3 non-null      object \n",
      " 16  acousticness       3 non-null      float64\n",
      " 17  danceability       3 non-null      float64\n",
      " 18  energy             3 non-null      float64\n",
      " 19  instrumentalness   3 non-null      float64\n",
      " 20  key                3 non-null      float64\n",
      " 21  liveness           3 non-null      float64\n",
      " 22  loudness           3 non-null      float64\n",
      " 23  mode               3 non-null      float64\n",
      " 24  speechiness        3 non-null      float64\n",
      " 25  tempo              3 non-null      float64\n",
      " 26  time_signature     3 non-null      float64\n",
      " 27  uri                3 non-null      object \n",
      " 28  valence            3 non-null      float64\n",
      " 29  explicit           3 non-null      object \n",
      " 30  track_popularity   3 non-null      float64\n",
      " 31  followers          3 non-null      int64  \n",
      "dtypes: float64(17), int64(3), object(12)\n",
      "memory usage: 792.0+ bytes\n"
     ]
    }
   ],
   "source": [
    "top_recomendaciones = df_ratings_subset_agg.head(3)\n",
    "top_recomendaciones.info()"
   ]
  },
  {
   "cell_type": "code",
   "execution_count": 105,
   "metadata": {
    "tags": []
   },
   "outputs": [
    {
     "data": {
      "text/html": [
       "<div>\n",
       "<style scoped>\n",
       "    .dataframe tbody tr th:only-of-type {\n",
       "        vertical-align: middle;\n",
       "    }\n",
       "\n",
       "    .dataframe tbody tr th {\n",
       "        vertical-align: top;\n",
       "    }\n",
       "\n",
       "    .dataframe thead th {\n",
       "        text-align: right;\n",
       "    }\n",
       "</style>\n",
       "<table border=\"1\" class=\"dataframe\">\n",
       "  <thead>\n",
       "    <tr style=\"text-align: right;\">\n",
       "      <th></th>\n",
       "      <th>artist_id</th>\n",
       "      <th>weight</th>\n",
       "      <th>similitud</th>\n",
       "      <th>final</th>\n",
       "      <th>album_id</th>\n",
       "      <th>album_name</th>\n",
       "      <th>album_popularity</th>\n",
       "      <th>genre_0</th>\n",
       "      <th>album_type</th>\n",
       "      <th>artists</th>\n",
       "      <th>...</th>\n",
       "      <th>loudness</th>\n",
       "      <th>mode</th>\n",
       "      <th>speechiness</th>\n",
       "      <th>tempo</th>\n",
       "      <th>time_signature</th>\n",
       "      <th>uri</th>\n",
       "      <th>valence</th>\n",
       "      <th>explicit</th>\n",
       "      <th>track_popularity</th>\n",
       "      <th>followers</th>\n",
       "    </tr>\n",
       "  </thead>\n",
       "  <tbody>\n",
       "    <tr>\n",
       "      <th>80224</th>\n",
       "      <td>3CTVuBqbBrMYFl5Vjt429a</td>\n",
       "      <td>228.990762</td>\n",
       "      <td>30.828486</td>\n",
       "      <td>7.427895</td>\n",
       "      <td>5Uvcn0gYvYUFC1f8asaBLZ</td>\n",
       "      <td>50 Ultimate Winter Rain Sounds &amp; Rain Sounds</td>\n",
       "      <td>0</td>\n",
       "      <td>environmental</td>\n",
       "      <td>album</td>\n",
       "      <td>a sudden rainstorm</td>\n",
       "      <td>...</td>\n",
       "      <td>-19.629</td>\n",
       "      <td>1.0</td>\n",
       "      <td>0.0436</td>\n",
       "      <td>90.454</td>\n",
       "      <td>3.0</td>\n",
       "      <td>spotify:track:6FpS8PgmBJEuLHN0S5boZK</td>\n",
       "      <td>0.0213</td>\n",
       "      <td>False</td>\n",
       "      <td>0.0</td>\n",
       "      <td>238</td>\n",
       "    </tr>\n",
       "    <tr>\n",
       "      <th>165983</th>\n",
       "      <td>6PEMFpe3PTOksdV4ZXUpbE</td>\n",
       "      <td>192.718117</td>\n",
       "      <td>27.300110</td>\n",
       "      <td>7.059243</td>\n",
       "      <td>1o8zUe3QYHV42SHSsg6ffu</td>\n",
       "      <td>Where I Go (Feat. H.E.R.)</td>\n",
       "      <td>55</td>\n",
       "      <td>alternative r&amp;b</td>\n",
       "      <td>single</td>\n",
       "      <td>nxworries</td>\n",
       "      <td>...</td>\n",
       "      <td>-15.498</td>\n",
       "      <td>0.0</td>\n",
       "      <td>0.2060</td>\n",
       "      <td>87.865</td>\n",
       "      <td>4.0</td>\n",
       "      <td>spotify:track:3MlQPB0wJuopo3NTZGlMpI</td>\n",
       "      <td>0.7740</td>\n",
       "      <td>True</td>\n",
       "      <td>64.0</td>\n",
       "      <td>268152</td>\n",
       "    </tr>\n",
       "    <tr>\n",
       "      <th>95565</th>\n",
       "      <td>3pDqLo5LnCyCBxhKZygkfK</td>\n",
       "      <td>242.433654</td>\n",
       "      <td>34.377073</td>\n",
       "      <td>7.052190</td>\n",
       "      <td>25UZUqLrtmjKl6tuOhmybG</td>\n",
       "      <td>Silent Future</td>\n",
       "      <td>25</td>\n",
       "      <td>post-doom metal</td>\n",
       "      <td>album</td>\n",
       "      <td>rezn</td>\n",
       "      <td>...</td>\n",
       "      <td>-11.438</td>\n",
       "      <td>1.0</td>\n",
       "      <td>0.0374</td>\n",
       "      <td>117.957</td>\n",
       "      <td>4.0</td>\n",
       "      <td>spotify:track:4Dl8d9o5Wj8TrmHwJQKkbm</td>\n",
       "      <td>0.1400</td>\n",
       "      <td>False</td>\n",
       "      <td>23.0</td>\n",
       "      <td>24940</td>\n",
       "    </tr>\n",
       "  </tbody>\n",
       "</table>\n",
       "<p>3 rows × 32 columns</p>\n",
       "</div>"
      ],
      "text/plain": [
       "                     artist_id      weight  similitud     final  \\\n",
       "80224   3CTVuBqbBrMYFl5Vjt429a  228.990762  30.828486  7.427895   \n",
       "165983  6PEMFpe3PTOksdV4ZXUpbE  192.718117  27.300110  7.059243   \n",
       "95565   3pDqLo5LnCyCBxhKZygkfK  242.433654  34.377073  7.052190   \n",
       "\n",
       "                      album_id                                    album_name  \\\n",
       "80224   5Uvcn0gYvYUFC1f8asaBLZ  50 Ultimate Winter Rain Sounds & Rain Sounds   \n",
       "165983  1o8zUe3QYHV42SHSsg6ffu                     Where I Go (Feat. H.E.R.)   \n",
       "95565   25UZUqLrtmjKl6tuOhmybG                                 Silent Future   \n",
       "\n",
       "        album_popularity          genre_0 album_type             artists  ...  \\\n",
       "80224                  0    environmental      album  a sudden rainstorm  ...   \n",
       "165983                55  alternative r&b     single           nxworries  ...   \n",
       "95565                 25  post-doom metal      album                rezn  ...   \n",
       "\n",
       "        loudness mode speechiness    tempo  time_signature  \\\n",
       "80224    -19.629  1.0      0.0436   90.454             3.0   \n",
       "165983   -15.498  0.0      0.2060   87.865             4.0   \n",
       "95565    -11.438  1.0      0.0374  117.957             4.0   \n",
       "\n",
       "                                         uri  valence  explicit  \\\n",
       "80224   spotify:track:6FpS8PgmBJEuLHN0S5boZK   0.0213     False   \n",
       "165983  spotify:track:3MlQPB0wJuopo3NTZGlMpI   0.7740      True   \n",
       "95565   spotify:track:4Dl8d9o5Wj8TrmHwJQKkbm   0.1400     False   \n",
       "\n",
       "        track_popularity  followers  \n",
       "80224                0.0        238  \n",
       "165983              64.0     268152  \n",
       "95565               23.0      24940  \n",
       "\n",
       "[3 rows x 32 columns]"
      ]
     },
     "execution_count": 105,
     "metadata": {},
     "output_type": "execute_result"
    }
   ],
   "source": [
    "top_recomendaciones"
   ]
  },
  {
   "cell_type": "code",
   "execution_count": 102,
   "metadata": {
    "tags": []
   },
   "outputs": [],
   "source": [
    "canciones = spotify_features_data_reducido[spotify_features_data_reducido[\"artists\"].isin(top_recomendaciones[\"artists\"].values)]\n"
   ]
  },
  {
   "cell_type": "code",
   "execution_count": 79,
   "metadata": {
    "tags": []
   },
   "outputs": [],
   "source": [
    "###############################################################################################################################################################################"
   ]
  },
  {
   "cell_type": "code",
   "execution_count": 103,
   "metadata": {
    "tags": []
   },
   "outputs": [],
   "source": [
    "canciones_recomendadas = canciones.sample(10)[[\"artists\", \"track_name\"]]"
   ]
  },
  {
   "cell_type": "code",
   "execution_count": 104,
   "metadata": {
    "tags": []
   },
   "outputs": [
    {
     "data": {
      "text/html": [
       "<div>\n",
       "<style scoped>\n",
       "    .dataframe tbody tr th:only-of-type {\n",
       "        vertical-align: middle;\n",
       "    }\n",
       "\n",
       "    .dataframe tbody tr th {\n",
       "        vertical-align: top;\n",
       "    }\n",
       "\n",
       "    .dataframe thead th {\n",
       "        text-align: right;\n",
       "    }\n",
       "</style>\n",
       "<table border=\"1\" class=\"dataframe\">\n",
       "  <thead>\n",
       "    <tr style=\"text-align: right;\">\n",
       "      <th></th>\n",
       "      <th>artists</th>\n",
       "      <th>track_name</th>\n",
       "    </tr>\n",
       "  </thead>\n",
       "  <tbody>\n",
       "    <tr>\n",
       "      <th>168844</th>\n",
       "      <td>a sudden rainstorm</td>\n",
       "      <td>Waves, Ocean, Seagulls</td>\n",
       "    </tr>\n",
       "    <tr>\n",
       "      <th>168846</th>\n",
       "      <td>a sudden rainstorm</td>\n",
       "      <td>Rains Above</td>\n",
       "    </tr>\n",
       "    <tr>\n",
       "      <th>168860</th>\n",
       "      <td>a sudden rainstorm</td>\n",
       "      <td>Rain, Light, Forest</td>\n",
       "    </tr>\n",
       "    <tr>\n",
       "      <th>168869</th>\n",
       "      <td>a sudden rainstorm</td>\n",
       "      <td>Relaxing Birdsong Ambience</td>\n",
       "    </tr>\n",
       "    <tr>\n",
       "      <th>168878</th>\n",
       "      <td>a sudden rainstorm</td>\n",
       "      <td>High Ocean Waves</td>\n",
       "    </tr>\n",
       "    <tr>\n",
       "      <th>168836</th>\n",
       "      <td>a sudden rainstorm</td>\n",
       "      <td>Rain On Foliage</td>\n",
       "    </tr>\n",
       "    <tr>\n",
       "      <th>168856</th>\n",
       "      <td>a sudden rainstorm</td>\n",
       "      <td>Sprinkling Drops</td>\n",
       "    </tr>\n",
       "    <tr>\n",
       "      <th>168865</th>\n",
       "      <td>a sudden rainstorm</td>\n",
       "      <td>Camping Kettle On The Fire</td>\n",
       "    </tr>\n",
       "    <tr>\n",
       "      <th>215894</th>\n",
       "      <td>rezn</td>\n",
       "      <td>Morphing</td>\n",
       "    </tr>\n",
       "    <tr>\n",
       "      <th>168849</th>\n",
       "      <td>a sudden rainstorm</td>\n",
       "      <td>White Noise Rain Drops</td>\n",
       "    </tr>\n",
       "  </tbody>\n",
       "</table>\n",
       "</div>"
      ],
      "text/plain": [
       "                   artists                  track_name\n",
       "168844  a sudden rainstorm      Waves, Ocean, Seagulls\n",
       "168846  a sudden rainstorm                 Rains Above\n",
       "168860  a sudden rainstorm         Rain, Light, Forest\n",
       "168869  a sudden rainstorm  Relaxing Birdsong Ambience\n",
       "168878  a sudden rainstorm            High Ocean Waves\n",
       "168836  a sudden rainstorm             Rain On Foliage\n",
       "168856  a sudden rainstorm            Sprinkling Drops\n",
       "168865  a sudden rainstorm  Camping Kettle On The Fire\n",
       "215894                rezn                    Morphing\n",
       "168849  a sudden rainstorm      White Noise Rain Drops"
      ]
     },
     "execution_count": 104,
     "metadata": {},
     "output_type": "execute_result"
    }
   ],
   "source": [
    "canciones_recomendadas"
   ]
  },
  {
   "cell_type": "code",
   "execution_count": 106,
   "metadata": {
    "tags": []
   },
   "outputs": [
    {
     "name": "stderr",
     "output_type": "stream",
     "text": [
      "/var/folders/d1/031rn2653ks13f7byzh2zxpr0000gn/T/ipykernel_20579/3806710095.py:1: DtypeWarning: Columns (25,26,44) have mixed types. Specify dtype option on import or set low_memory=False.\n",
      "  spotify_data = pd.read_csv(\"spotify_data_12_20_2023.csv\")\n"
     ]
    },
    {
     "data": {
      "text/html": [
       "<div>\n",
       "<style scoped>\n",
       "    .dataframe tbody tr th:only-of-type {\n",
       "        vertical-align: middle;\n",
       "    }\n",
       "\n",
       "    .dataframe tbody tr th {\n",
       "        vertical-align: top;\n",
       "    }\n",
       "\n",
       "    .dataframe thead th {\n",
       "        text-align: right;\n",
       "    }\n",
       "</style>\n",
       "<table border=\"1\" class=\"dataframe\">\n",
       "  <thead>\n",
       "    <tr style=\"text-align: right;\">\n",
       "      <th></th>\n",
       "      <th>artist_id</th>\n",
       "      <th>weight</th>\n",
       "      <th>similitud</th>\n",
       "      <th>final</th>\n",
       "      <th>album_id</th>\n",
       "      <th>album_name</th>\n",
       "      <th>album_popularity</th>\n",
       "      <th>genre_0</th>\n",
       "      <th>album_type</th>\n",
       "      <th>artists</th>\n",
       "      <th>...</th>\n",
       "      <th>loudness</th>\n",
       "      <th>mode</th>\n",
       "      <th>speechiness</th>\n",
       "      <th>tempo</th>\n",
       "      <th>time_signature</th>\n",
       "      <th>uri</th>\n",
       "      <th>valence</th>\n",
       "      <th>explicit</th>\n",
       "      <th>track_popularity</th>\n",
       "      <th>followers</th>\n",
       "    </tr>\n",
       "  </thead>\n",
       "  <tbody>\n",
       "    <tr>\n",
       "      <th>0</th>\n",
       "      <td>06HL4z0CvFAxyc27GXpf02</td>\n",
       "      <td>NaN</td>\n",
       "      <td>NaN</td>\n",
       "      <td>NaN</td>\n",
       "      <td>6AORtDjduMM3bupSWzbTSG</td>\n",
       "      <td>Evermore (Deluxe Version)</td>\n",
       "      <td>85</td>\n",
       "      <td>pop</td>\n",
       "      <td>album</td>\n",
       "      <td>['Taylor Swift']</td>\n",
       "      <td>...</td>\n",
       "      <td>-10.491</td>\n",
       "      <td>1.0</td>\n",
       "      <td>0.0408</td>\n",
       "      <td>112.05</td>\n",
       "      <td>4.0</td>\n",
       "      <td>spotify:track:3Dby3p1m6IOZn2gIIqECgK</td>\n",
       "      <td>0.353</td>\n",
       "      <td>True</td>\n",
       "      <td>73.0</td>\n",
       "      <td>95859165</td>\n",
       "    </tr>\n",
       "    <tr>\n",
       "      <th>4</th>\n",
       "      <td>1lUCH7LGT6XkhM47jQVGiD</td>\n",
       "      <td>NaN</td>\n",
       "      <td>NaN</td>\n",
       "      <td>NaN</td>\n",
       "      <td>6OuZPwY2v7KKajwQsqKmBE</td>\n",
       "      <td>Space Ambient Music</td>\n",
       "      <td>0</td>\n",
       "      <td>visual kei</td>\n",
       "      <td>album</td>\n",
       "      <td>['Raphael']</td>\n",
       "      <td>...</td>\n",
       "      <td>-35.908</td>\n",
       "      <td>1.0</td>\n",
       "      <td>0.0499</td>\n",
       "      <td>132.53</td>\n",
       "      <td>3.0</td>\n",
       "      <td>spotify:track:2VP6lXsgMaRgyhc83EiKly</td>\n",
       "      <td>0.0797</td>\n",
       "      <td>False</td>\n",
       "      <td>0.0</td>\n",
       "      <td>7614</td>\n",
       "    </tr>\n",
       "    <tr>\n",
       "      <th>2</th>\n",
       "      <td>2UZIAOlrnyZmyzt1nuXr9y</td>\n",
       "      <td>NaN</td>\n",
       "      <td>NaN</td>\n",
       "      <td>NaN</td>\n",
       "      <td>0pWzIntouGCOZzQsSW6xYc</td>\n",
       "      <td>Alma</td>\n",
       "      <td>78</td>\n",
       "      <td>argentine hip hop</td>\n",
       "      <td>album</td>\n",
       "      <td>['Nicki Nicole']</td>\n",
       "      <td>...</td>\n",
       "      <td>-7.314</td>\n",
       "      <td>0.0</td>\n",
       "      <td>0.0274</td>\n",
       "      <td>98.047</td>\n",
       "      <td>3.0</td>\n",
       "      <td>spotify:track:04v1IMQMdemyNhfH5G2uyp</td>\n",
       "      <td>0.47</td>\n",
       "      <td>False</td>\n",
       "      <td>56.0</td>\n",
       "      <td>5445003</td>\n",
       "    </tr>\n",
       "    <tr>\n",
       "      <th>1</th>\n",
       "      <td>2o5jDhtHVPhrJdv3cEQ99Z</td>\n",
       "      <td>NaN</td>\n",
       "      <td>NaN</td>\n",
       "      <td>NaN</td>\n",
       "      <td>1pJxMMEFi51mp8MCpVonVe</td>\n",
       "      <td>In Search Of Sunrise 6 Mixed By Tiësto (Ibiza)</td>\n",
       "      <td>45</td>\n",
       "      <td>big room</td>\n",
       "      <td>album</td>\n",
       "      <td>['Maor Levi']</td>\n",
       "      <td>...</td>\n",
       "      <td>-8.336</td>\n",
       "      <td>1.0</td>\n",
       "      <td>0.0676</td>\n",
       "      <td>132.537</td>\n",
       "      <td>4.0</td>\n",
       "      <td>spotify:track:2tj4BT9j7968ZrWxklOqSS</td>\n",
       "      <td>0.0869</td>\n",
       "      <td>False</td>\n",
       "      <td>23.0</td>\n",
       "      <td>7229863</td>\n",
       "    </tr>\n",
       "    <tr>\n",
       "      <th>3</th>\n",
       "      <td>5KTSB8X0opC29aSVK5f0vm</td>\n",
       "      <td>NaN</td>\n",
       "      <td>NaN</td>\n",
       "      <td>NaN</td>\n",
       "      <td>6J17dmLLbj1F8N1GcnKL21</td>\n",
       "      <td>Hurricane (Steve Vicious Remix)</td>\n",
       "      <td>6</td>\n",
       "      <td>deep g funk</td>\n",
       "      <td>single</td>\n",
       "      <td>['Snoop Dogg', 'Bossolo', 'Steve Vicious']</td>\n",
       "      <td>...</td>\n",
       "      <td>-4.803</td>\n",
       "      <td>0.0</td>\n",
       "      <td>0.188</td>\n",
       "      <td>96.005</td>\n",
       "      <td>4.0</td>\n",
       "      <td>spotify:track:4PtFZctDXSvK8OOYcAnrP3</td>\n",
       "      <td>0.646</td>\n",
       "      <td>True</td>\n",
       "      <td>13.0</td>\n",
       "      <td>1535</td>\n",
       "    </tr>\n",
       "  </tbody>\n",
       "</table>\n",
       "<p>5 rows × 32 columns</p>\n",
       "</div>"
      ],
      "text/plain": [
       "                artist_id weight similitud final                album_id  \\\n",
       "0  06HL4z0CvFAxyc27GXpf02    NaN       NaN   NaN  6AORtDjduMM3bupSWzbTSG   \n",
       "4  1lUCH7LGT6XkhM47jQVGiD    NaN       NaN   NaN  6OuZPwY2v7KKajwQsqKmBE   \n",
       "2  2UZIAOlrnyZmyzt1nuXr9y    NaN       NaN   NaN  0pWzIntouGCOZzQsSW6xYc   \n",
       "1  2o5jDhtHVPhrJdv3cEQ99Z    NaN       NaN   NaN  1pJxMMEFi51mp8MCpVonVe   \n",
       "3  5KTSB8X0opC29aSVK5f0vm    NaN       NaN   NaN  6J17dmLLbj1F8N1GcnKL21   \n",
       "\n",
       "                                       album_name album_popularity  \\\n",
       "0                       Evermore (Deluxe Version)               85   \n",
       "4                             Space Ambient Music                0   \n",
       "2                                            Alma               78   \n",
       "1  In Search Of Sunrise 6 Mixed By Tiësto (Ibiza)               45   \n",
       "3                 Hurricane (Steve Vicious Remix)                6   \n",
       "\n",
       "             genre_0 album_type                                     artists  \\\n",
       "0                pop      album                            ['Taylor Swift']   \n",
       "4         visual kei      album                                 ['Raphael']   \n",
       "2  argentine hip hop      album                            ['Nicki Nicole']   \n",
       "1           big room      album                               ['Maor Levi']   \n",
       "3        deep g funk     single  ['Snoop Dogg', 'Bossolo', 'Steve Vicious']   \n",
       "\n",
       "   ... loudness mode speechiness    tempo time_signature  \\\n",
       "0  ...  -10.491  1.0      0.0408   112.05            4.0   \n",
       "4  ...  -35.908  1.0      0.0499   132.53            3.0   \n",
       "2  ...   -7.314  0.0      0.0274   98.047            3.0   \n",
       "1  ...   -8.336  1.0      0.0676  132.537            4.0   \n",
       "3  ...   -4.803  0.0       0.188   96.005            4.0   \n",
       "\n",
       "                                    uri valence explicit track_popularity  \\\n",
       "0  spotify:track:3Dby3p1m6IOZn2gIIqECgK   0.353     True             73.0   \n",
       "4  spotify:track:2VP6lXsgMaRgyhc83EiKly  0.0797    False              0.0   \n",
       "2  spotify:track:04v1IMQMdemyNhfH5G2uyp    0.47    False             56.0   \n",
       "1  spotify:track:2tj4BT9j7968ZrWxklOqSS  0.0869    False             23.0   \n",
       "3  spotify:track:4PtFZctDXSvK8OOYcAnrP3   0.646     True             13.0   \n",
       "\n",
       "  followers  \n",
       "0  95859165  \n",
       "4      7614  \n",
       "2   5445003  \n",
       "1   7229863  \n",
       "3      1535  \n",
       "\n",
       "[5 rows x 32 columns]"
      ]
     },
     "execution_count": 106,
     "metadata": {},
     "output_type": "execute_result"
    }
   ],
   "source": [
    "spotify_data = pd.read_csv(\"spotify_data_12_20_2023.csv\")\n",
    "\n",
    "# Crear un nuevo DataFrame vacío con la misma estructura de columnas que top_recomendaciones\n",
    "preferencias_usuario_completo = pd.DataFrame(columns=top_recomendaciones.columns)\n",
    "\n",
    "# Copiar los artist_id de usuario_activo en preferencias_usuario_completo\n",
    "preferencias_usuario_completo['artist_id'] = usuario_activo['artist_id']\n",
    "\n",
    "# Realizar un bucle sobre preferencias_usuario_completo para llenar los datos desde spotify_features_data_reducido\n",
    "for index, row in preferencias_usuario_completo.iterrows():\n",
    "    artist_id = row['artist_id']\n",
    "    # Buscar la primera coincidencia en spotify_features_data_reducido por artist_id\n",
    "    matching_row = spotify_data[spotify_data['artist_id'] == artist_id].iloc[0]\n",
    "    \n",
    "     # Llenar la fila en preferencias_usuario_completo con los datos de spotify_features_data_reducido\n",
    "    for col in preferencias_usuario_completo.columns:\n",
    "        if col != 'artist_id' and col != 'weight' and col != 'similitud' and col != 'final':  # Omitir la columna artist_id ya que ya está llena\n",
    "            preferencias_usuario_completo.at[index, col] = matching_row[col]\n",
    "preferencias_usuario_completo"
   ]
  },
  {
   "cell_type": "markdown",
   "metadata": {},
   "source": [
    "### Gráfica comparación follower vs artista del usuario"
   ]
  },
  {
   "cell_type": "code",
   "execution_count": 107,
   "metadata": {
    "tags": []
   },
   "outputs": [],
   "source": [
    "follower_top_final = pd.DataFrame({\"followers\": top_recomendaciones[\"followers\"],\n",
    "                     \"artists\" : top_recomendaciones[\"artists\"]})\n",
    "follower_top_final = follower_top_final.drop_duplicates(\"artists\")\n",
    "follower_top_final = follower_top_final.sort_values(by = \"followers\", ascending = False)\n",
    "follower_top_final = follower_top_final.head(10)"
   ]
  },
  {
   "cell_type": "code",
   "execution_count": 108,
   "metadata": {
    "tags": []
   },
   "outputs": [
    {
     "data": {
      "image/png": "[encoded data removed]",
      "text/plain": [
       "<Figure size 1200x600 with 1 Axes>"
      ]
     },
     "metadata": {},
     "output_type": "display_data"
    }
   ],
   "source": [
    "plt.figure(figsize=(12,6))\n",
    "ax = sns.barplot(x='artists', y='followers', data=follower_top_final)\n",
    "plt.xticks(rotation=90)\n",
    "for bar in ax.patches:\n",
    "    ax.annotate(format(bar.get_height(), '.2f'), \n",
    "                   (bar.get_x() + bar.get_width() / 2, \n",
    "                    bar.get_height()), ha='center', va='bottom',\n",
    "                   textcoords='offset points', xytext=(0,10),\n",
    "                   fontsize=8)\n",
    "\n",
    "plt.show()"
   ]
  },
  {
   "cell_type": "markdown",
   "metadata": {},
   "source": [
    "### Gráfica comparación popularity vs artista del usuario"
   ]
  },
  {
   "cell_type": "code",
   "execution_count": 109,
   "metadata": {
    "tags": []
   },
   "outputs": [],
   "source": [
    "popularity_top_final = pd.DataFrame({\"artist_popularity\": top_recomendaciones[\"artist_popularity\"],\n",
    "                     \"artists\" : top_recomendaciones[\"artists\"]})\n",
    "popularity_top_final = popularity_top_final.drop_duplicates(\"artists\")\n",
    "popularity_top_final = popularity_top_final.sort_values(by = \"artist_popularity\", ascending = False)\n",
    "popularity_top_final = popularity_top_final.head(10)"
   ]
  },
  {
   "cell_type": "code",
   "execution_count": 110,
   "metadata": {
    "tags": []
   },
   "outputs": [
    {
     "data": {
      "image/png": "[encoded data removed]",
      "text/plain": [
       "<Figure size 1200x600 with 1 Axes>"
      ]
     },
     "metadata": {},
     "output_type": "display_data"
    }
   ],
   "source": [
    "plt.figure(figsize=(12,6))\n",
    "ax = sns.barplot(x='artists', y='artist_popularity', data=popularity_top_final)\n",
    "plt.xticks(rotation=90)\n",
    "for bar in ax.patches:\n",
    "    ax.annotate(format(bar.get_height(), '.2f'), \n",
    "                   (bar.get_x() + bar.get_width() / 2, \n",
    "                    bar.get_height()), ha='center', va='bottom',\n",
    "                   textcoords='offset points', xytext=(0,10),\n",
    "                   fontsize=8)\n",
    "\n",
    "plt.show()"
   ]
  },
  {
   "cell_type": "markdown",
   "metadata": {},
   "source": [
    "### Gráfico genereo (elección usuario-recomendador)"
   ]
  },
  {
   "cell_type": "code",
   "execution_count": 111,
   "metadata": {
    "tags": []
   },
   "outputs": [
    {
     "name": "stderr",
     "output_type": "stream",
     "text": [
      "/var/folders/d1/031rn2653ks13f7byzh2zxpr0000gn/T/ipykernel_20579/3806710095.py:1: DtypeWarning: Columns (25,26,44) have mixed types. Specify dtype option on import or set low_memory=False.\n",
      "  spotify_data = pd.read_csv(\"spotify_data_12_20_2023.csv\")\n"
     ]
    },
    {
     "data": {
      "text/html": [
       "<div>\n",
       "<style scoped>\n",
       "    .dataframe tbody tr th:only-of-type {\n",
       "        vertical-align: middle;\n",
       "    }\n",
       "\n",
       "    .dataframe tbody tr th {\n",
       "        vertical-align: top;\n",
       "    }\n",
       "\n",
       "    .dataframe thead th {\n",
       "        text-align: right;\n",
       "    }\n",
       "</style>\n",
       "<table border=\"1\" class=\"dataframe\">\n",
       "  <thead>\n",
       "    <tr style=\"text-align: right;\">\n",
       "      <th></th>\n",
       "      <th>artist_id</th>\n",
       "      <th>weight</th>\n",
       "      <th>similitud</th>\n",
       "      <th>final</th>\n",
       "      <th>album_id</th>\n",
       "      <th>album_name</th>\n",
       "      <th>album_popularity</th>\n",
       "      <th>genre_0</th>\n",
       "      <th>album_type</th>\n",
       "      <th>artists</th>\n",
       "      <th>...</th>\n",
       "      <th>loudness</th>\n",
       "      <th>mode</th>\n",
       "      <th>speechiness</th>\n",
       "      <th>tempo</th>\n",
       "      <th>time_signature</th>\n",
       "      <th>uri</th>\n",
       "      <th>valence</th>\n",
       "      <th>explicit</th>\n",
       "      <th>track_popularity</th>\n",
       "      <th>followers</th>\n",
       "    </tr>\n",
       "  </thead>\n",
       "  <tbody>\n",
       "    <tr>\n",
       "      <th>0</th>\n",
       "      <td>06HL4z0CvFAxyc27GXpf02</td>\n",
       "      <td>NaN</td>\n",
       "      <td>NaN</td>\n",
       "      <td>NaN</td>\n",
       "      <td>6AORtDjduMM3bupSWzbTSG</td>\n",
       "      <td>Evermore (Deluxe Version)</td>\n",
       "      <td>85</td>\n",
       "      <td>pop</td>\n",
       "      <td>album</td>\n",
       "      <td>['Taylor Swift']</td>\n",
       "      <td>...</td>\n",
       "      <td>-10.491</td>\n",
       "      <td>1.0</td>\n",
       "      <td>0.0408</td>\n",
       "      <td>112.05</td>\n",
       "      <td>4.0</td>\n",
       "      <td>spotify:track:3Dby3p1m6IOZn2gIIqECgK</td>\n",
       "      <td>0.353</td>\n",
       "      <td>True</td>\n",
       "      <td>73.0</td>\n",
       "      <td>95859165</td>\n",
       "    </tr>\n",
       "    <tr>\n",
       "      <th>4</th>\n",
       "      <td>1lUCH7LGT6XkhM47jQVGiD</td>\n",
       "      <td>NaN</td>\n",
       "      <td>NaN</td>\n",
       "      <td>NaN</td>\n",
       "      <td>6OuZPwY2v7KKajwQsqKmBE</td>\n",
       "      <td>Space Ambient Music</td>\n",
       "      <td>0</td>\n",
       "      <td>visual kei</td>\n",
       "      <td>album</td>\n",
       "      <td>['Raphael']</td>\n",
       "      <td>...</td>\n",
       "      <td>-35.908</td>\n",
       "      <td>1.0</td>\n",
       "      <td>0.0499</td>\n",
       "      <td>132.53</td>\n",
       "      <td>3.0</td>\n",
       "      <td>spotify:track:2VP6lXsgMaRgyhc83EiKly</td>\n",
       "      <td>0.0797</td>\n",
       "      <td>False</td>\n",
       "      <td>0.0</td>\n",
       "      <td>7614</td>\n",
       "    </tr>\n",
       "    <tr>\n",
       "      <th>2</th>\n",
       "      <td>2UZIAOlrnyZmyzt1nuXr9y</td>\n",
       "      <td>NaN</td>\n",
       "      <td>NaN</td>\n",
       "      <td>NaN</td>\n",
       "      <td>0pWzIntouGCOZzQsSW6xYc</td>\n",
       "      <td>Alma</td>\n",
       "      <td>78</td>\n",
       "      <td>argentine hip hop</td>\n",
       "      <td>album</td>\n",
       "      <td>['Nicki Nicole']</td>\n",
       "      <td>...</td>\n",
       "      <td>-7.314</td>\n",
       "      <td>0.0</td>\n",
       "      <td>0.0274</td>\n",
       "      <td>98.047</td>\n",
       "      <td>3.0</td>\n",
       "      <td>spotify:track:04v1IMQMdemyNhfH5G2uyp</td>\n",
       "      <td>0.47</td>\n",
       "      <td>False</td>\n",
       "      <td>56.0</td>\n",
       "      <td>5445003</td>\n",
       "    </tr>\n",
       "    <tr>\n",
       "      <th>1</th>\n",
       "      <td>2o5jDhtHVPhrJdv3cEQ99Z</td>\n",
       "      <td>NaN</td>\n",
       "      <td>NaN</td>\n",
       "      <td>NaN</td>\n",
       "      <td>1pJxMMEFi51mp8MCpVonVe</td>\n",
       "      <td>In Search Of Sunrise 6 Mixed By Tiësto (Ibiza)</td>\n",
       "      <td>45</td>\n",
       "      <td>big room</td>\n",
       "      <td>album</td>\n",
       "      <td>['Maor Levi']</td>\n",
       "      <td>...</td>\n",
       "      <td>-8.336</td>\n",
       "      <td>1.0</td>\n",
       "      <td>0.0676</td>\n",
       "      <td>132.537</td>\n",
       "      <td>4.0</td>\n",
       "      <td>spotify:track:2tj4BT9j7968ZrWxklOqSS</td>\n",
       "      <td>0.0869</td>\n",
       "      <td>False</td>\n",
       "      <td>23.0</td>\n",
       "      <td>7229863</td>\n",
       "    </tr>\n",
       "    <tr>\n",
       "      <th>3</th>\n",
       "      <td>5KTSB8X0opC29aSVK5f0vm</td>\n",
       "      <td>NaN</td>\n",
       "      <td>NaN</td>\n",
       "      <td>NaN</td>\n",
       "      <td>6J17dmLLbj1F8N1GcnKL21</td>\n",
       "      <td>Hurricane (Steve Vicious Remix)</td>\n",
       "      <td>6</td>\n",
       "      <td>deep g funk</td>\n",
       "      <td>single</td>\n",
       "      <td>['Snoop Dogg', 'Bossolo', 'Steve Vicious']</td>\n",
       "      <td>...</td>\n",
       "      <td>-4.803</td>\n",
       "      <td>0.0</td>\n",
       "      <td>0.188</td>\n",
       "      <td>96.005</td>\n",
       "      <td>4.0</td>\n",
       "      <td>spotify:track:4PtFZctDXSvK8OOYcAnrP3</td>\n",
       "      <td>0.646</td>\n",
       "      <td>True</td>\n",
       "      <td>13.0</td>\n",
       "      <td>1535</td>\n",
       "    </tr>\n",
       "  </tbody>\n",
       "</table>\n",
       "<p>5 rows × 32 columns</p>\n",
       "</div>"
      ],
      "text/plain": [
       "                artist_id weight similitud final                album_id  \\\n",
       "0  06HL4z0CvFAxyc27GXpf02    NaN       NaN   NaN  6AORtDjduMM3bupSWzbTSG   \n",
       "4  1lUCH7LGT6XkhM47jQVGiD    NaN       NaN   NaN  6OuZPwY2v7KKajwQsqKmBE   \n",
       "2  2UZIAOlrnyZmyzt1nuXr9y    NaN       NaN   NaN  0pWzIntouGCOZzQsSW6xYc   \n",
       "1  2o5jDhtHVPhrJdv3cEQ99Z    NaN       NaN   NaN  1pJxMMEFi51mp8MCpVonVe   \n",
       "3  5KTSB8X0opC29aSVK5f0vm    NaN       NaN   NaN  6J17dmLLbj1F8N1GcnKL21   \n",
       "\n",
       "                                       album_name album_popularity  \\\n",
       "0                       Evermore (Deluxe Version)               85   \n",
       "4                             Space Ambient Music                0   \n",
       "2                                            Alma               78   \n",
       "1  In Search Of Sunrise 6 Mixed By Tiësto (Ibiza)               45   \n",
       "3                 Hurricane (Steve Vicious Remix)                6   \n",
       "\n",
       "             genre_0 album_type                                     artists  \\\n",
       "0                pop      album                            ['Taylor Swift']   \n",
       "4         visual kei      album                                 ['Raphael']   \n",
       "2  argentine hip hop      album                            ['Nicki Nicole']   \n",
       "1           big room      album                               ['Maor Levi']   \n",
       "3        deep g funk     single  ['Snoop Dogg', 'Bossolo', 'Steve Vicious']   \n",
       "\n",
       "   ... loudness mode speechiness    tempo time_signature  \\\n",
       "0  ...  -10.491  1.0      0.0408   112.05            4.0   \n",
       "4  ...  -35.908  1.0      0.0499   132.53            3.0   \n",
       "2  ...   -7.314  0.0      0.0274   98.047            3.0   \n",
       "1  ...   -8.336  1.0      0.0676  132.537            4.0   \n",
       "3  ...   -4.803  0.0       0.188   96.005            4.0   \n",
       "\n",
       "                                    uri valence explicit track_popularity  \\\n",
       "0  spotify:track:3Dby3p1m6IOZn2gIIqECgK   0.353     True             73.0   \n",
       "4  spotify:track:2VP6lXsgMaRgyhc83EiKly  0.0797    False              0.0   \n",
       "2  spotify:track:04v1IMQMdemyNhfH5G2uyp    0.47    False             56.0   \n",
       "1  spotify:track:2tj4BT9j7968ZrWxklOqSS  0.0869    False             23.0   \n",
       "3  spotify:track:4PtFZctDXSvK8OOYcAnrP3   0.646     True             13.0   \n",
       "\n",
       "  followers  \n",
       "0  95859165  \n",
       "4      7614  \n",
       "2   5445003  \n",
       "1   7229863  \n",
       "3      1535  \n",
       "\n",
       "[5 rows x 32 columns]"
      ]
     },
     "execution_count": 111,
     "metadata": {},
     "output_type": "execute_result"
    }
   ],
   "source": [
    "spotify_data = pd.read_csv(\"spotify_data_12_20_2023.csv\")\n",
    "\n",
    "# Crear un nuevo DataFrame vacío con la misma estructura de columnas que top_recomendaciones\n",
    "preferencias_usuario_completo = pd.DataFrame(columns=top_recomendaciones.columns)\n",
    "\n",
    "# Copiar los artist_id de usuario_activo en preferencias_usuario_completo\n",
    "preferencias_usuario_completo['artist_id'] = usuario_activo['artist_id']\n",
    "\n",
    "# Realizar un bucle sobre preferencias_usuario_completo para llenar los datos desde spotify_features_data_reducido\n",
    "for index, row in preferencias_usuario_completo.iterrows():\n",
    "    artist_id = row['artist_id']\n",
    "    # Buscar la primera coincidencia en spotify_features_data_reducido por artist_id\n",
    "    matching_row = spotify_data[spotify_data['artist_id'] == artist_id].iloc[0]\n",
    "    \n",
    "     # Llenar la fila en preferencias_usuario_completo con los datos de spotify_features_data_reducido\n",
    "    for col in preferencias_usuario_completo.columns:\n",
    "        if col != 'artist_id' and col != 'weight' and col != 'similitud' and col != 'final':  # Omitir la columna artist_id ya que ya está llena\n",
    "            preferencias_usuario_completo.at[index, col] = matching_row[col]\n",
    "preferencias_usuario_completo"
   ]
  },
  {
   "cell_type": "code",
   "execution_count": 113,
   "metadata": {},
   "outputs": [
    {
     "data": {
      "image/png": "[encoded data removed]",
      "text/plain": [
       "<Figure size 1500x600 with 2 Axes>"
      ]
     },
     "metadata": {},
     "output_type": "display_data"
    }
   ],
   "source": [
    "fig, axes = plt.subplots(1, 2, figsize=(15, 6), sharey=True)\n",
    "\n",
    "sns.countplot(ax=axes[0], data=preferencias_usuario_completo, x='genre_0', hue='artists', dodge=True)\n",
    "axes[0].set_title('Preferencias de Usuario Completo')\n",
    "axes[0].set_xlabel('Genre')\n",
    "axes[0].set_ylabel('Count')\n",
    "axes[0].legend(title='Artist')\n",
    "\n",
    "sns.countplot(ax=axes[1], data=top_recomendaciones, x='genre_0', hue='artists', dodge=True)\n",
    "axes[1].set_title('Top Recomendaciones')\n",
    "axes[1].set_xlabel('Genre')\n",
    "axes[1].legend(title='Artist')\n",
    "\n",
    "plt.tight_layout()\n",
    "plt.xticks(rotation=45)\n",
    "plt.show()"
   ]
  },
  {
   "cell_type": "markdown",
   "metadata": {
    "tags": []
   },
   "source": [
    "### Gráfica información técnica de las canciones recomendadas"
   ]
  },
  {
   "cell_type": "code",
   "execution_count": 117,
   "metadata": {
    "tags": []
   },
   "outputs": [
    {
     "data": {
      "image/png": "[encoded data removed]",
      "text/plain": [
       "<Figure size 640x480 with 1 Axes>"
      ]
     },
     "metadata": {},
     "output_type": "display_data"
    }
   ],
   "source": [
    "sns.barplot(data = preferencias_usuario_completo, x = \"track_name\", y = \"acousticness\", order = sorted(preferencias_usuario_completo['track_name'].unique())) \n",
    "plt.xticks(rotation=90)\n",
    "plt.show()"
   ]
  },
  {
   "cell_type": "code",
   "execution_count": 118,
   "metadata": {
    "tags": []
   },
   "outputs": [
    {
     "data": {
      "image/png": "[encoded data removed]",
      "text/plain": [
       "<Figure size 640x480 with 1 Axes>"
      ]
     },
     "metadata": {},
     "output_type": "display_data"
    }
   ],
   "source": [
    "sns.barplot(data = preferencias_usuario_completo, x = \"track_name\", y = \"acousticness\", order = sorted(preferencias_usuario_completo['track_name'].unique())) \n",
    "plt.xticks(rotation=90)\n",
    "plt.show()"
   ]
  },
  {
   "cell_type": "code",
   "execution_count": 119,
   "metadata": {
    "tags": []
   },
   "outputs": [
    {
     "data": {
      "image/png": "[encoded data removed]",
      "text/plain": [
       "<Figure size 640x480 with 1 Axes>"
      ]
     },
     "metadata": {},
     "output_type": "display_data"
    }
   ],
   "source": [
    "sns.barplot(data = preferencias_usuario_completo, x = \"track_name\", y = \"danceability\", order = sorted(preferencias_usuario_completo['track_name'].unique())) \n",
    "plt.xticks(rotation=90)\n",
    "plt.show()"
   ]
  },
  {
   "cell_type": "code",
   "execution_count": 120,
   "metadata": {
    "tags": []
   },
   "outputs": [
    {
     "data": {
      "image/png": "[encoded data removed]",
      "text/plain": [
       "<Figure size 640x480 with 1 Axes>"
      ]
     },
     "metadata": {},
     "output_type": "display_data"
    }
   ],
   "source": [
    "sns.barplot(data = preferencias_usuario_completo, x = \"track_name\", y = \"energy\", order = sorted(preferencias_usuario_completo['track_name'].unique())) \n",
    "plt.xticks(rotation=90)\n",
    "plt.show()"
   ]
  },
  {
   "cell_type": "code",
   "execution_count": 121,
   "metadata": {
    "tags": []
   },
   "outputs": [
    {
     "data": {
      "image/png": "[encoded data removed]",
      "text/plain": [
       "<Figure size 640x480 with 1 Axes>"
      ]
     },
     "metadata": {},
     "output_type": "display_data"
    }
   ],
   "source": [
    "sns.barplot(data = preferencias_usuario_completo, x = \"track_name\", y = \"instrumentalness\", order = sorted(preferencias_usuario_completo['track_name'].unique())) \n",
    "plt.xticks(rotation=90)\n",
    "plt.show()"
   ]
  },
  {
   "cell_type": "code",
   "execution_count": 122,
   "metadata": {
    "tags": []
   },
   "outputs": [
    {
     "data": {
      "image/png": "[encoded data removed]",
      "text/plain": [
       "<Figure size 640x480 with 1 Axes>"
      ]
     },
     "metadata": {},
     "output_type": "display_data"
    }
   ],
   "source": [
    "sns.barplot(data = preferencias_usuario_completo, x = \"track_name\", y = \"key\", order = sorted(preferencias_usuario_completo['track_name'].unique())) \n",
    "plt.xticks(rotation=90)\n",
    "plt.show()"
   ]
  },
  {
   "cell_type": "code",
   "execution_count": 123,
   "metadata": {
    "tags": []
   },
   "outputs": [
    {
     "data": {
      "image/png": "[encoded data removed]",
      "text/plain": [
       "<Figure size 640x480 with 1 Axes>"
      ]
     },
     "metadata": {},
     "output_type": "display_data"
    }
   ],
   "source": [
    "sns.barplot(data = preferencias_usuario_completo, x = \"track_name\", y = \"liveness\", order = sorted(preferencias_usuario_completo['track_name'].unique())) \n",
    "plt.xticks(rotation=90)\n",
    "plt.show()"
   ]
  },
  {
   "cell_type": "code",
   "execution_count": 139,
   "metadata": {
    "tags": []
   },
   "outputs": [
    {
     "data": {
      "image/png": "[encoded data removed]",
      "text/plain": [
       "<Figure size 640x480 with 1 Axes>"
      ]
     },
     "metadata": {},
     "output_type": "display_data"
    }
   ],
   "source": [
    "sns.barplot(data = preferencias_usuario_completo, x = \"track_name\", y = \"loudness\", order = sorted(preferencias_usuario_completo['track_name'].unique())) \n",
    "plt.xticks(rotation=90)\n",
    "plt.show()"
   ]
  },
  {
   "cell_type": "code",
   "execution_count": 126,
   "metadata": {
    "tags": []
   },
   "outputs": [
    {
     "data": {
      "image/png": "[encoded data removed]",
      "text/plain": [
       "<Figure size 640x480 with 1 Axes>"
      ]
     },
     "metadata": {},
     "output_type": "display_data"
    }
   ],
   "source": [
    "sns.barplot(data = preferencias_usuario_completo, x = \"track_name\", y = \"mode\", order = sorted(preferencias_usuario_completo['track_name'].unique())) \n",
    "plt.xticks(rotation=90)\n",
    "plt.show()"
   ]
  },
  {
   "cell_type": "code",
   "execution_count": 130,
   "metadata": {
    "tags": []
   },
   "outputs": [
    {
     "data": {
      "image/png": "[encoded data removed]",
      "text/plain": [
       "<Figure size 640x480 with 1 Axes>"
      ]
     },
     "metadata": {},
     "output_type": "display_data"
    }
   ],
   "source": [
    "sns.barplot(data = preferencias_usuario_completo, x = \"track_name\", y = \"mode\", order = sorted(preferencias_usuario_completo['track_name'].unique())) \n",
    "plt.xticks(rotation=90)\n",
    "plt.show()"
   ]
  },
  {
   "cell_type": "code",
   "execution_count": 131,
   "metadata": {
    "tags": []
   },
   "outputs": [
    {
     "data": {
      "image/png": "[encoded data removed]",
      "text/plain": [
       "<Figure size 640x480 with 1 Axes>"
      ]
     },
     "metadata": {},
     "output_type": "display_data"
    }
   ],
   "source": [
    "sns.barplot(data = preferencias_usuario_completo, x = \"track_name\", y = \"speechiness\", order = sorted(preferencias_usuario_completo['track_name'].unique())) \n",
    "plt.xticks(rotation=90)\n",
    "plt.show()"
   ]
  },
  {
   "cell_type": "markdown",
   "metadata": {
    "tags": []
   },
   "source": [
    "### Gráfico Track_popularity vs canciones"
   ]
  },
  {
   "cell_type": "code",
   "execution_count": 141,
   "metadata": {
    "tags": []
   },
   "outputs": [],
   "source": [
    "popularity_cancion = pd.DataFrame({\"track_popularity\": top_recomendaciones[\"track_popularity\"],\n",
    "                     \"track_name\" : top_recomendaciones[\"track_name\"]})\n",
    "popularity_cancion = popularity_cancion.drop_duplicates(\"track_name\")\n",
    "popularity_cancion = popularity_cancion.sort_values(by = \"track_popularity\", ascending = False)\n",
    "popularity_cancion = popularity_cancion.head(10)"
   ]
  },
  {
   "cell_type": "code",
   "execution_count": 142,
   "metadata": {
    "tags": []
   },
   "outputs": [
    {
     "data": {
      "image/png": "[encoded data removed]",
      "text/plain": [
       "<Figure size 1200x600 with 1 Axes>"
      ]
     },
     "metadata": {},
     "output_type": "display_data"
    }
   ],
   "source": [
    "plt.figure(figsize=(12,6))\n",
    "ax = sns.barplot(x='track_name', y='track_popularity', data=popularity_cancion)\n",
    "plt.xticks(rotation=90)\n",
    "for bar in ax.patches:\n",
    "    ax.annotate(format(bar.get_height(), '.2f'), \n",
    "                   (bar.get_x() + bar.get_width() / 2, \n",
    "                    bar.get_height()), ha='center', va='bottom',\n",
    "                   textcoords='offset points', xytext=(0,10),\n",
    "                   fontsize=8)\n",
    "\n",
    "plt.show()"
   ]
  },
  {
   "cell_type": "markdown",
   "metadata": {},
   "source": [
    "### Gráfico valence vs artista, top recomendación"
   ]
  },
  {
   "cell_type": "code",
   "execution_count": 144,
   "metadata": {
    "tags": []
   },
   "outputs": [
    {
     "data": {
      "image/png": "[encoded data removed]",
      "text/plain": [
       "<Figure size 640x480 with 1 Axes>"
      ]
     },
     "metadata": {},
     "output_type": "display_data"
    }
   ],
   "source": [
    "sns.barplot(data = preferencias_usuario_completo, x = \"artists\", y = \"valence\", order = sorted(preferencias_usuario_completo['artists'].unique())) \n",
    "plt.xticks(rotation=90)\n",
    "plt.show()"
   ]
  }
 ],
 "metadata": {
  "kernelspec": {
   "display_name": "Python 3 (ipykernel)",
   "language": "python",
   "name": "python3"
  },
  "language_info": {
   "codemirror_mode": {
    "name": "ipython",
    "version": 3
   },
   "file_extension": ".py",
   "mimetype": "text/x-python",
   "name": "python",
   "nbconvert_exporter": "python",
   "pygments_lexer": "ipython3",
   "version": "3.11.5"
  }
 },
 "nbformat": 4,
 "nbformat_minor": 4
}
