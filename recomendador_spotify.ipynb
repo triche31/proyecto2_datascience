{
 "cells": [
  {
   "cell_type": "code",
   "execution_count": 1,
   "metadata": {
    "tags": []
   },
   "outputs": [],
   "source": [
    "import numpy as np\n",
    "import pandas as pd\n",
    "import matplotlib.pyplot as plt\n",
    "import seaborn as sns\n",
    "from sklearn.metrics.pairwise import cosine_similarity"
   ]
  },
  {
   "cell_type": "markdown",
   "metadata": {},
   "source": [
    "**artist_0**\n",
    "**Main Artist**\n",
    "**duration_sec**\n",
    "**Duration_sec**Track length in seconds\n",
    "**label** The label associated with the album.\n",
    "track_number: The number of the track. If an album has several discs, the track number is the number on the specified disc.\n",
    "artist_popularity\n",
    "The popularity of the artist. The value will be between 0 and 100, with 100 being the most popular.\n",
    "followers\n",
    "The total number of followers for main artist.\n",
    "genre_0\n",
    "Main Genre\n",
    "acousticness\n",
    "A confidence measure from 0.0 to 1.0 of whether the track is acoustic.\n",
    "danceability\n",
    "Danceability describes how suitable a track is for dancing based on a combination of musical elements\n",
    "energy\n",
    "Energy is a measure from 0.0 to 1.0 and represents a perceptual measure of intensity and activity.\n",
    "instrumentalness\n",
    "Predicts whether a track contains no vocals\n",
    "key\n",
    "The key the track is in. Integers map to pitches using standard Pitch\n",
    "liveness\n",
    "Detects the presence of an audience in the recording.\n",
    "loudness\n",
    "The overall loudness of a track in decibels (dB).\n",
    "mode\n",
    "Mode indicates the modality (major or minor) of a track\n",
    "tempo\n",
    "The overall estimated tempo of a track in beats per minute (BPM)\n",
    "time_signature\n",
    "An estimated time signature.\n",
    "valence\n",
    "A measure from 0.0 to 1.0 describing the musical positiveness conveyed by a track.\n",
    "track_popularity\n",
    "The popularity of a track is a value between 0 and 100, with 100 being the most popular."
   ]
  },
  {
   "cell_type": "code",
   "execution_count": 2,
   "metadata": {},
   "outputs": [
    {
     "name": "stderr",
     "output_type": "stream",
     "text": [
      "C:\\Users\\esthe\\AppData\\Local\\Temp\\ipykernel_56196\\2719705088.py:1: DtypeWarning: Columns (25,26,44) have mixed types. Specify dtype option on import or set low_memory=False.\n",
      "  spotify_features_data = pd.read_csv(\"spotify_data_12_20_2023.csv\")\n"
     ]
    }
   ],
   "source": [
    "spotify_features_data = pd.read_csv(\"spotify_data_12_20_2023.csv\")"
   ]
  },
  {
   "cell_type": "markdown",
   "metadata": {},
   "source": [
    "### Analizamos las distintas columnas que contiene el DataFrame"
   ]
  },
  {
   "cell_type": "code",
   "execution_count": 3,
   "metadata": {
    "tags": []
   },
   "outputs": [
    {
     "name": "stdout",
     "output_type": "stream",
     "text": [
      "Primeras filas del DataFrame:\n",
      "                  album_id   album_name  album_popularity album_type  \\\n",
      "0  4zH8bbEjLe0Gdbv2FVLjnK  Son Of Tabu                 1      album   \n",
      "1  4zH8bbEjLe0Gdbv2FVLjnK  Son Of Tabu                 1      album   \n",
      "2  4zH8bbEjLe0Gdbv2FVLjnK  Son Of Tabu                 1      album   \n",
      "\n",
      "              artists artist_0  artist_1 artist_2 artist_3 artist_4  ...  \\\n",
      "0              ['AB']       AB       NaN      NaN      NaN      NaN  ...   \n",
      "1  ['AB', '22nd Jim']       AB  22nd Jim      NaN      NaN      NaN  ...   \n",
      "2     ['AB', 'Veeze']       AB     Veeze      NaN      NaN      NaN  ...   \n",
      "\n",
      "  time_signature                                         track_href  \\\n",
      "0            4.0  https://api.spotify.com/v1/tracks/5JucnTkqh8uC...   \n",
      "1            4.0  https://api.spotify.com/v1/tracks/4VWrKNG3ssyZ...   \n",
      "2            4.0  https://api.spotify.com/v1/tracks/6JsVrTLJPSOS...   \n",
      "\n",
      "             type                                   uri  valence explicit  \\\n",
      "0  audio_features  spotify:track:5JucnTkqh8uCZGggL1xxvv    0.382     True   \n",
      "1  audio_features  spotify:track:4VWrKNG3ssyZeboTgQ7Kj1    0.193     True   \n",
      "2  audio_features  spotify:track:6JsVrTLJPSOSpgJSnZyfSK    0.835     True   \n",
      "\n",
      "  track_popularity  release_year release_month  rn  \n",
      "0              0.0        2023.0         April   1  \n",
      "1              1.0        2023.0         April   1  \n",
      "2              1.0        2023.0         April   1  \n",
      "\n",
      "[3 rows x 49 columns] \n",
      "\n",
      "Información del DataFrame:\n",
      "\n",
      "<class 'pandas.core.frame.DataFrame'>\n",
      "RangeIndex: 375141 entries, 0 to 375140\n",
      "Data columns (total 49 columns):\n",
      " #   Column             Non-Null Count   Dtype  \n",
      "---  ------             --------------   -----  \n",
      " 0   album_id           375141 non-null  object \n",
      " 1   album_name         375141 non-null  object \n",
      " 2   album_popularity   375141 non-null  int64  \n",
      " 3   album_type         375141 non-null  object \n",
      " 4   artists            375141 non-null  object \n",
      " 5   artist_0           375139 non-null  object \n",
      " 6   artist_1           87079 non-null   object \n",
      " 7   artist_2           38300 non-null   object \n",
      " 8   artist_3           13823 non-null   object \n",
      " 9   artist_4           6087 non-null    object \n",
      " 10  artist_id          375141 non-null  object \n",
      " 11  duration_sec       375141 non-null  float64\n",
      " 12  label              375117 non-null  object \n",
      " 13  release_date       375119 non-null  object \n",
      " 14  total_tracks       375141 non-null  int64  \n",
      " 15  track_id           375141 non-null  object \n",
      " 16  track_name         375139 non-null  object \n",
      " 17  track_number       375141 non-null  int64  \n",
      " 18  artist_genres      375141 non-null  object \n",
      " 19  artist_popularity  375141 non-null  int64  \n",
      " 20  followers          375141 non-null  int64  \n",
      " 21  name               375141 non-null  object \n",
      " 22  genre_0            209863 non-null  object \n",
      " 23  genre_1            119486 non-null  object \n",
      " 24  genre_2            77219 non-null   object \n",
      " 25  genre_3            48610 non-null   object \n",
      " 26  genre_4            31317 non-null   object \n",
      " 27  acousticness       374364 non-null  float64\n",
      " 28  analysis_url       374364 non-null  object \n",
      " 29  danceability       374364 non-null  float64\n",
      " 30  duration_ms        374364 non-null  float64\n",
      " 31  energy             374364 non-null  float64\n",
      " 32  instrumentalness   374364 non-null  float64\n",
      " 33  key                374364 non-null  float64\n",
      " 34  liveness           374364 non-null  float64\n",
      " 35  loudness           374364 non-null  float64\n",
      " 36  mode               374364 non-null  float64\n",
      " 37  speechiness        374364 non-null  float64\n",
      " 38  tempo              374364 non-null  float64\n",
      " 39  time_signature     374364 non-null  float64\n",
      " 40  track_href         374364 non-null  object \n",
      " 41  type               374364 non-null  object \n",
      " 42  uri                374364 non-null  object \n",
      " 43  valence            374364 non-null  float64\n",
      " 44  explicit           375131 non-null  object \n",
      " 45  track_popularity   375131 non-null  float64\n",
      " 46  release_year       375119 non-null  float64\n",
      " 47  release_month      375119 non-null  object \n",
      " 48  rn                 375141 non-null  int64  \n",
      "dtypes: float64(16), int64(6), object(27)\n",
      "memory usage: 140.2+ MB\n",
      "None \n",
      "\n",
      "Descripción estadística:\n",
      "        album_popularity   duration_sec   total_tracks   track_number  \\\n",
      "count     375141.000000  375141.000000  375141.000000  375141.000000   \n",
      "mean          17.132020     215.427770      18.258711       8.039367   \n",
      "std           20.371022     125.727422      26.674688       8.089265   \n",
      "min            0.000000       0.000000       1.000000       1.000000   \n",
      "25%            1.000000     159.700000       8.000000       2.000000   \n",
      "50%            8.000000     204.545000      13.000000       6.000000   \n",
      "75%           28.000000     251.480000      20.000000      11.000000   \n",
      "max          100.000000   17919.000000     984.000000      50.000000   \n",
      "\n",
      "       artist_popularity     followers   acousticness   danceability  \\\n",
      "count      375141.000000  3.751410e+05  374364.000000  374364.000000   \n",
      "mean           29.346552  2.282646e+06       0.385691       0.572329   \n",
      "std            26.250589  9.635135e+06       0.359072       0.190816   \n",
      "min             0.000000  0.000000e+00       0.000000       0.000000   \n",
      "25%             5.000000  2.500000e+02       0.038900       0.452000   \n",
      "50%            24.000000  3.511000e+03       0.268000       0.598000   \n",
      "75%            48.000000  9.816100e+04       0.739000       0.714000   \n",
      "max           100.000000  1.160356e+08       0.996000       0.999000   \n",
      "\n",
      "        duration_ms         energy  ...       liveness       loudness  \\\n",
      "count  3.743640e+05  374364.000000  ...  374364.000000  374364.000000   \n",
      "mean   2.155215e+05       0.524809  ...       0.196691     -11.248916   \n",
      "std    1.166461e+05       0.264170  ...       0.175032       6.548005   \n",
      "min    3.056000e+03       0.000000  ...       0.000000     -60.000000   \n",
      "25%    1.600000e+05       0.319000  ...       0.097400     -14.060000   \n",
      "50%    2.047070e+05       0.539000  ...       0.124000      -9.527000   \n",
      "75%    2.516130e+05       0.736000  ...       0.235000      -6.681000   \n",
      "max    5.280027e+06       1.000000  ...       1.000000       3.744000   \n",
      "\n",
      "                mode    speechiness          tempo  time_signature  \\\n",
      "count  374364.000000  374364.000000  374364.000000   374364.000000   \n",
      "mean        0.637981       0.116585     118.651284        3.874149   \n",
      "std         0.480585       0.162882      30.516832        0.520690   \n",
      "min         0.000000       0.000000       0.000000        0.000000   \n",
      "25%         0.000000       0.036400      94.989000        4.000000   \n",
      "50%         1.000000       0.050100     119.422000        4.000000   \n",
      "75%         1.000000       0.109000     138.005000        4.000000   \n",
      "max         1.000000       0.970000     249.428000        5.000000   \n",
      "\n",
      "             valence  track_popularity   release_year        rn  \n",
      "count  374364.000000     375131.000000  375119.000000  375141.0  \n",
      "mean        0.453961         10.273267    2013.410198       1.0  \n",
      "std         0.266342         15.633540      11.814354       0.0  \n",
      "min         0.000000          0.000000    1886.000000       1.0  \n",
      "25%         0.231000          0.000000    2010.000000       1.0  \n",
      "50%         0.440000          2.000000    2017.000000       1.0  \n",
      "75%         0.664000         15.000000    2022.000000       1.0  \n",
      "max         1.000000         99.000000    2023.000000       1.0  \n",
      "\n",
      "[8 rows x 22 columns] \n",
      "\n",
      "Valores faltantes por columna:\n",
      " album_id                  0\n",
      "album_name                0\n",
      "album_popularity          0\n",
      "album_type                0\n",
      "artists                   0\n",
      "artist_0                  2\n",
      "artist_1             288062\n",
      "artist_2             336841\n",
      "artist_3             361318\n",
      "artist_4             369054\n",
      "artist_id                 0\n",
      "duration_sec              0\n",
      "label                    24\n",
      "release_date             22\n",
      "total_tracks              0\n",
      "track_id                  0\n",
      "track_name                2\n",
      "track_number              0\n",
      "artist_genres             0\n",
      "artist_popularity         0\n",
      "followers                 0\n",
      "name                      0\n",
      "genre_0              165278\n",
      "genre_1              255655\n",
      "genre_2              297922\n",
      "genre_3              326531\n",
      "genre_4              343824\n",
      "acousticness            777\n",
      "analysis_url            777\n",
      "danceability            777\n",
      "duration_ms             777\n",
      "energy                  777\n",
      "instrumentalness        777\n",
      "key                     777\n",
      "liveness                777\n",
      "loudness                777\n",
      "mode                    777\n",
      "speechiness             777\n",
      "tempo                   777\n",
      "time_signature          777\n",
      "track_href              777\n",
      "type                    777\n",
      "uri                     777\n",
      "valence                 777\n",
      "explicit                 10\n",
      "track_popularity         10\n",
      "release_year             22\n",
      "release_month            22\n",
      "rn                        0\n",
      "dtype: int64\n"
     ]
    }
   ],
   "source": [
    "# Visualizar las primeras filas del DataFrame\n",
    "print(\"Primeras filas del DataFrame:\\n\", spotify_features_data.head(3), \"\\n\")\n",
    "\n",
    "# Comprobamos la información el DataFrame\n",
    "print(\"Información del DataFrame:\\n\")\n",
    "print(spotify_features_data.info(), \"\\n\")\n",
    "\n",
    "# Descripción estadística de las columnas numéricas\n",
    "print(\"Descripción estadística:\\n\", spotify_features_data.describe(), \"\\n\")\n",
    "\n",
    "# Contamos los valores faltantes por columna\n",
    "print(\"Valores faltantes por columna:\\n\", spotify_features_data.isna().sum())"
   ]
  },
  {
   "cell_type": "code",
   "execution_count": 4,
   "metadata": {},
   "outputs": [
    {
     "data": {
      "text/plain": [
       "album_id              67991\n",
       "album_name            61468\n",
       "album_popularity         99\n",
       "album_type                2\n",
       "artists               66002\n",
       "artist_0              35112\n",
       "artist_1              24641\n",
       "artist_2               9567\n",
       "artist_3               3828\n",
       "artist_4               1756\n",
       "artist_id             31699\n",
       "duration_sec         138290\n",
       "label                 29639\n",
       "release_date           7503\n",
       "total_tracks            151\n",
       "track_id             375141\n",
       "track_name           275524\n",
       "track_number             50\n",
       "artist_genres          5993\n",
       "artist_popularity        94\n",
       "followers             12001\n",
       "name                  30948\n",
       "genre_0                3008\n",
       "genre_1                1740\n",
       "genre_2                 955\n",
       "genre_3                 524\n",
       "genre_4                 301\n",
       "acousticness           5242\n",
       "analysis_url         374364\n",
       "danceability           1327\n",
       "duration_ms          137997\n",
       "energy                 2918\n",
       "instrumentalness       5402\n",
       "key                      12\n",
       "liveness               1769\n",
       "loudness              32916\n",
       "mode                      2\n",
       "speechiness            1653\n",
       "tempo                101940\n",
       "time_signature            5\n",
       "track_href           374364\n",
       "type                      1\n",
       "uri                  374364\n",
       "valence                2043\n",
       "explicit                  2\n",
       "track_popularity        100\n",
       "release_year             85\n",
       "release_month            12\n",
       "rn                        1\n",
       "dtype: int64"
      ]
     },
     "execution_count": 4,
     "metadata": {},
     "output_type": "execute_result"
    }
   ],
   "source": [
    "# Comprobamos los datos unicos de las columnas\n",
    "spotify_features_data.nunique()"
   ]
  },
  {
   "cell_type": "code",
   "execution_count": 5,
   "metadata": {},
   "outputs": [
    {
     "data": {
      "text/plain": [
       "6qgAuugdqobfFpxbvDH5zp    50\n",
       "6PyXDQ7RHgjW6kqPjdzCkn    50\n",
       "7JaXcjZSJ3l7SFPNhbkhG9    50\n",
       "5wfE8jSFFeOgweSvKrQHEf    50\n",
       "14VVqBoDw1SxoNLW3Cj3mN    50\n",
       "                          ..\n",
       "232GXMKh6CQyLOcmH0Idzv     1\n",
       "2lNbJRscao0jJV4ODJGxSf     1\n",
       "1YZGjwVr5NaB7A2wtKCv1Y     1\n",
       "2pXP6FJsvQNbTzY0PNUCX7     1\n",
       "5mSOpBwtuQUIg69cClKiFF     1\n",
       "Name: album_id, Length: 67991, dtype: int64"
      ]
     },
     "execution_count": 5,
     "metadata": {},
     "output_type": "execute_result"
    }
   ],
   "source": [
    "#album_id es un object, 375141 valores, 0 nans, dentro de los 375141 valores hay 67991 unicos, este es el total de albums que tenemos. 307150 valores repetidos\n",
    "#es el id del album de spoti\n",
    "\n",
    "spotify_features_data[\"album_id\"].value_counts()"
   ]
  },
  {
   "cell_type": "code",
   "execution_count": 6,
   "metadata": {},
   "outputs": [
    {
     "data": {
      "text/plain": [
       "Nirvana                                                                          707\n",
       "Exodus                                                                           489\n",
       "Action                                                                           385\n",
       "Future                                                                           367\n",
       "Bach: St. John Passion                                                           305\n",
       "                                                                                ... \n",
       "Byrne Nottley                                                                      1\n",
       "Dimes Only (Feat. Snoop Dogg, Follow Your Instinct & Jacob Luttrell)               1\n",
       "Bebe Rexha & David Guetta One In A Million (Alex Laray & Parry Vishion Remix)      1\n",
       "The Summer Was 11Hz                                                                1\n",
       "Love Story (Digital Dog Remix)                                                     1\n",
       "Name: album_name, Length: 61468, dtype: int64"
      ]
     },
     "execution_count": 6,
     "metadata": {},
     "output_type": "execute_result"
    }
   ],
   "source": [
    "#album_name, object, 375141 valores, 0 nans, 61468 valores unicos, 313673 repetidos\n",
    "# ¿Este dato no deberia ser igual a album_id?\n",
    "\n",
    "spotify_features_data[\"album_name\"].value_counts()"
   ]
  },
  {
   "cell_type": "code",
   "execution_count": 7,
   "metadata": {},
   "outputs": [
    {
     "data": {
      "text/plain": [
       "0      74198\n",
       "1      34489\n",
       "2      20297\n",
       "3      15216\n",
       "4      11668\n",
       "       ...  \n",
       "100       22\n",
       "98        21\n",
       "97        17\n",
       "90        11\n",
       "93        10\n",
       "Name: album_popularity, Length: 99, dtype: int64"
      ]
     },
     "execution_count": 7,
     "metadata": {},
     "output_type": "execute_result"
    }
   ],
   "source": [
    "#album_popularity, entero, dato numerico, 375141 valores, no Nans, valores que van del 0 al 100, \n",
    "#Album más popular, más cercano a 100, más popular.\n",
    "\n",
    "spotify_features_data[\"album_popularity\"].value_counts()"
   ]
  },
  {
   "cell_type": "code",
   "execution_count": 8,
   "metadata": {},
   "outputs": [
    {
     "data": {
      "text/plain": [
       "album     297589\n",
       "single     77552\n",
       "Name: album_type, dtype: int64"
      ]
     },
     "execution_count": 8,
     "metadata": {},
     "output_type": "execute_result"
    }
   ],
   "source": [
    "# album_type, object, 375141 valores, no tiene Nans, hay dos tipos: Album o single\n",
    "\n",
    "spotify_features_data[\"album_type\"].value_counts()"
   ]
  },
  {
   "cell_type": "code",
   "execution_count": 9,
   "metadata": {},
   "outputs": [
    {
     "data": {
      "text/plain": [
       "['The Karaoke Channel']                 1769\n",
       "[\"Singer's Edge Karaoke\"]               1455\n",
       "['Raphael']                             1409\n",
       "['Johnny Cash']                         1351\n",
       "['ProSound Karaoke Band']               1285\n",
       "                                        ... \n",
       "['Rafael Querido']                         1\n",
       "['Yung Drilla YG']                         1\n",
       "['Yung Gunna Boi', \"M'bagz Pacino\"]        1\n",
       "['Yung Gunna Boi', 'Brick Wolfpack']       1\n",
       "['Taylor Swift', 'Digital Dog']            1\n",
       "Name: artists, Length: 66002, dtype: int64"
      ]
     },
     "execution_count": 9,
     "metadata": {},
     "output_type": "execute_result"
    }
   ],
   "source": [
    "#artists, object, 375141 valores, no tiene Nans, 66002 valores unicos, 309139 valores repetidos\n",
    "spotify_features_data[\"artists\"].value_counts()"
   ]
  },
  {
   "cell_type": "code",
   "execution_count": 10,
   "metadata": {},
   "outputs": [
    {
     "data": {
      "text/plain": [
       "Johann Sebastian Bach    2483\n",
       "Johnny Cash              1792\n",
       "The Karaoke Channel      1769\n",
       "Raphael                  1519\n",
       "Singer's Edge Karaoke    1455\n",
       "                         ... \n",
       "Jazzy Music                 1\n",
       "Jaye Rhodes                 1\n",
       "Gunna Black                 1\n",
       "George Anto                 1\n",
       "Little Big Town             1\n",
       "Name: artist_0, Length: 35112, dtype: int64"
      ]
     },
     "execution_count": 10,
     "metadata": {},
     "output_type": "execute_result"
    }
   ],
   "source": [
    "#artist_0, object, 375139 valores, 2 Nans, 35112 valores unicos, 340027 valores repetidos\n",
    "#esta columna hace referencia al artista\n",
    "\n",
    "spotify_features_data[\"artist_0\"].value_counts()"
   ]
  },
  {
   "cell_type": "code",
   "execution_count": 11,
   "metadata": {},
   "outputs": [
    {
     "data": {
      "text/plain": [
       "Sound Healing Center                      1445\n",
       "Choir of St. John's College, Cambridge     764\n",
       "Trap House Mafia                           453\n",
       "Snoop Dogg                                 410\n",
       "Lil Wayne                                  343\n",
       "                                          ... \n",
       "kaywikk                                      1\n",
       "KaeGoodie                                    1\n",
       "D.Marlo                                      1\n",
       "Anodrac                                      1\n",
       "Digital Dog                                  1\n",
       "Name: artist_1, Length: 24641, dtype: int64"
      ]
     },
     "execution_count": 11,
     "metadata": {},
     "output_type": "execute_result"
    }
   ],
   "source": [
    "#artist_1, object, 87079 valores, 288062 Nans, 24641 valores unicos, 62438 repetidos\n",
    "# esta columna hace referencia a canciones que cantan dos artistas, esto significa que hay 87079 con dos artistas, por ejemplo una cancion del album Son Of Tabu es cantado por 'AB' y'Veeze'\n",
    "#valores repetidos es la cantidad total de artistas que cantan juntos varios temas\n",
    "\n",
    "spotify_features_data[\"artist_1\"].value_counts()"
   ]
  },
  {
   "cell_type": "code",
   "execution_count": 12,
   "metadata": {},
   "outputs": [
    {
     "data": {
      "text/plain": [
       "Sound Healing Center                   1300\n",
       "Hip Hop Type Beat                       453\n",
       "Andrew Nethsingha                       283\n",
       "Academy of St. Martin in the Fields     263\n",
       "New York Philharmonic                   219\n",
       "                                       ... \n",
       "Coxenberg                                 1\n",
       "Twigg                                     1\n",
       "OHTORA                                    1\n",
       "B4lreem                                   1\n",
       "Ryan Tedder                               1\n",
       "Name: artist_2, Length: 9567, dtype: int64"
      ]
     },
     "execution_count": 12,
     "metadata": {},
     "output_type": "execute_result"
    }
   ],
   "source": [
    "#artist_2, object, 38300 valores, 336841 Nans, 9567 valores unicos, 28733 repetidos\n",
    "\n",
    "spotify_features_data[\"artist_2\"].value_counts()"
   ]
  },
  {
   "cell_type": "code",
   "execution_count": 13,
   "metadata": {},
   "outputs": [
    {
     "data": {
      "text/plain": [
       "George Guest                           199\n",
       "Academy of St. Martin in the Fields    156\n",
       "Sir Neville Marriner                   137\n",
       "India Fisher                           133\n",
       "Maggie Stables                         109\n",
       "                                      ... \n",
       "Andrea Libman                            1\n",
       "Natalie Sharp                            1\n",
       "Jaques Morelenbaum                       1\n",
       "Anders Bondeman                          1\n",
       "DJ Nelson                                1\n",
       "Name: artist_3, Length: 3828, dtype: int64"
      ]
     },
     "execution_count": 13,
     "metadata": {},
     "output_type": "execute_result"
    }
   ],
   "source": [
    "#artist_3, object, 13823 valores, 361318 valores Nans, 3828 valores unicos, 9995 repetidos\n",
    "\n",
    "spotify_features_data[\"artist_3\"].value_counts()"
   ]
  },
  {
   "cell_type": "code",
   "execution_count": 14,
   "metadata": {},
   "outputs": [
    {
     "data": {
      "text/plain": [
       "Makoto Sakurada                        86\n",
       "Mark Padmore                           80\n",
       "Ingeborg Danz                          71\n",
       "George Guest                           66\n",
       "Academy of St. Martin in the Fields    63\n",
       "                                       ..\n",
       "Stunny!                                 1\n",
       "Los Menores 4 AM                        1\n",
       "AK26                                    1\n",
       "Ray Fuego                               1\n",
       "El Fother                               1\n",
       "Name: artist_4, Length: 1756, dtype: int64"
      ]
     },
     "execution_count": 14,
     "metadata": {},
     "output_type": "execute_result"
    }
   ],
   "source": [
    "#artist_4, object, 6087 valores, 369054 nulos, 1756 unicos, 4331 repetidos\n",
    "\n",
    "spotify_features_data[\"artist_4\"].value_counts()"
   ]
  },
  {
   "cell_type": "code",
   "execution_count": 15,
   "metadata": {},
   "outputs": [
    {
     "data": {
      "text/plain": [
       "5aIqB5nVVvmFsvSdExz408    2292\n",
       "6kACVPfCOnqzgfEF5ryl0x    1897\n",
       "5UloVKzUNJcjORzhhTWWiJ    1763\n",
       "3CtgjasLNN3Ym8SHm5JuJn    1455\n",
       "2o5jDhtHVPhrJdv3cEQ99Z    1442\n",
       "                          ... \n",
       "6LlKZK9P1msOFVXF5x5uFe       1\n",
       "1UHiuMG5lF2jiX1v5pkwaX       1\n",
       "0c8wV1AM6Kfnc55UBww5pG       1\n",
       "7uXg8cHXoZzR2edMEXR8t1       1\n",
       "4pk5Jovc6GAggQrLXGYDWB       1\n",
       "Name: artist_id, Length: 31699, dtype: int64"
      ]
     },
     "execution_count": 15,
     "metadata": {},
     "output_type": "execute_result"
    }
   ],
   "source": [
    "#artist_id, object, 375141 valores, no nulos, 31699 valores unicos, 343442 repetidos \n",
    "\n",
    "spotify_features_data[\"artist_id\"].value_counts()"
   ]
  },
  {
   "cell_type": "code",
   "execution_count": 16,
   "metadata": {},
   "outputs": [
    {
     "data": {
      "text/plain": [
       "0.000        2\n",
       "0.184        1\n",
       "0.737        1\n",
       "0.798        1\n",
       "0.850        1\n",
       "            ..\n",
       "5280.026     1\n",
       "7295.500     1\n",
       "12813.333    1\n",
       "17040.000    1\n",
       "17919.000    1\n",
       "Name: duration_sec, Length: 138290, dtype: int64"
      ]
     },
     "execution_count": 16,
     "metadata": {},
     "output_type": "execute_result"
    }
   ],
   "source": [
    "#duration_sec, float64, 375141 valores, no nulos, 138290 valores unicos, 236851 repetidos\n",
    "#el valor que mas se reppite son 120 segundos, hay alguna cancion que no tiene sentido su duracion, por ejemplo, 0 segundos:\n",
    "\n",
    "spotify_features_data[\"duration_sec\"].value_counts().sort_index()"
   ]
  },
  {
   "cell_type": "code",
   "execution_count": 17,
   "metadata": {},
   "outputs": [
    {
     "data": {
      "text/plain": [
       "Sami Springs              3395\n",
       "CC Entertainment          3197\n",
       "Columbia                  2316\n",
       "Legacy Recordings         2058\n",
       "Ameritz Music Ltd         2040\n",
       "                          ... \n",
       "FUJI JR                      1\n",
       "ARTIST DISTRIBUTION          1\n",
       "WEST JAVA MUSIC RECORD       1\n",
       "Rod Truss                    1\n",
       "2078922 Records DK2          1\n",
       "Name: label, Length: 29639, dtype: int64"
      ]
     },
     "execution_count": 17,
     "metadata": {},
     "output_type": "execute_result"
    }
   ],
   "source": [
    "# label, object, 375117 valores, 24 nulos,  29639 unicos, 345478 repetidos\n",
    "#por los resultados que da, entiendo que esta columna se refiere al sello discografico.\n",
    "\n",
    "spotify_features_data[\"label\"].value_counts()"
   ]
  },
  {
   "cell_type": "code",
   "execution_count": 18,
   "metadata": {},
   "outputs": [
    {
     "data": {
      "text/plain": [
       "1886-01-01 00:00:00 UTC     4\n",
       "1899-12-30 00:00:00 UTC    20\n",
       "1900-01-01 00:00:00 UTC    14\n",
       "1901-01-01 00:00:00 UTC    50\n",
       "1912-01-01 00:00:00 UTC    13\n",
       "                           ..\n",
       "2023-12-16 00:00:00 UTC    20\n",
       "2023-12-17 00:00:00 UTC    33\n",
       "2023-12-19 00:00:00 UTC     1\n",
       "2023-12-20 00:00:00 UTC    14\n",
       "2023-12-22 00:00:00 UTC     2\n",
       "Name: release_date, Length: 7503, dtype: int64"
      ]
     },
     "execution_count": 18,
     "metadata": {},
     "output_type": "execute_result"
    }
   ],
   "source": [
    "#release_date, object, 375119 valores, 22 nulos, 7503 unicos, 367616 repetidos\n",
    "# fecha de lanzamiento, la mas repetida es el 1/01/2008 y la mas antigua el 1/01/1886??, la mas reciente el 22/12/23\n",
    "\n",
    "spotify_features_data[\"release_date\"].value_counts().sort_index()"
   ]
  },
  {
   "cell_type": "code",
   "execution_count": 19,
   "metadata": {},
   "outputs": [
    {
     "data": {
      "text/plain": [
       "1      34736\n",
       "10     30071\n",
       "12     27286\n",
       "11     19864\n",
       "14     18289\n",
       "       ...  \n",
       "283       50\n",
       "928       50\n",
       "984       50\n",
       "74        50\n",
       "150       50\n",
       "Name: total_tracks, Length: 151, dtype: int64"
      ]
     },
     "execution_count": 19,
     "metadata": {},
     "output_type": "execute_result"
    }
   ],
   "source": [
    "# total_tracks, entero, 375141 valores, no tiene Nans, 151 unicos, 374990 repetidos\n",
    "\n",
    "spotify_features_data[\"total_tracks\"].value_counts()"
   ]
  },
  {
   "cell_type": "code",
   "execution_count": 20,
   "metadata": {},
   "outputs": [
    {
     "data": {
      "text/plain": [
       "5JucnTkqh8uCZGggL1xxvv    1\n",
       "2w3mlYwUX5efwXjIkGkO64    1\n",
       "2Aq2IbxgKsFlbZbUix7mKI    1\n",
       "7Dxv6HIquXGFXKXSRMxZVC    1\n",
       "7AStBA9de3kR9laQjZfwCU    1\n",
       "                         ..\n",
       "7uuCq4pJ166X49hnI6YJ2E    1\n",
       "08RvbSrLQrBXSf0oiAcYHR    1\n",
       "6gPDw6NlZ71Md4TgrVkhpd    1\n",
       "1nKcL9dKVJI04BtRMNXPUE    1\n",
       "6WZgeIZgy7iFSC25chloVu    1\n",
       "Name: track_id, Length: 375141, dtype: int64"
      ]
     },
     "execution_count": 20,
     "metadata": {},
     "output_type": "execute_result"
    }
   ],
   "source": [
    "#track_id, object, 375141, valores, no Nnas, 375141 unicos, no valores repetidos\n",
    "\n",
    "spotify_features_data[\"track_id\"].value_counts()"
   ]
  },
  {
   "cell_type": "code",
   "execution_count": 21,
   "metadata": {},
   "outputs": [
    {
     "data": {
      "text/plain": [
       "Intro                                                           511\n",
       "Outro                                                           161\n",
       "Home                                                             98\n",
       "Stay                                                             94\n",
       "Silent Night                                                     92\n",
       "                                                               ... \n",
       "Beautiful Music To Relax To                                       1\n",
       "Continuous Flow (Background Song)                                 1\n",
       "Zen Song                                                          1\n",
       "Energy Yoga Studio                                                1\n",
       "Everything Has Changed - Instrumental With Background Vocals      1\n",
       "Name: track_name, Length: 275524, dtype: int64"
      ]
     },
     "execution_count": 21,
     "metadata": {},
     "output_type": "execute_result"
    }
   ],
   "source": [
    "#track_name, object, 375139 valores, 2 nulos,  275524 unicos, 99615 repetidos\n",
    "\n",
    "spotify_features_data[\"track_name\"].value_counts()"
   ]
  },
  {
   "cell_type": "code",
   "execution_count": 22,
   "metadata": {},
   "outputs": [
    {
     "data": {
      "text/plain": [
       "1     67976\n",
       "2     33415\n",
       "3     28501\n",
       "4     25982\n",
       "5     24210\n",
       "6     22584\n",
       "7     20984\n",
       "8     19807\n",
       "9     18280\n",
       "10    16943\n",
       "11    13811\n",
       "12    11925\n",
       "13     9518\n",
       "14     8076\n",
       "15     6664\n",
       "16     5464\n",
       "17     4540\n",
       "18     3945\n",
       "19     3365\n",
       "20     2980\n",
       "21     2343\n",
       "22     2083\n",
       "23     1814\n",
       "24     1661\n",
       "25     1497\n",
       "26     1342\n",
       "27     1194\n",
       "28     1135\n",
       "29     1060\n",
       "30     1017\n",
       "31      858\n",
       "32      810\n",
       "33      743\n",
       "34      705\n",
       "35      667\n",
       "36      630\n",
       "37      602\n",
       "38      586\n",
       "39      571\n",
       "40      548\n",
       "41      481\n",
       "42      476\n",
       "43      457\n",
       "44      444\n",
       "45      442\n",
       "46      423\n",
       "47      414\n",
       "48      397\n",
       "49      392\n",
       "50      379\n",
       "Name: track_number, dtype: int64"
      ]
     },
     "execution_count": 22,
     "metadata": {},
     "output_type": "execute_result"
    }
   ],
   "source": [
    "#track_number, enteros, 375141, no Nnas, 50 valores uniso, 375091 repetidos\n",
    "#valores de 1 al 50. SI me meto dentro del album de spotify, que posicion ocupa la canción. SIgue un patrón, la mas escuchada es la que aparece de numero 1 y la menos la 50\n",
    "\n",
    "spotify_features_data[\"track_number\"].value_counts()"
   ]
  },
  {
   "cell_type": "code",
   "execution_count": 23,
   "metadata": {},
   "outputs": [
    {
     "data": {
      "text/plain": [
       "[]                                                           165278\n",
       "['karaoke']                                                   15344\n",
       "['baroque', 'classical', 'early music', 'german baroque']      2292\n",
       "['workout product']                                            2039\n",
       "['arkansas country', 'outlaw country', 'rock']                 1897\n",
       "                                                              ...  \n",
       "['chopped and screwed']                                           1\n",
       "['musica sergipana', 'rock sergipano']                            1\n",
       "['seggae']                                                        1\n",
       "['hard minimal techno', 'melbourne bounce']                       1\n",
       "['barbadian pop', 'chutney', 'soca']                              1\n",
       "Name: artist_genres, Length: 5993, dtype: int64"
      ]
     },
     "execution_count": 23,
     "metadata": {},
     "output_type": "execute_result"
    }
   ],
   "source": [
    "#artist_genres, object, 375141 valores, no Nans, 5993 unicos, 369148 repetidos.\n",
    "#Ojo aquí hay 1650278 valores que aparecen en blanco.\n",
    "# Tenemos 209863 que realmente están etiquetados. \n",
    "#entiendo que los valores en blanco es porque no están etiquetados dentro de spoti.\n",
    "#Ojo, un artista puede estar etiquetado dentro de varios generos.\n",
    "\n",
    "spotify_features_data[\"artist_genres\"].value_counts()"
   ]
  },
  {
   "cell_type": "code",
   "execution_count": 24,
   "metadata": {},
   "outputs": [
    {
     "data": {
      "text/plain": [
       "209863"
      ]
     },
     "execution_count": 24,
     "metadata": {},
     "output_type": "execute_result"
    }
   ],
   "source": [
    "375141 - 165278 #estos son los datos que nos quedariamos si eliminamos lo que quedan en blanco"
   ]
  },
  {
   "cell_type": "code",
   "execution_count": 25,
   "metadata": {},
   "outputs": [
    {
     "data": {
      "text/plain": [
       "0      46397\n",
       "1      16746\n",
       "2      10475\n",
       "3       8447\n",
       "4       8699\n",
       "       ...  \n",
       "89      1009\n",
       "90       403\n",
       "93       407\n",
       "95       785\n",
       "100      938\n",
       "Name: artist_popularity, Length: 94, dtype: int64"
      ]
     },
     "execution_count": 25,
     "metadata": {},
     "output_type": "execute_result"
    }
   ],
   "source": [
    "#artist_popularity, int, 375141 valores, no Nans, 94 valores unicos, 375047 repetidos\n",
    "#Los valores comprenden entre el 0-100, más cercano a 100, más popular el artista.\n",
    "\n",
    "spotify_features_data[\"artist_popularity\"].value_counts().sort_index()"
   ]
  },
  {
   "cell_type": "code",
   "execution_count": 26,
   "metadata": {},
   "outputs": [
    {
     "data": {
      "text/plain": [
       "0            3009\n",
       "1            2001\n",
       "2            1713\n",
       "3            1467\n",
       "4            1539\n",
       "             ... \n",
       "95741850       18\n",
       "95859165      938\n",
       "115998928       6\n",
       "116016052       6\n",
       "116035640       2\n",
       "Name: followers, Length: 12001, dtype: int64"
      ]
     },
     "execution_count": 26,
     "metadata": {},
     "output_type": "execute_result"
    }
   ],
   "source": [
    "# followers, int, 375141 valores, 12001 valores unicos, no Nans, 363140 valores repetidos\n",
    "# Hay 3009 datos que aparecen con 0 followers\n",
    "# Mas escuchado es nirvana.\n",
    "\n",
    "spotify_features_data[\"followers\"].value_counts().sort_index()"
   ]
  },
  {
   "cell_type": "code",
   "execution_count": 27,
   "metadata": {},
   "outputs": [
    {
     "data": {
      "text/plain": [
       "Johann Sebastian Bach    2292\n",
       "Johnny Cash              1897\n",
       "The Karaoke Channel      1763\n",
       "Raphael                  1521\n",
       "Singer's Edge Karaoke    1455\n",
       "                         ... \n",
       "Inertia                     1\n",
       "Whitney Moseley             1\n",
       "Voltimetro Bass             1\n",
       "ONJUICY                     1\n",
       "Hall Of Fame                1\n",
       "Name: name, Length: 30948, dtype: int64"
      ]
     },
     "execution_count": 27,
     "metadata": {},
     "output_type": "execute_result"
    }
   ],
   "source": [
    "#name, object, 375141 valores, no Nans, 30948 valores unicos, 344193 valores repetidos\n",
    "\n",
    "spotify_features_data[\"name\"].value_counts()"
   ]
  },
  {
   "cell_type": "code",
   "execution_count": 28,
   "metadata": {},
   "outputs": [
    {
     "data": {
      "text/plain": [
       "adelaide indie            1\n",
       "french romanticism        1\n",
       "trap baiano               1\n",
       "deep techno               1\n",
       "raggatek                  1\n",
       "                      ...  \n",
       "baroque                3421\n",
       "album rock             3707\n",
       "classical              3848\n",
       "dance pop              4496\n",
       "karaoke               15344\n",
       "Name: genre_0, Length: 3008, dtype: int64"
      ]
     },
     "execution_count": 28,
     "metadata": {},
     "output_type": "execute_result"
    }
   ],
   "source": [
    "# genre_0, object, 209863 valores, 165278Nans, 3008 valores unicos, 206855 repetidos\n",
    "\n",
    "spotify_features_data[\"genre_0\"].value_counts().sort_values()"
   ]
  },
  {
   "cell_type": "code",
   "execution_count": 29,
   "metadata": {},
   "outputs": [
    {
     "data": {
      "text/plain": [
       "44585"
      ]
     },
     "execution_count": 29,
     "metadata": {},
     "output_type": "execute_result"
    }
   ],
   "source": [
    "209863 - 165278 #estos son el numero total de datos que nos quedariamos si eliminasemos los nan de nenero"
   ]
  },
  {
   "cell_type": "code",
   "execution_count": 30,
   "metadata": {},
   "outputs": [],
   "source": [
    "#genre_1,2,3 y 4 abarcan mas de un genero."
   ]
  },
  {
   "cell_type": "code",
   "execution_count": 31,
   "metadata": {},
   "outputs": [
    {
     "data": {
      "text/plain": [
       "0.995000    2007\n",
       "0.994000    1688\n",
       "0.993000    1644\n",
       "0.992000    1605\n",
       "0.991000    1356\n",
       "            ... \n",
       "0.000009       1\n",
       "0.000008       1\n",
       "0.000007       1\n",
       "0.000005       1\n",
       "0.000006       1\n",
       "Name: acousticness, Length: 5242, dtype: int64"
      ]
     },
     "execution_count": 31,
     "metadata": {},
     "output_type": "execute_result"
    }
   ],
   "source": [
    "#acousticness, float, 374364 valores, 777 Nans, 5242 valores unicos, 369122 repetidos\n",
    "#Variable que va de 0 a 1, indica nivel de confianza de que la cancion sea acustica.\n",
    "\n",
    "spotify_features_data[\"acousticness\"].value_counts()"
   ]
  },
  {
   "cell_type": "code",
   "execution_count": 32,
   "metadata": {},
   "outputs": [
    {
     "data": {
      "text/plain": [
       "https://api.spotify.com/v1/audio-analysis/5JucnTkqh8uCZGggL1xxvv    1\n",
       "https://api.spotify.com/v1/audio-analysis/3essuepQGkhmThd037oiwp    1\n",
       "https://api.spotify.com/v1/audio-analysis/78ZPhDz7YFOlZsbU0f1q0V    1\n",
       "https://api.spotify.com/v1/audio-analysis/0gJjIkAa4OnoPzsjd0qVns    1\n",
       "https://api.spotify.com/v1/audio-analysis/0YxRx1G4GNqCJdkop9CrFP    1\n",
       "                                                                   ..\n",
       "https://api.spotify.com/v1/audio-analysis/1eCsDDNIWLpATa4SU3Dsko    1\n",
       "https://api.spotify.com/v1/audio-analysis/2cqLEMcNvqjBCwB3Akj2cX    1\n",
       "https://api.spotify.com/v1/audio-analysis/6VBuMFlEp7xd9lkgEKLzIG    1\n",
       "https://api.spotify.com/v1/audio-analysis/1mJ2IVIBW0xmOQ8QwWVtDA    1\n",
       "https://api.spotify.com/v1/audio-analysis/6WZgeIZgy7iFSC25chloVu    1\n",
       "Name: analysis_url, Length: 374364, dtype: int64"
      ]
     },
     "execution_count": 32,
     "metadata": {},
     "output_type": "execute_result"
    }
   ],
   "source": [
    "#analysis_url, object, 374364 valores, 777 Nans, 374364 unicos, no valores repetidos.\n",
    "\n",
    "spotify_features_data[\"analysis_url\"].value_counts()"
   ]
  },
  {
   "cell_type": "code",
   "execution_count": 33,
   "metadata": {},
   "outputs": [
    {
     "data": {
      "text/plain": [
       "0.0000    546\n",
       "0.0167      1\n",
       "0.0236      1\n",
       "0.0492      1\n",
       "0.0532      1\n",
       "         ... \n",
       "0.9880      7\n",
       "0.9890      3\n",
       "0.9920      2\n",
       "0.9930      1\n",
       "0.9990      1\n",
       "Name: danceability, Length: 1327, dtype: int64"
      ]
     },
     "execution_count": 33,
     "metadata": {},
     "output_type": "execute_result"
    }
   ],
   "source": [
    "#danceability, float, 374364 valores, 777 Nans, 1327 unicos, 373037 repetidos.\n",
    "#Valores que van del 0 al 1 e indican cuanto de bailable es una cancion.\n",
    "\n",
    "spotify_features_data[\"danceability\"].value_counts().sort_index()\n"
   ]
  },
  {
   "cell_type": "code",
   "execution_count": 34,
   "metadata": {},
   "outputs": [
    {
     "data": {
      "text/plain": [
       "120000.0    1585\n",
       "192000.0     340\n",
       "240000.0     295\n",
       "180000.0     272\n",
       "60000.0      187\n",
       "            ... \n",
       "130568.0       1\n",
       "343850.0       1\n",
       "114504.0       1\n",
       "112584.0       1\n",
       "90441.0        1\n",
       "Name: duration_ms, Length: 137997, dtype: int64"
      ]
     },
     "execution_count": 34,
     "metadata": {},
     "output_type": "execute_result"
    }
   ],
   "source": [
    "#duration_ms, float, 374364 valroes, 777 Nans, 137997 valores unicos, 236367 repetidos\n",
    "#Indica el tiempo que dura la cancion en milisegundos\n",
    "spotify_features_data[\"duration_ms\"].value_counts()"
   ]
  },
  {
   "cell_type": "code",
   "execution_count": 35,
   "metadata": {},
   "outputs": [
    {
     "data": {
      "text/plain": [
       "0.539000    568\n",
       "0.640000    566\n",
       "0.562000    554\n",
       "0.662000    547\n",
       "0.528000    546\n",
       "           ... \n",
       "0.006380      1\n",
       "0.000923      1\n",
       "0.000945      1\n",
       "0.004270      1\n",
       "0.000848      1\n",
       "Name: energy, Length: 2918, dtype: int64"
      ]
     },
     "execution_count": 35,
     "metadata": {},
     "output_type": "execute_result"
    }
   ],
   "source": [
    "#energy, float, 374364 valores, 777 Nans, 2918 valores unicos, 371446 repetidos\n",
    "# Valores del 0 al 1.\n",
    "#Indica la energía de la canción, más proximo a 1 más energía tiene la cancion, más proximo a 0 menos,\n",
    "spotify_features_data[\"energy\"].value_counts()"
   ]
  },
  {
   "cell_type": "code",
   "execution_count": 36,
   "metadata": {},
   "outputs": [
    {
     "data": {
      "text/plain": [
       "0.000000    108294\n",
       "0.932000       674\n",
       "0.910000       655\n",
       "0.915000       652\n",
       "0.925000       646\n",
       "             ...  \n",
       "0.091600         4\n",
       "0.009670         4\n",
       "0.009930         3\n",
       "0.000096         3\n",
       "0.008450         3\n",
       "Name: instrumentalness, Length: 5402, dtype: int64"
      ]
     },
     "execution_count": 36,
     "metadata": {},
     "output_type": "execute_result"
    }
   ],
   "source": [
    "#instrumentalness, float, 374364 valores, 777 Nans, 5402 unicos, 368962 repetidos.\n",
    "# Valores del 0 al 1.\n",
    "# Valores más cercanos a 1 indican que la cancion es mas instrumental y los mas cercanos a 0, menos intriçumental.\n",
    "\n",
    "spotify_features_data[\"instrumentalness\"].value_counts()"
   ]
  },
  {
   "cell_type": "code",
   "execution_count": 37,
   "metadata": {},
   "outputs": [
    {
     "data": {
      "text/plain": [
       "0.0     43670\n",
       "1.0     39389\n",
       "2.0     37951\n",
       "3.0     12874\n",
       "4.0     27586\n",
       "5.0     31666\n",
       "6.0     23403\n",
       "7.0     42404\n",
       "8.0     24049\n",
       "9.0     36151\n",
       "10.0    26971\n",
       "11.0    28250\n",
       "Name: key, dtype: int64"
      ]
     },
     "execution_count": 37,
     "metadata": {},
     "output_type": "execute_result"
    }
   ],
   "source": [
    "#  key, float, 374364 valores, 777 key, 12 valores unicos, 374352 repetidos\n",
    "# valores que van del 0 al 11 \n",
    "#Canciones con bajo key suenan más graves, mientras que con alto key suenan más agudos.\n",
    "spotify_features_data[\"key\"].value_counts().sort_index()"
   ]
  },
  {
   "cell_type": "code",
   "execution_count": 38,
   "metadata": {},
   "outputs": [
    {
     "data": {
      "text/plain": [
       "0.11100    5634\n",
       "0.11000    5101\n",
       "0.10900    4783\n",
       "0.11200    4600\n",
       "0.10800    4574\n",
       "           ... \n",
       "0.01700       1\n",
       "0.01060       1\n",
       "0.01590       1\n",
       "0.00217       1\n",
       "0.00936       1\n",
       "Name: liveness, Length: 1769, dtype: int64"
      ]
     },
     "execution_count": 38,
     "metadata": {},
     "output_type": "execute_result"
    }
   ],
   "source": [
    "#liveness, float, 374364 valores, 777 Nans, 1769 unicos, 372595 repetidos.\n",
    "#Valores del 0 a 1\n",
    "#Indica la probabilidad de que la cancion haya sido grabada en vivo. Valores mas cercanos a 1 mas probable en vivo.\n",
    "spotify_features_data[\"liveness\"].value_counts()"
   ]
  },
  {
   "cell_type": "code",
   "execution_count": 39,
   "metadata": {},
   "outputs": [
    {
     "data": {
      "text/plain": [
       "-60.000    23\n",
       "-58.780     1\n",
       "-58.188     1\n",
       "-57.929     1\n",
       "-57.579     1\n",
       "           ..\n",
       " 2.801      1\n",
       " 2.853      1\n",
       " 2.868      1\n",
       " 3.053      1\n",
       " 3.744      1\n",
       "Name: loudness, Length: 32916, dtype: int64"
      ]
     },
     "execution_count": 39,
     "metadata": {},
     "output_type": "execute_result"
    }
   ],
   "source": [
    "#loudness, float, 374364 valores, 777 Nans, 32916 valores unicos, 341448 repetidos.\n",
    "#valores que van de -60 a 3.\n",
    "#La presencia de ruido en decibeles (dB), \n",
    "#este valor es el promedio de la cancion\n",
    "\n",
    "spotify_features_data[\"loudness\"].value_counts().sort_index()"
   ]
  },
  {
   "cell_type": "code",
   "execution_count": 40,
   "metadata": {},
   "outputs": [
    {
     "data": {
      "text/plain": [
       "1.0    238837\n",
       "0.0    135527\n",
       "Name: mode, dtype: int64"
      ]
     },
     "execution_count": 40,
     "metadata": {},
     "output_type": "execute_result"
    }
   ],
   "source": [
    "#mode, float, 374364 valores, 777 Nans, 2 valores unicos.\n",
    "# valores de 0 y 1\n",
    "# Indica la modalidad (mayor o menor) de una canción, el tipo de escala del que se deriva su contenido melódico. La mayor se representa con 1 y la menor con 0.\n",
    "\n",
    "spotify_features_data[\"mode\"].value_counts()"
   ]
  },
  {
   "cell_type": "code",
   "execution_count": 41,
   "metadata": {},
   "outputs": [
    {
     "data": {
      "text/plain": [
       "0.0000    545\n",
       "0.0217      1\n",
       "0.0218      1\n",
       "0.0221      2\n",
       "0.0222      2\n",
       "         ... \n",
       "0.9660     45\n",
       "0.9670     37\n",
       "0.9680     17\n",
       "0.9690      1\n",
       "0.9700      2\n",
       "Name: speechiness, Length: 1653, dtype: int64"
      ]
     },
     "execution_count": 41,
     "metadata": {},
     "output_type": "execute_result"
    }
   ],
   "source": [
    "#speechiness, float, 374364 valores, 777 Nans, 1653 unicos, 372711 iguales.\n",
    "#elementos de 0 a 1\n",
    "#inidca la presencia de palabras, mayores palabras puede indicar que se trata de un audiolibro, podcast etc.\n",
    "\n",
    "spotify_features_data[\"speechiness\"].value_counts().sort_index()"
   ]
  },
  {
   "cell_type": "code",
   "execution_count": 42,
   "metadata": {},
   "outputs": [
    {
     "data": {
      "text/plain": [
       "0.000      545\n",
       "120.001    139\n",
       "120.008    133\n",
       "119.999    125\n",
       "120.003    123\n",
       "          ... \n",
       "72.962       1\n",
       "179.612      1\n",
       "55.180       1\n",
       "180.341      1\n",
       "160.868      1\n",
       "Name: tempo, Length: 101940, dtype: int64"
      ]
     },
     "execution_count": 42,
     "metadata": {},
     "output_type": "execute_result"
    }
   ],
   "source": [
    "#tempo, float, 374364 valores, 777 Nans, 101940 unicos, 272424 diferentes.\n",
    "#indica la velocidad de una cancion.\n",
    "\n",
    "spotify_features_data[\"tempo\"].value_counts()"
   ]
  },
  {
   "cell_type": "code",
   "execution_count": 43,
   "metadata": {},
   "outputs": [
    {
     "data": {
      "text/plain": [
       "4.0    317462\n",
       "3.0     40062\n",
       "5.0     11004\n",
       "1.0      5288\n",
       "0.0       548\n",
       "Name: time_signature, dtype: int64"
      ]
     },
     "execution_count": 43,
     "metadata": {},
     "output_type": "execute_result"
    }
   ],
   "source": [
    "#time_signature, float, 374364 valores, 777 Nans, 5 unicso.\n",
    "#Indica La notación convencional que indica cuantos beats hay en cada bar. Se escriben únicamente los numeradores, ya que el denominador es 4. Por ejemplo, \"4/4\" o \"7/4\"\n",
    "\n",
    "spotify_features_data[\"time_signature\"].value_counts()"
   ]
  },
  {
   "cell_type": "code",
   "execution_count": 44,
   "metadata": {},
   "outputs": [
    {
     "data": {
      "text/plain": [
       "https://api.spotify.com/v1/tracks/5JucnTkqh8uCZGggL1xxvv    1\n",
       "https://api.spotify.com/v1/tracks/3essuepQGkhmThd037oiwp    1\n",
       "https://api.spotify.com/v1/tracks/78ZPhDz7YFOlZsbU0f1q0V    1\n",
       "https://api.spotify.com/v1/tracks/0gJjIkAa4OnoPzsjd0qVns    1\n",
       "https://api.spotify.com/v1/tracks/0YxRx1G4GNqCJdkop9CrFP    1\n",
       "                                                           ..\n",
       "https://api.spotify.com/v1/tracks/1eCsDDNIWLpATa4SU3Dsko    1\n",
       "https://api.spotify.com/v1/tracks/2cqLEMcNvqjBCwB3Akj2cX    1\n",
       "https://api.spotify.com/v1/tracks/6VBuMFlEp7xd9lkgEKLzIG    1\n",
       "https://api.spotify.com/v1/tracks/1mJ2IVIBW0xmOQ8QwWVtDA    1\n",
       "https://api.spotify.com/v1/tracks/6WZgeIZgy7iFSC25chloVu    1\n",
       "Name: track_href, Length: 374364, dtype: int64"
      ]
     },
     "execution_count": 44,
     "metadata": {},
     "output_type": "execute_result"
    }
   ],
   "source": [
    "#track_href, object, 374364 valores, 777 Nans, 374364 son todos lçvaloers unicos.\n",
    "\n",
    "spotify_features_data[\"track_href\"].value_counts()"
   ]
  },
  {
   "cell_type": "code",
   "execution_count": 45,
   "metadata": {},
   "outputs": [
    {
     "data": {
      "text/plain": [
       "audio_features    374364\n",
       "Name: type, dtype: int64"
      ]
     },
     "execution_count": 45,
     "metadata": {},
     "output_type": "execute_result"
    }
   ],
   "source": [
    "#type, object, 374364 valores, 777 Nans, 1 valor unico.\n",
    "\n",
    "spotify_features_data[\"type\"].value_counts()"
   ]
  },
  {
   "cell_type": "code",
   "execution_count": 46,
   "metadata": {},
   "outputs": [
    {
     "data": {
      "text/plain": [
       "spotify:track:5JucnTkqh8uCZGggL1xxvv    1\n",
       "spotify:track:3essuepQGkhmThd037oiwp    1\n",
       "spotify:track:78ZPhDz7YFOlZsbU0f1q0V    1\n",
       "spotify:track:0gJjIkAa4OnoPzsjd0qVns    1\n",
       "spotify:track:0YxRx1G4GNqCJdkop9CrFP    1\n",
       "                                       ..\n",
       "spotify:track:1eCsDDNIWLpATa4SU3Dsko    1\n",
       "spotify:track:2cqLEMcNvqjBCwB3Akj2cX    1\n",
       "spotify:track:6VBuMFlEp7xd9lkgEKLzIG    1\n",
       "spotify:track:1mJ2IVIBW0xmOQ8QwWVtDA    1\n",
       "spotify:track:6WZgeIZgy7iFSC25chloVu    1\n",
       "Name: uri, Length: 374364, dtype: int64"
      ]
     },
     "execution_count": 46,
     "metadata": {},
     "output_type": "execute_result"
    }
   ],
   "source": [
    "#uri, object, 374364 valores, 777 Nans, 374364 unicos (todo valores unicos)\n",
    "\n",
    "spotify_features_data[\"uri\"].value_counts()"
   ]
  },
  {
   "cell_type": "code",
   "execution_count": 47,
   "metadata": {},
   "outputs": [
    {
     "data": {
      "text/plain": [
       "0.000000     845\n",
       "0.000010    1278\n",
       "0.000022       1\n",
       "0.000087       1\n",
       "0.000115       1\n",
       "            ... \n",
       "0.996000       5\n",
       "0.997000       7\n",
       "0.998000       3\n",
       "0.999000       6\n",
       "1.000000      23\n",
       "Name: valence, Length: 2043, dtype: int64"
      ]
     },
     "execution_count": 47,
     "metadata": {},
     "output_type": "execute_result"
    }
   ],
   "source": [
    "# valence, float, 374364, 777 Nans, 2043 unicos, 372321 repetidos\n",
    "#Describe la positividad de la canción. Valores altos indican mayor positividad (alegría, euforia, ánimos) y valores bajos indican más negatividad (tristeza, etc)\n",
    "\n",
    "spotify_features_data[\"valence\"].value_counts().sort_index()"
   ]
  },
  {
   "cell_type": "code",
   "execution_count": 48,
   "metadata": {},
   "outputs": [
    {
     "data": {
      "text/plain": [
       "False    316732\n",
       "True      58399\n",
       "Name: explicit, dtype: int64"
      ]
     },
     "execution_count": 48,
     "metadata": {},
     "output_type": "execute_result"
    }
   ],
   "source": [
    "#explicit, object, 375131 valores, 10 Nans, 2 valores únicos.\n",
    "#creo que significa contenido explicito (lenguaje ofensivo, insultos...)\n",
    "\n",
    "spotify_features_data[\"explicit\"].value_counts()"
   ]
  },
  {
   "cell_type": "code",
   "execution_count": 49,
   "metadata": {},
   "outputs": [
    {
     "data": {
      "text/plain": [
       "0.0     147239\n",
       "1.0      28123\n",
       "2.0      17820\n",
       "3.0      13677\n",
       "4.0      10675\n",
       "         ...  \n",
       "95.0         1\n",
       "96.0         1\n",
       "97.0         1\n",
       "98.0         1\n",
       "99.0         2\n",
       "Name: track_popularity, Length: 100, dtype: int64"
      ]
     },
     "execution_count": 49,
     "metadata": {},
     "output_type": "execute_result"
    }
   ],
   "source": [
    "#track_popularity, float, 375131 valores, 10 Nans, 100 valores unicos\n",
    "#valores del 0 al 100, siendo 100 el más popular . La popularidad se calcula mediante un algoritmo y se basa, en su mayor parte, en el número total de reproducciones que ha tenido la pista y en lo recientes que son esas reproduccione\n",
    "\n",
    "spotify_features_data[\"track_popularity\"].value_counts().sort_index()"
   ]
  },
  {
   "cell_type": "code",
   "execution_count": 50,
   "metadata": {},
   "outputs": [
    {
     "data": {
      "text/plain": [
       "2023.0    58986\n",
       "2022.0    36940\n",
       "2021.0    25990\n",
       "2020.0    24261\n",
       "2019.0    18842\n",
       "          ...  \n",
       "1942.0       11\n",
       "1954.0       10\n",
       "1929.0        7\n",
       "1948.0        6\n",
       "1886.0        4\n",
       "Name: release_year, Length: 85, dtype: int64"
      ]
     },
     "execution_count": 50,
     "metadata": {},
     "output_type": "execute_result"
    }
   ],
   "source": [
    "# release_year, float , 375119 valores, 22 Nans, 85 unicas\n",
    "# año de lanzamiento, siendo 1886 la mas antigua y 2023 la mas reciente.\n",
    "\n",
    "spotify_features_data[\"release_year\"].value_counts()"
   ]
  },
  {
   "cell_type": "code",
   "execution_count": 51,
   "metadata": {},
   "outputs": [
    {
     "data": {
      "text/plain": [
       "January      63888\n",
       "November     36295\n",
       "October      34846\n",
       "September    30097\n",
       "July         28528\n",
       "June         27756\n",
       "August       27429\n",
       "March        27044\n",
       "May          26022\n",
       "April        25698\n",
       "December     25017\n",
       "February     22499\n",
       "Name: release_month, dtype: int64"
      ]
     },
     "execution_count": 51,
     "metadata": {},
     "output_type": "execute_result"
    }
   ],
   "source": [
    "#release_month, object, 375119 valores, 22 Nans, 12 valores unicos\n",
    "#mes de lanzamiento\n",
    "\n",
    "spotify_features_data[\"release_month\"].value_counts()"
   ]
  },
  {
   "cell_type": "code",
   "execution_count": 52,
   "metadata": {},
   "outputs": [
    {
     "data": {
      "text/plain": [
       "1    375141\n",
       "Name: rn, dtype: int64"
      ]
     },
     "execution_count": 52,
     "metadata": {},
     "output_type": "execute_result"
    }
   ],
   "source": [
    "#rn, int, 375141 valores 0 Nans, 1 dato unico\n",
    "\n",
    "spotify_features_data[\"rn\"].value_counts()"
   ]
  },
  {
   "cell_type": "code",
   "execution_count": 53,
   "metadata": {},
   "outputs": [
    {
     "data": {
      "image/png": "[encoded data removed]",
      "text/plain": [
       "<Figure size 1200x700 with 2 Axes>"
      ]
     },
     "metadata": {},
     "output_type": "display_data"
    }
   ],
   "source": [
    "# Graficamos los NaN:\n",
    "\n",
    "plt.figure(figsize = (12,7))\n",
    "sns.heatmap(spotify_features_data.isna())\n",
    "plt.show()\n",
    "\n"
   ]
  },
  {
   "cell_type": "markdown",
   "metadata": {},
   "source": [
    "### Comenzamos a modificar el DataFrame según las conclusiones tras observar las variables"
   ]
  },
  {
   "cell_type": "code",
   "execution_count": 149,
   "metadata": {
    "tags": []
   },
   "outputs": [
    {
     "name": "stdout",
     "output_type": "stream",
     "text": [
      "<class 'pandas.core.frame.DataFrame'>\n",
      "Int64Index: 13402 entries, 334 to 374832\n",
      "Data columns (total 2 columns):\n",
      " #   Column     Non-Null Count  Dtype \n",
      "---  ------     --------------  ----- \n",
      " 0   artist_id  13402 non-null  object\n",
      " 1   artists    13402 non-null  object\n",
      "dtypes: object(2)\n",
      "memory usage: 314.1+ KB\n"
     ]
    }
   ],
   "source": [
    "# Decidimos que las columnas relevantes son las siguientes: \n",
    "columnas_relevantes = ['album_id', 'album_name', 'album_popularity', 'genre_0',\n",
    "                       'album_type', 'artists', 'artist_id', 'duration_sec', \n",
    "                       'track_id', 'track_name', 'artist_genres', 'artist_popularity', \n",
    "                       'name', 'acousticness', 'danceability', 'energy', \n",
    "                       'instrumentalness', 'key', 'liveness', 'loudness', \n",
    "                       'mode', 'speechiness', 'tempo', 'time_signature', \n",
    "                       'uri', 'valence', 'explicit', 'track_popularity', 'followers']\n",
    "\n",
    "# Creamos una copia con las columnas relevantes y sin nan\n",
    "spotify_features_data_reducido = spotify_features_data[columnas_relevantes].copy().dropna()\n",
    "\n",
    "spotify_features_data_reducido[\"artists\"] = spotify_features_data_reducido[\"artists\"].apply(lambda x : eval(x)[0].lower())\n",
    "\n",
    "# Creamos un DataFrame con Artista_id y el nombre del artista con los id unicos\n",
    "data = pd.DataFrame({\"artist_id\": spotify_features_data_reducido[\"artist_id\"],\n",
    "                     \"artists\" : spotify_features_data_reducido[\"artists\"]})\n",
    "data = data.drop_duplicates()\n",
    "\n",
    "# Creamos un DataFrame con los valores no numéricos/ no comparables/relevantes\n",
    "columnas_objetos = ['album_id', 'album_name', 'duration_sec', 'album_popularity', 'album_type',\n",
    "                    'artists', 'artist_popularity', 'tempo', 'artist_id', 'track_id', 'track_name', \n",
    "                    'artist_genres', 'name', 'uri', 'time_signature', 'explicit', 'track_popularity']\n",
    "spotify_datos = spotify_features_data_reducido[columnas_objetos].copy()\n",
    "\n",
    "data.info()"
   ]
  },
  {
   "cell_type": "markdown",
   "metadata": {
    "tags": []
   },
   "source": [
    "### Gráfico inicial mostrando followers vs artista"
   ]
  },
  {
   "cell_type": "code",
   "execution_count": 151,
   "metadata": {
    "tags": []
   },
   "outputs": [],
   "source": [
    "follower_top_inicial = pd.DataFrame({\"followers\": spotify_features_data_reducido[\"followers\"],\n",
    "                     \"artists\" : spotify_features_data_reducido[\"artists\"]})\n",
    "follower_top_inicial = follower_top_inicial.drop_duplicates(\"artists\")\n",
    "follower_top_inicial = follower_top_inicial.sort_values(by = \"followers\", ascending = False)\n",
    "follower_top_inicial = follower_top_inicial.head(10)"
   ]
  },
  {
   "cell_type": "code",
   "execution_count": 175,
   "metadata": {
    "tags": []
   },
   "outputs": [
    {
     "data": {
      "image/png": "[encoded data removed]",
      "text/plain": [
       "<Figure size 1200x600 with 1 Axes>"
      ]
     },
     "metadata": {},
     "output_type": "display_data"
    }
   ],
   "source": [
    "plt.figure(figsize=(12,6))\n",
    "ax = sns.barplot(x='artists', y='followers', data=follower_top_inicial)\n",
    "plt.xticks(rotation=90)\n",
    "for bar in ax.patches:\n",
    "    ax.annotate(format(bar.get_height(), '.2f'), \n",
    "                   (bar.get_x() + bar.get_width() / 2, \n",
    "                    bar.get_height()), ha='center', va='bottom',\n",
    "                   textcoords='offset points', xytext=(0,10),\n",
    "                   fontsize=8)\n",
    "\n",
    "plt.show()"
   ]
  },
  {
   "cell_type": "markdown",
   "metadata": {},
   "source": [
    "### Gráfica popularity vs artista"
   ]
  },
  {
   "cell_type": "code",
   "execution_count": 177,
   "metadata": {
    "tags": []
   },
   "outputs": [],
   "source": [
    "popularity_top_inicial = pd.DataFrame({\"artist_popularity\": spotify_features_data_reducido[\"artist_popularity\"],\n",
    "                     \"artists\" : spotify_features_data_reducido[\"artists\"]})\n",
    "popularity_top_inicial = popularity_top_inicial.drop_duplicates(\"artists\")\n",
    "popularity_top_inicial = popularity_top_inicial.sort_values(by = \"artist_popularity\", ascending = False)\n",
    "popularity_top_inicial = popularity_top_inicial.head(10)"
   ]
  },
  {
   "cell_type": "code",
   "execution_count": 178,
   "metadata": {
    "tags": []
   },
   "outputs": [
    {
     "data": {
      "image/png": "[encoded data removed]",
      "text/plain": [
       "<Figure size 1200x600 with 1 Axes>"
      ]
     },
     "metadata": {},
     "output_type": "display_data"
    }
   ],
   "source": [
    "plt.figure(figsize=(12,6))\n",
    "ax = sns.barplot(x='artists', y='artist_popularity', data=popularity_top_inicial)\n",
    "plt.xticks(rotation=90)\n",
    "for bar in ax.patches:\n",
    "    ax.annotate(format(bar.get_height(), '.2f'), \n",
    "                   (bar.get_x() + bar.get_width() / 2, \n",
    "                    bar.get_height()), ha='center', va='bottom',\n",
    "                   textcoords='offset points', xytext=(0,10),\n",
    "                   fontsize=8)\n",
    "\n",
    "plt.show()"
   ]
  },
  {
   "cell_type": "code",
   "execution_count": 181,
   "metadata": {
    "tags": []
   },
   "outputs": [],
   "source": [
    "def generador_preferencias():\n",
    "    \n",
    "    artistas_puntuacion = list()\n",
    "    \n",
    "    while len(artistas_puntuacion) < 5:\n",
    "        try:\n",
    "            artista_usuario = input(\"Por favor, introduce el nombre de un artista/banda: \").strip().lower()\n",
    "\n",
    "            # Verificar si el artista está en el DataFrame\n",
    "            if artista_usuario not in spotify_features_data_reducido[\"artists\"].values:\n",
    "                print(\"Artista no encontrado. Por favor, intenta con otro nombre.\")\n",
    "                continue\n",
    "\n",
    "            puntuacion_usuario = int(input(\"Por favor, introduce la puntuación del artista/banda (1-10): \"))\n",
    "\n",
    "            # Validar que la puntuación está en el rango correcto\n",
    "            if puntuacion_usuario < 1 or puntuacion_usuario > 10:\n",
    "                print(\"La puntuación debe estar entre 1 y 10.\")\n",
    "                continue\n",
    "\n",
    "            artist_id = spotify_features_data_reducido[spotify_features_data_reducido[\"artists\"] == artista_usuario][\"artist_id\"].values[0]\n",
    "\n",
    "            artistas_puntuacion.append([artist_id, puntuacion_usuario])\n",
    "\n",
    "        except ValueError:\n",
    "            print(\"Por favor, introduce un número válido para la puntuación.\")\n",
    "        except IndexError:\n",
    "            print(\"Hubo un error al buscar el artista. Por favor, intenta de nuevo.\")\n",
    "\n",
    "    return pd.DataFrame(data=artistas_puntuacion, columns=[\"artist_id\", \"score\"])"
   ]
  },
  {
   "cell_type": "markdown",
   "metadata": {},
   "source": [
    "### Datos Aleatorios"
   ]
  },
  {
   "cell_type": "code",
   "execution_count": 182,
   "metadata": {
    "tags": []
   },
   "outputs": [],
   "source": [
    "import random"
   ]
  },
  {
   "cell_type": "code",
   "execution_count": 183,
   "metadata": {
    "tags": []
   },
   "outputs": [
    {
     "name": "stdout",
     "output_type": "stream",
     "text": [
      "CPU times: total: 9.27 s\n",
      "Wall time: 10.5 s\n"
     ]
    }
   ],
   "source": [
    "%%time\n",
    "\n",
    "n_usuarios = random.randint(10_000, 20_000)\n",
    "\n",
    "usuarios_id = [f\"userid_{x}\" for x in range(n_usuarios)]\n",
    "\n",
    "artist_id_list = data[\"artist_id\"].tolist()\n",
    "\n",
    "data_usuarios = list()\n",
    "\n",
    "for uid in usuarios_id:\n",
    "    \n",
    "    for i in range(random.randint(200, 300)):\n",
    "        \n",
    "        data_usuarios.append([uid, random.randint(1, 10), random.choice(seq = artist_id_list)])\n",
    "        \n",
    "usuarios = pd.DataFrame(data = data_usuarios, columns = [\"user_id\", \"like\", \"artist_id\"])"
   ]
  },
  {
   "cell_type": "code",
   "execution_count": 184,
   "metadata": {
    "tags": []
   },
   "outputs": [
    {
     "data": {
      "text/html": [
       "<div>\n",
       "<style scoped>\n",
       "    .dataframe tbody tr th:only-of-type {\n",
       "        vertical-align: middle;\n",
       "    }\n",
       "\n",
       "    .dataframe tbody tr th {\n",
       "        vertical-align: top;\n",
       "    }\n",
       "\n",
       "    .dataframe thead th {\n",
       "        text-align: right;\n",
       "    }\n",
       "</style>\n",
       "<table border=\"1\" class=\"dataframe\">\n",
       "  <thead>\n",
       "    <tr style=\"text-align: right;\">\n",
       "      <th></th>\n",
       "      <th>user_id</th>\n",
       "      <th>like</th>\n",
       "      <th>artist_id</th>\n",
       "    </tr>\n",
       "  </thead>\n",
       "  <tbody>\n",
       "    <tr>\n",
       "      <th>0</th>\n",
       "      <td>userid_0</td>\n",
       "      <td>8</td>\n",
       "      <td>16ZWHAtASUfHWkdT9NMXMj</td>\n",
       "    </tr>\n",
       "    <tr>\n",
       "      <th>1</th>\n",
       "      <td>userid_0</td>\n",
       "      <td>4</td>\n",
       "      <td>4O0xp5h962swGSOOhM05Ni</td>\n",
       "    </tr>\n",
       "    <tr>\n",
       "      <th>2</th>\n",
       "      <td>userid_0</td>\n",
       "      <td>10</td>\n",
       "      <td>0MHgLfmQdutffmvWe5XBTN</td>\n",
       "    </tr>\n",
       "    <tr>\n",
       "      <th>3</th>\n",
       "      <td>userid_0</td>\n",
       "      <td>2</td>\n",
       "      <td>1SupJlEpv7RS2tPNRaHViT</td>\n",
       "    </tr>\n",
       "    <tr>\n",
       "      <th>4</th>\n",
       "      <td>userid_0</td>\n",
       "      <td>6</td>\n",
       "      <td>3Ka1nDpDzxDveEqUPzIeom</td>\n",
       "    </tr>\n",
       "    <tr>\n",
       "      <th>...</th>\n",
       "      <td>...</td>\n",
       "      <td>...</td>\n",
       "      <td>...</td>\n",
       "    </tr>\n",
       "    <tr>\n",
       "      <th>4540649</th>\n",
       "      <td>userid_18198</td>\n",
       "      <td>1</td>\n",
       "      <td>6vWDO969PvNqNYHIOW5v0m</td>\n",
       "    </tr>\n",
       "    <tr>\n",
       "      <th>4540650</th>\n",
       "      <td>userid_18198</td>\n",
       "      <td>5</td>\n",
       "      <td>2u0gw0uCWBMiqV7h0N8kai</td>\n",
       "    </tr>\n",
       "    <tr>\n",
       "      <th>4540651</th>\n",
       "      <td>userid_18198</td>\n",
       "      <td>7</td>\n",
       "      <td>1W1amu6bMkjKv1RlWQSAZn</td>\n",
       "    </tr>\n",
       "    <tr>\n",
       "      <th>4540652</th>\n",
       "      <td>userid_18198</td>\n",
       "      <td>6</td>\n",
       "      <td>5y1gFSVnE4DGxUxHeKrGk6</td>\n",
       "    </tr>\n",
       "    <tr>\n",
       "      <th>4540653</th>\n",
       "      <td>userid_18198</td>\n",
       "      <td>2</td>\n",
       "      <td>1rL7w1UIwu887SlCVYYMJW</td>\n",
       "    </tr>\n",
       "  </tbody>\n",
       "</table>\n",
       "<p>4540654 rows × 3 columns</p>\n",
       "</div>"
      ],
      "text/plain": [
       "              user_id  like               artist_id\n",
       "0            userid_0     8  16ZWHAtASUfHWkdT9NMXMj\n",
       "1            userid_0     4  4O0xp5h962swGSOOhM05Ni\n",
       "2            userid_0    10  0MHgLfmQdutffmvWe5XBTN\n",
       "3            userid_0     2  1SupJlEpv7RS2tPNRaHViT\n",
       "4            userid_0     6  3Ka1nDpDzxDveEqUPzIeom\n",
       "...               ...   ...                     ...\n",
       "4540649  userid_18198     1  6vWDO969PvNqNYHIOW5v0m\n",
       "4540650  userid_18198     5  2u0gw0uCWBMiqV7h0N8kai\n",
       "4540651  userid_18198     7  1W1amu6bMkjKv1RlWQSAZn\n",
       "4540652  userid_18198     6  5y1gFSVnE4DGxUxHeKrGk6\n",
       "4540653  userid_18198     2  1rL7w1UIwu887SlCVYYMJW\n",
       "\n",
       "[4540654 rows x 3 columns]"
      ]
     },
     "execution_count": 184,
     "metadata": {},
     "output_type": "execute_result"
    }
   ],
   "source": [
    "usuarios"
   ]
  },
  {
   "cell_type": "code",
   "execution_count": 185,
   "metadata": {
    "tags": []
   },
   "outputs": [],
   "source": [
    "usuarios.to_csv(\"usuarios.csv\", index = False)"
   ]
  },
  {
   "cell_type": "markdown",
   "metadata": {},
   "source": [
    "### Usuario Activo"
   ]
  },
  {
   "cell_type": "code",
   "execution_count": 186,
   "metadata": {
    "collapsed": true,
    "jupyter": {
     "outputs_hidden": true
    },
    "tags": []
   },
   "outputs": [
    {
     "name": "stdin",
     "output_type": "stream",
     "text": [
      "Por favor, introduce el nombre de un artista/banda:  taylor swift\n",
      "Por favor, introduce la puntuación del artista/banda (1-10):  10\n",
      "Por favor, introduce el nombre de un artista/banda:  coldplay\n",
      "Por favor, introduce la puntuación del artista/banda (1-10):  10\n",
      "Por favor, introduce el nombre de un artista/banda:  bizarrap\n",
      "Por favor, introduce la puntuación del artista/banda (1-10):  aviva\n"
     ]
    },
    {
     "name": "stdout",
     "output_type": "stream",
     "text": [
      "Por favor, introduce un número válido para la puntuación.\n"
     ]
    },
    {
     "name": "stdin",
     "output_type": "stream",
     "text": [
      "Por favor, introduce el nombre de un artista/banda:  aviva\n",
      "Por favor, introduce la puntuación del artista/banda (1-10):  10\n",
      "Por favor, introduce el nombre de un artista/banda:  bizarrap\n",
      "Por favor, introduce la puntuación del artista/banda (1-10):  10\n",
      "Por favor, introduce el nombre de un artista/banda:  eminem\n",
      "Por favor, introduce la puntuación del artista/banda (1-10):  10\n"
     ]
    },
    {
     "data": {
      "text/plain": [
       "['userid_0',\n",
       " 'userid_10000',\n",
       " 'userid_10004',\n",
       " 'userid_10006',\n",
       " 'userid_10009',\n",
       " 'userid_1001',\n",
       " 'userid_10013',\n",
       " 'userid_10016',\n",
       " 'userid_10019',\n",
       " 'userid_10021',\n",
       " 'userid_10032',\n",
       " 'userid_10042',\n",
       " 'userid_10071',\n",
       " 'userid_10088',\n",
       " 'userid_10098',\n",
       " 'userid_1010',\n",
       " 'userid_10103',\n",
       " 'userid_10109',\n",
       " 'userid_10113',\n",
       " 'userid_10114',\n",
       " 'userid_10116',\n",
       " 'userid_10117',\n",
       " 'userid_1012',\n",
       " 'userid_10124',\n",
       " 'userid_10138',\n",
       " 'userid_1014',\n",
       " 'userid_10146',\n",
       " 'userid_1016',\n",
       " 'userid_10161',\n",
       " 'userid_10162',\n",
       " 'userid_10164',\n",
       " 'userid_10165',\n",
       " 'userid_10169',\n",
       " 'userid_10178',\n",
       " 'userid_10191',\n",
       " 'userid_10197',\n",
       " 'userid_10198',\n",
       " 'userid_10205',\n",
       " 'userid_10211',\n",
       " 'userid_10225',\n",
       " 'userid_10237',\n",
       " 'userid_10245',\n",
       " 'userid_10246',\n",
       " 'userid_1025',\n",
       " 'userid_10257',\n",
       " 'userid_10263',\n",
       " 'userid_10285',\n",
       " 'userid_10294',\n",
       " 'userid_10295',\n",
       " 'userid_10310',\n",
       " 'userid_10311',\n",
       " 'userid_10318',\n",
       " 'userid_10320',\n",
       " 'userid_1033',\n",
       " 'userid_10330',\n",
       " 'userid_10331',\n",
       " 'userid_10334',\n",
       " 'userid_10339',\n",
       " 'userid_10348',\n",
       " 'userid_1035',\n",
       " 'userid_10354',\n",
       " 'userid_10364',\n",
       " 'userid_10370',\n",
       " 'userid_10375',\n",
       " 'userid_10385',\n",
       " 'userid_10392',\n",
       " 'userid_10397',\n",
       " 'userid_10412',\n",
       " 'userid_10417',\n",
       " 'userid_10419',\n",
       " 'userid_1042',\n",
       " 'userid_10421',\n",
       " 'userid_10422',\n",
       " 'userid_10425',\n",
       " 'userid_10426',\n",
       " 'userid_1043',\n",
       " 'userid_10469',\n",
       " 'userid_10476',\n",
       " 'userid_10485',\n",
       " 'userid_10488',\n",
       " 'userid_10501',\n",
       " 'userid_10520',\n",
       " 'userid_10531',\n",
       " 'userid_10548',\n",
       " 'userid_10578',\n",
       " 'userid_10583',\n",
       " 'userid_10587',\n",
       " 'userid_10596',\n",
       " 'userid_10614',\n",
       " 'userid_10627',\n",
       " 'userid_10632',\n",
       " 'userid_10636',\n",
       " 'userid_10645',\n",
       " 'userid_10648',\n",
       " 'userid_1066',\n",
       " 'userid_10668',\n",
       " 'userid_10669',\n",
       " 'userid_1067',\n",
       " 'userid_10673',\n",
       " 'userid_10676',\n",
       " 'userid_10678',\n",
       " 'userid_10679',\n",
       " 'userid_10681',\n",
       " 'userid_10692',\n",
       " 'userid_10698',\n",
       " 'userid_10708',\n",
       " 'userid_10715',\n",
       " 'userid_10719',\n",
       " 'userid_10723',\n",
       " 'userid_10725',\n",
       " 'userid_10727',\n",
       " 'userid_10734',\n",
       " 'userid_10744',\n",
       " 'userid_1075',\n",
       " 'userid_10765',\n",
       " 'userid_10768',\n",
       " 'userid_10775',\n",
       " 'userid_10778',\n",
       " 'userid_1078',\n",
       " 'userid_10787',\n",
       " 'userid_10797',\n",
       " 'userid_10799',\n",
       " 'userid_10802',\n",
       " 'userid_10807',\n",
       " 'userid_10812',\n",
       " 'userid_10813',\n",
       " 'userid_1082',\n",
       " 'userid_10851',\n",
       " 'userid_10855',\n",
       " 'userid_10856',\n",
       " 'userid_10864',\n",
       " 'userid_10874',\n",
       " 'userid_10887',\n",
       " 'userid_10894',\n",
       " 'userid_10903',\n",
       " 'userid_10906',\n",
       " 'userid_10932',\n",
       " 'userid_10940',\n",
       " 'userid_10946',\n",
       " 'userid_10953',\n",
       " 'userid_10955',\n",
       " 'userid_10957',\n",
       " 'userid_10958',\n",
       " 'userid_10962',\n",
       " 'userid_10965',\n",
       " 'userid_10967',\n",
       " 'userid_1097',\n",
       " 'userid_10974',\n",
       " 'userid_10977',\n",
       " 'userid_10979',\n",
       " 'userid_11011',\n",
       " 'userid_11018',\n",
       " 'userid_11021',\n",
       " 'userid_11023',\n",
       " 'userid_11027',\n",
       " 'userid_11030',\n",
       " 'userid_11032',\n",
       " 'userid_11048',\n",
       " 'userid_11058',\n",
       " 'userid_11062',\n",
       " 'userid_11077',\n",
       " 'userid_11080',\n",
       " 'userid_11087',\n",
       " 'userid_11099',\n",
       " 'userid_11106',\n",
       " 'userid_11108',\n",
       " 'userid_11114',\n",
       " 'userid_1112',\n",
       " 'userid_11122',\n",
       " 'userid_11123',\n",
       " 'userid_11125',\n",
       " 'userid_11128',\n",
       " 'userid_11129',\n",
       " 'userid_11131',\n",
       " 'userid_11139',\n",
       " 'userid_1114',\n",
       " 'userid_11141',\n",
       " 'userid_11143',\n",
       " 'userid_11146',\n",
       " 'userid_11151',\n",
       " 'userid_11153',\n",
       " 'userid_11161',\n",
       " 'userid_11163',\n",
       " 'userid_11170',\n",
       " 'userid_11171',\n",
       " 'userid_11172',\n",
       " 'userid_11173',\n",
       " 'userid_11178',\n",
       " 'userid_1118',\n",
       " 'userid_11185',\n",
       " 'userid_11192',\n",
       " 'userid_11193',\n",
       " 'userid_11198',\n",
       " 'userid_11203',\n",
       " 'userid_11213',\n",
       " 'userid_11218',\n",
       " 'userid_11223',\n",
       " 'userid_11243',\n",
       " 'userid_11256',\n",
       " 'userid_11264',\n",
       " 'userid_11268',\n",
       " 'userid_11280',\n",
       " 'userid_11281',\n",
       " 'userid_11287',\n",
       " 'userid_11288',\n",
       " 'userid_11307',\n",
       " 'userid_11311',\n",
       " 'userid_11312',\n",
       " 'userid_11331',\n",
       " 'userid_11336',\n",
       " 'userid_11361',\n",
       " 'userid_11367',\n",
       " 'userid_1137',\n",
       " 'userid_11383',\n",
       " 'userid_11385',\n",
       " 'userid_11388',\n",
       " 'userid_1139',\n",
       " 'userid_11390',\n",
       " 'userid_11392',\n",
       " 'userid_11395',\n",
       " 'userid_11397',\n",
       " 'userid_11408',\n",
       " 'userid_11414',\n",
       " 'userid_11425',\n",
       " 'userid_1143',\n",
       " 'userid_11438',\n",
       " 'userid_11439',\n",
       " 'userid_11444',\n",
       " 'userid_11460',\n",
       " 'userid_11468',\n",
       " 'userid_11469',\n",
       " 'userid_11474',\n",
       " 'userid_11478',\n",
       " 'userid_11484',\n",
       " 'userid_11487',\n",
       " 'userid_1149',\n",
       " 'userid_11503',\n",
       " 'userid_11508',\n",
       " 'userid_1151',\n",
       " 'userid_11515',\n",
       " 'userid_11528',\n",
       " 'userid_11529',\n",
       " 'userid_11532',\n",
       " 'userid_11537',\n",
       " 'userid_11545',\n",
       " 'userid_11546',\n",
       " 'userid_11547',\n",
       " 'userid_11554',\n",
       " 'userid_11556',\n",
       " 'userid_11557',\n",
       " 'userid_11560',\n",
       " 'userid_11569',\n",
       " 'userid_11574',\n",
       " 'userid_11579',\n",
       " 'userid_11582',\n",
       " 'userid_11583',\n",
       " 'userid_11587',\n",
       " 'userid_11591',\n",
       " 'userid_11592',\n",
       " 'userid_11597',\n",
       " 'userid_11601',\n",
       " 'userid_11602',\n",
       " 'userid_11609',\n",
       " 'userid_11618',\n",
       " 'userid_11619',\n",
       " 'userid_11621',\n",
       " 'userid_11625',\n",
       " 'userid_11632',\n",
       " 'userid_11655',\n",
       " 'userid_11661',\n",
       " 'userid_11675',\n",
       " 'userid_11708',\n",
       " 'userid_1171',\n",
       " 'userid_11719',\n",
       " 'userid_11733',\n",
       " 'userid_11745',\n",
       " 'userid_11747',\n",
       " 'userid_11752',\n",
       " 'userid_11754',\n",
       " 'userid_11757',\n",
       " 'userid_11768',\n",
       " 'userid_11770',\n",
       " 'userid_11793',\n",
       " 'userid_11801',\n",
       " 'userid_11813',\n",
       " 'userid_11815',\n",
       " 'userid_11821',\n",
       " 'userid_11835',\n",
       " 'userid_11839',\n",
       " 'userid_11841',\n",
       " 'userid_11847',\n",
       " 'userid_11852',\n",
       " 'userid_11853',\n",
       " 'userid_11857',\n",
       " 'userid_11862',\n",
       " 'userid_1187',\n",
       " 'userid_11875',\n",
       " 'userid_11878',\n",
       " 'userid_11879',\n",
       " 'userid_11886',\n",
       " 'userid_11896',\n",
       " 'userid_11899',\n",
       " 'userid_11904',\n",
       " 'userid_11908',\n",
       " 'userid_11909',\n",
       " 'userid_11924',\n",
       " 'userid_11930',\n",
       " 'userid_11947',\n",
       " 'userid_11966',\n",
       " 'userid_11972',\n",
       " 'userid_11977',\n",
       " 'userid_11997',\n",
       " 'userid_1200',\n",
       " 'userid_12007',\n",
       " 'userid_12010',\n",
       " 'userid_12013',\n",
       " 'userid_12014',\n",
       " 'userid_12018',\n",
       " 'userid_12027',\n",
       " 'userid_12029',\n",
       " 'userid_12044',\n",
       " 'userid_12045',\n",
       " 'userid_12046',\n",
       " 'userid_12056',\n",
       " 'userid_12061',\n",
       " 'userid_12065',\n",
       " 'userid_12068',\n",
       " 'userid_12069',\n",
       " 'userid_12071',\n",
       " 'userid_1208',\n",
       " 'userid_12082',\n",
       " 'userid_12084',\n",
       " 'userid_12085',\n",
       " 'userid_12088',\n",
       " 'userid_12100',\n",
       " 'userid_12105',\n",
       " 'userid_12106',\n",
       " 'userid_12123',\n",
       " 'userid_12134',\n",
       " 'userid_12139',\n",
       " 'userid_1214',\n",
       " 'userid_12148',\n",
       " 'userid_12161',\n",
       " 'userid_12168',\n",
       " 'userid_12172',\n",
       " 'userid_12177',\n",
       " 'userid_12193',\n",
       " 'userid_12199',\n",
       " 'userid_12200',\n",
       " 'userid_12201',\n",
       " 'userid_12214',\n",
       " 'userid_1222',\n",
       " 'userid_12231',\n",
       " 'userid_12238',\n",
       " 'userid_12240',\n",
       " 'userid_12250',\n",
       " 'userid_12260',\n",
       " 'userid_12268',\n",
       " 'userid_12276',\n",
       " 'userid_12283',\n",
       " 'userid_12285',\n",
       " 'userid_12287',\n",
       " 'userid_123',\n",
       " 'userid_12302',\n",
       " 'userid_12312',\n",
       " 'userid_1232',\n",
       " 'userid_12325',\n",
       " 'userid_12327',\n",
       " 'userid_12336',\n",
       " 'userid_1234',\n",
       " 'userid_12343',\n",
       " 'userid_1236',\n",
       " 'userid_12387',\n",
       " 'userid_12391',\n",
       " 'userid_12398',\n",
       " 'userid_1240',\n",
       " 'userid_12401',\n",
       " 'userid_12403',\n",
       " 'userid_12404',\n",
       " 'userid_1241',\n",
       " 'userid_12413',\n",
       " 'userid_12414',\n",
       " 'userid_12418',\n",
       " 'userid_12419',\n",
       " 'userid_12422',\n",
       " 'userid_12428',\n",
       " 'userid_12431',\n",
       " 'userid_12432',\n",
       " 'userid_12435',\n",
       " 'userid_12444',\n",
       " 'userid_12445',\n",
       " 'userid_12456',\n",
       " 'userid_12461',\n",
       " 'userid_12462',\n",
       " 'userid_12467',\n",
       " 'userid_12468',\n",
       " 'userid_12473',\n",
       " 'userid_12475',\n",
       " 'userid_12480',\n",
       " 'userid_12481',\n",
       " 'userid_12482',\n",
       " 'userid_12483',\n",
       " 'userid_12490',\n",
       " 'userid_12503',\n",
       " 'userid_12506',\n",
       " 'userid_1252',\n",
       " 'userid_12522',\n",
       " 'userid_12532',\n",
       " 'userid_12545',\n",
       " 'userid_12554',\n",
       " 'userid_12556',\n",
       " 'userid_1257',\n",
       " 'userid_12571',\n",
       " 'userid_12578',\n",
       " 'userid_12579',\n",
       " 'userid_12582',\n",
       " 'userid_1259',\n",
       " 'userid_12595',\n",
       " 'userid_1261',\n",
       " 'userid_12620',\n",
       " 'userid_12621',\n",
       " 'userid_12625',\n",
       " 'userid_12627',\n",
       " 'userid_12636',\n",
       " 'userid_12644',\n",
       " 'userid_12647',\n",
       " 'userid_12652',\n",
       " 'userid_12653',\n",
       " 'userid_12655',\n",
       " 'userid_12656',\n",
       " 'userid_12660',\n",
       " 'userid_12663',\n",
       " 'userid_12671',\n",
       " 'userid_12679',\n",
       " 'userid_12682',\n",
       " 'userid_12692',\n",
       " 'userid_12701',\n",
       " 'userid_12702',\n",
       " 'userid_12706',\n",
       " 'userid_12714',\n",
       " 'userid_12718',\n",
       " 'userid_12727',\n",
       " 'userid_12732',\n",
       " 'userid_12741',\n",
       " 'userid_12748',\n",
       " 'userid_12751',\n",
       " 'userid_12758',\n",
       " 'userid_12762',\n",
       " 'userid_1277',\n",
       " 'userid_12772',\n",
       " 'userid_12779',\n",
       " 'userid_1278',\n",
       " 'userid_12780',\n",
       " 'userid_12781',\n",
       " 'userid_12789',\n",
       " 'userid_1279',\n",
       " 'userid_12798',\n",
       " 'userid_128',\n",
       " 'userid_1280',\n",
       " 'userid_12807',\n",
       " 'userid_12808',\n",
       " 'userid_12815',\n",
       " 'userid_12819',\n",
       " 'userid_12834',\n",
       " 'userid_12840',\n",
       " 'userid_12843',\n",
       " 'userid_12854',\n",
       " 'userid_12856',\n",
       " 'userid_12872',\n",
       " 'userid_12878',\n",
       " 'userid_12880',\n",
       " 'userid_12886',\n",
       " 'userid_12889',\n",
       " 'userid_12901',\n",
       " 'userid_12904',\n",
       " 'userid_12907',\n",
       " 'userid_1291',\n",
       " 'userid_12910',\n",
       " 'userid_12917',\n",
       " 'userid_12925',\n",
       " 'userid_12926',\n",
       " 'userid_12932',\n",
       " 'userid_12934',\n",
       " 'userid_12937',\n",
       " 'userid_12946',\n",
       " 'userid_12949',\n",
       " 'userid_12964',\n",
       " 'userid_12965',\n",
       " 'userid_12979',\n",
       " 'userid_12981',\n",
       " 'userid_12985',\n",
       " 'userid_13',\n",
       " 'userid_13001',\n",
       " 'userid_13002',\n",
       " 'userid_13019',\n",
       " 'userid_13021',\n",
       " 'userid_13035',\n",
       " 'userid_13037',\n",
       " 'userid_13039',\n",
       " 'userid_13046',\n",
       " 'userid_1305',\n",
       " 'userid_1306',\n",
       " 'userid_13061',\n",
       " 'userid_13063',\n",
       " 'userid_13077',\n",
       " 'userid_13078',\n",
       " 'userid_13080',\n",
       " 'userid_13081',\n",
       " 'userid_13085',\n",
       " 'userid_13086',\n",
       " 'userid_13093',\n",
       " 'userid_13095',\n",
       " 'userid_13108',\n",
       " 'userid_13109',\n",
       " 'userid_13119',\n",
       " 'userid_1312',\n",
       " 'userid_13126',\n",
       " 'userid_13134',\n",
       " 'userid_13137',\n",
       " 'userid_13138',\n",
       " 'userid_13139',\n",
       " 'userid_13149',\n",
       " 'userid_1315',\n",
       " 'userid_13152',\n",
       " 'userid_13153',\n",
       " 'userid_13157',\n",
       " 'userid_13160',\n",
       " 'userid_13166',\n",
       " 'userid_13168',\n",
       " 'userid_13170',\n",
       " 'userid_13172',\n",
       " 'userid_13174',\n",
       " 'userid_13177',\n",
       " 'userid_13184',\n",
       " 'userid_13188',\n",
       " 'userid_13197',\n",
       " 'userid_13203',\n",
       " 'userid_13214',\n",
       " 'userid_13217',\n",
       " 'userid_13218',\n",
       " 'userid_1322',\n",
       " 'userid_13220',\n",
       " 'userid_13224',\n",
       " 'userid_13229',\n",
       " 'userid_13230',\n",
       " 'userid_13231',\n",
       " 'userid_13242',\n",
       " 'userid_13247',\n",
       " 'userid_1326',\n",
       " 'userid_13260',\n",
       " 'userid_13268',\n",
       " 'userid_1327',\n",
       " 'userid_13282',\n",
       " 'userid_13283',\n",
       " 'userid_13285',\n",
       " 'userid_13294',\n",
       " 'userid_13301',\n",
       " 'userid_13302',\n",
       " 'userid_13308',\n",
       " 'userid_13333',\n",
       " 'userid_13342',\n",
       " 'userid_13344',\n",
       " 'userid_13347',\n",
       " 'userid_13359',\n",
       " 'userid_13363',\n",
       " 'userid_13372',\n",
       " 'userid_13376',\n",
       " 'userid_13385',\n",
       " 'userid_13388',\n",
       " 'userid_13389',\n",
       " 'userid_13390',\n",
       " 'userid_134',\n",
       " 'userid_1341',\n",
       " 'userid_13416',\n",
       " 'userid_13423',\n",
       " 'userid_13424',\n",
       " 'userid_13436',\n",
       " 'userid_1344',\n",
       " 'userid_13448',\n",
       " 'userid_13450',\n",
       " 'userid_13453',\n",
       " 'userid_13456',\n",
       " 'userid_13459',\n",
       " 'userid_13461',\n",
       " 'userid_13469',\n",
       " 'userid_13471',\n",
       " 'userid_13473',\n",
       " 'userid_13474',\n",
       " 'userid_13480',\n",
       " 'userid_13481',\n",
       " 'userid_13488',\n",
       " 'userid_13489',\n",
       " 'userid_1349',\n",
       " 'userid_13497',\n",
       " 'userid_1351',\n",
       " 'userid_13510',\n",
       " 'userid_13512',\n",
       " 'userid_13515',\n",
       " 'userid_13526',\n",
       " 'userid_13530',\n",
       " 'userid_13538',\n",
       " 'userid_13539',\n",
       " 'userid_13547',\n",
       " 'userid_13554',\n",
       " 'userid_13556',\n",
       " 'userid_13566',\n",
       " 'userid_13569',\n",
       " 'userid_13574',\n",
       " 'userid_13575',\n",
       " 'userid_13580',\n",
       " 'userid_13584',\n",
       " 'userid_13595',\n",
       " 'userid_136',\n",
       " 'userid_13603',\n",
       " 'userid_13621',\n",
       " 'userid_13622',\n",
       " 'userid_13634',\n",
       " 'userid_13637',\n",
       " 'userid_13645',\n",
       " 'userid_13647',\n",
       " 'userid_13651',\n",
       " 'userid_13658',\n",
       " 'userid_13664',\n",
       " 'userid_13665',\n",
       " 'userid_13668',\n",
       " 'userid_13669',\n",
       " 'userid_13671',\n",
       " 'userid_13687',\n",
       " 'userid_13697',\n",
       " 'userid_13702',\n",
       " 'userid_13703',\n",
       " 'userid_13709',\n",
       " 'userid_13714',\n",
       " 'userid_13721',\n",
       " 'userid_13730',\n",
       " 'userid_13734',\n",
       " 'userid_13738',\n",
       " 'userid_13744',\n",
       " 'userid_13746',\n",
       " 'userid_13747',\n",
       " 'userid_13749',\n",
       " 'userid_13750',\n",
       " 'userid_13756',\n",
       " 'userid_13777',\n",
       " 'userid_13789',\n",
       " 'userid_13810',\n",
       " 'userid_13811',\n",
       " 'userid_13820',\n",
       " 'userid_13825',\n",
       " 'userid_13839',\n",
       " 'userid_13842',\n",
       " 'userid_13847',\n",
       " 'userid_13859',\n",
       " 'userid_13866',\n",
       " 'userid_13868',\n",
       " 'userid_13880',\n",
       " 'userid_13881',\n",
       " 'userid_13884',\n",
       " 'userid_13889',\n",
       " 'userid_13895',\n",
       " 'userid_13902',\n",
       " 'userid_13908',\n",
       " 'userid_13913',\n",
       " 'userid_13915',\n",
       " 'userid_13916',\n",
       " 'userid_13918',\n",
       " 'userid_13920',\n",
       " 'userid_13923',\n",
       " 'userid_13925',\n",
       " 'userid_13927',\n",
       " 'userid_13934',\n",
       " 'userid_13940',\n",
       " 'userid_13949',\n",
       " 'userid_13956',\n",
       " 'userid_1396',\n",
       " 'userid_13961',\n",
       " 'userid_13964',\n",
       " 'userid_13966',\n",
       " 'userid_13970',\n",
       " 'userid_13982',\n",
       " 'userid_13990',\n",
       " 'userid_13992',\n",
       " 'userid_13994',\n",
       " 'userid_14005',\n",
       " 'userid_14031',\n",
       " 'userid_14033',\n",
       " 'userid_14039',\n",
       " 'userid_14051',\n",
       " 'userid_14052',\n",
       " 'userid_14053',\n",
       " 'userid_14056',\n",
       " 'userid_14059',\n",
       " 'userid_1406',\n",
       " 'userid_14062',\n",
       " 'userid_14063',\n",
       " 'userid_14070',\n",
       " 'userid_14089',\n",
       " 'userid_14094',\n",
       " 'userid_14098',\n",
       " 'userid_14099',\n",
       " 'userid_14103',\n",
       " 'userid_14106',\n",
       " 'userid_14108',\n",
       " 'userid_1412',\n",
       " 'userid_14125',\n",
       " 'userid_14127',\n",
       " 'userid_14131',\n",
       " 'userid_14145',\n",
       " 'userid_14162',\n",
       " 'userid_14172',\n",
       " 'userid_14178',\n",
       " 'userid_14192',\n",
       " 'userid_14198',\n",
       " 'userid_14205',\n",
       " 'userid_14211',\n",
       " 'userid_14218',\n",
       " 'userid_14227',\n",
       " 'userid_14229',\n",
       " 'userid_14232',\n",
       " 'userid_14237',\n",
       " 'userid_14238',\n",
       " 'userid_14240',\n",
       " 'userid_14256',\n",
       " 'userid_14258',\n",
       " 'userid_14271',\n",
       " 'userid_14279',\n",
       " 'userid_14288',\n",
       " 'userid_1429',\n",
       " 'userid_14290',\n",
       " 'userid_14292',\n",
       " 'userid_14295',\n",
       " 'userid_14298',\n",
       " 'userid_14309',\n",
       " 'userid_14322',\n",
       " 'userid_14323',\n",
       " 'userid_14335',\n",
       " 'userid_14345',\n",
       " 'userid_14362',\n",
       " 'userid_14365',\n",
       " 'userid_14366',\n",
       " 'userid_14378',\n",
       " 'userid_1439',\n",
       " 'userid_14392',\n",
       " 'userid_14397',\n",
       " 'userid_14400',\n",
       " 'userid_14402',\n",
       " 'userid_14405',\n",
       " 'userid_14408',\n",
       " 'userid_14418',\n",
       " 'userid_1442',\n",
       " 'userid_14425',\n",
       " 'userid_1443',\n",
       " 'userid_14435',\n",
       " 'userid_14443',\n",
       " 'userid_14456',\n",
       " 'userid_14476',\n",
       " 'userid_14477',\n",
       " 'userid_1449',\n",
       " 'userid_14494',\n",
       " 'userid_14497',\n",
       " 'userid_14507',\n",
       " 'userid_14513',\n",
       " 'userid_14535',\n",
       " 'userid_1454',\n",
       " 'userid_14542',\n",
       " 'userid_14553',\n",
       " 'userid_14568',\n",
       " 'userid_14572',\n",
       " 'userid_14573',\n",
       " 'userid_14583',\n",
       " 'userid_14584',\n",
       " 'userid_14592',\n",
       " 'userid_14597',\n",
       " 'userid_14609',\n",
       " 'userid_1461',\n",
       " 'userid_14626',\n",
       " 'userid_14627',\n",
       " 'userid_14629',\n",
       " 'userid_14640',\n",
       " 'userid_14654',\n",
       " 'userid_14664',\n",
       " 'userid_14679',\n",
       " 'userid_1468',\n",
       " 'userid_14681',\n",
       " 'userid_14682',\n",
       " 'userid_14689',\n",
       " 'userid_14693',\n",
       " 'userid_1470',\n",
       " 'userid_14700',\n",
       " 'userid_14706',\n",
       " 'userid_14709',\n",
       " 'userid_14713',\n",
       " 'userid_14728',\n",
       " 'userid_14736',\n",
       " 'userid_14737',\n",
       " 'userid_14748',\n",
       " 'userid_14749',\n",
       " 'userid_14753',\n",
       " 'userid_14756',\n",
       " 'userid_14764',\n",
       " 'userid_14780',\n",
       " 'userid_14782',\n",
       " 'userid_14783',\n",
       " 'userid_14788',\n",
       " 'userid_14790',\n",
       " 'userid_14791',\n",
       " 'userid_14802',\n",
       " 'userid_14809',\n",
       " 'userid_1481',\n",
       " 'userid_14811',\n",
       " 'userid_14818',\n",
       " 'userid_1482',\n",
       " 'userid_14824',\n",
       " 'userid_14833',\n",
       " 'userid_14838',\n",
       " 'userid_1484',\n",
       " 'userid_14841',\n",
       " 'userid_14844',\n",
       " 'userid_14857',\n",
       " 'userid_14867',\n",
       " 'userid_14869',\n",
       " 'userid_1488',\n",
       " 'userid_14890',\n",
       " 'userid_14894',\n",
       " 'userid_14898',\n",
       " 'userid_149',\n",
       " 'userid_1490',\n",
       " 'userid_14902',\n",
       " 'userid_14903',\n",
       " 'userid_14913',\n",
       " 'userid_14928',\n",
       " 'userid_14929',\n",
       " 'userid_14939',\n",
       " 'userid_14944',\n",
       " 'userid_1497',\n",
       " 'userid_14984',\n",
       " 'userid_14998',\n",
       " 'userid_15000',\n",
       " 'userid_15002',\n",
       " 'userid_15024',\n",
       " 'userid_15025',\n",
       " 'userid_15030',\n",
       " 'userid_15038',\n",
       " 'userid_15053',\n",
       " 'userid_15054',\n",
       " 'userid_15056',\n",
       " 'userid_15059',\n",
       " 'userid_15061',\n",
       " 'userid_15065',\n",
       " 'userid_15079',\n",
       " 'userid_15089',\n",
       " 'userid_15090',\n",
       " 'userid_15094',\n",
       " 'userid_15099',\n",
       " 'userid_15113',\n",
       " 'userid_1512',\n",
       " 'userid_15124',\n",
       " 'userid_1513',\n",
       " 'userid_15145',\n",
       " 'userid_15158',\n",
       " 'userid_15164',\n",
       " 'userid_15171',\n",
       " 'userid_15183',\n",
       " 'userid_15190',\n",
       " 'userid_15206',\n",
       " 'userid_1521',\n",
       " 'userid_1522',\n",
       " 'userid_15231',\n",
       " 'userid_15233',\n",
       " 'userid_15239',\n",
       " 'userid_1524',\n",
       " 'userid_15244',\n",
       " 'userid_15247',\n",
       " 'userid_15250',\n",
       " 'userid_15268',\n",
       " 'userid_15273',\n",
       " 'userid_15277',\n",
       " 'userid_15282',\n",
       " 'userid_15294',\n",
       " 'userid_15295',\n",
       " 'userid_15298',\n",
       " 'userid_15299',\n",
       " 'userid_15300',\n",
       " 'userid_15301',\n",
       " 'userid_15302',\n",
       " 'userid_1531',\n",
       " 'userid_15317',\n",
       " 'userid_15329',\n",
       " 'userid_15330',\n",
       " 'userid_15331',\n",
       " 'userid_15340',\n",
       " 'userid_15341',\n",
       " 'userid_15356',\n",
       " 'userid_15366',\n",
       " 'userid_15376',\n",
       " 'userid_15394',\n",
       " 'userid_15396',\n",
       " 'userid_15401',\n",
       " 'userid_15403',\n",
       " 'userid_15411',\n",
       " 'userid_15414',\n",
       " 'userid_15418',\n",
       " 'userid_15428',\n",
       " 'userid_15429',\n",
       " 'userid_1543',\n",
       " 'userid_15436',\n",
       " 'userid_15441',\n",
       " 'userid_15452',\n",
       " 'userid_1546',\n",
       " 'userid_15473',\n",
       " 'userid_15475',\n",
       " 'userid_1549',\n",
       " 'userid_15491',\n",
       " 'userid_15506',\n",
       " 'userid_1551',\n",
       " 'userid_15514',\n",
       " 'userid_15521',\n",
       " 'userid_15525',\n",
       " 'userid_15531',\n",
       " 'userid_15536',\n",
       " 'userid_15543',\n",
       " 'userid_15555',\n",
       " 'userid_15562',\n",
       " 'userid_15568',\n",
       " 'userid_15580',\n",
       " 'userid_15582',\n",
       " 'userid_15586',\n",
       " 'userid_15589',\n",
       " 'userid_15592',\n",
       " 'userid_15594',\n",
       " 'userid_15607',\n",
       " 'userid_15608',\n",
       " 'userid_15613',\n",
       " 'userid_15614',\n",
       " 'userid_15615',\n",
       " 'userid_15620',\n",
       " 'userid_15621',\n",
       " 'userid_15628',\n",
       " 'userid_15632',\n",
       " 'userid_15634',\n",
       " 'userid_15641',\n",
       " 'userid_15652',\n",
       " 'userid_1566',\n",
       " 'userid_15673',\n",
       " 'userid_1568',\n",
       " 'userid_15687',\n",
       " 'userid_15689',\n",
       " 'userid_15690',\n",
       " 'userid_15692',\n",
       " 'userid_15693',\n",
       " 'userid_15698',\n",
       " 'userid_15713',\n",
       " 'userid_15718',\n",
       " 'userid_15720',\n",
       " 'userid_15725',\n",
       " 'userid_15729',\n",
       " 'userid_15730',\n",
       " 'userid_15736',\n",
       " 'userid_15744',\n",
       " 'userid_15755',\n",
       " 'userid_15760',\n",
       " 'userid_15766',\n",
       " 'userid_15769',\n",
       " 'userid_15773',\n",
       " 'userid_15779',\n",
       " 'userid_15784',\n",
       " 'userid_15791',\n",
       " 'userid_15801',\n",
       " 'userid_15809',\n",
       " 'userid_15820',\n",
       " 'userid_15821',\n",
       " 'userid_15827',\n",
       " 'userid_15828',\n",
       " 'userid_15831',\n",
       " 'userid_15834',\n",
       " 'userid_15836',\n",
       " 'userid_15839',\n",
       " 'userid_15859',\n",
       " 'userid_15873',\n",
       " 'userid_15879',\n",
       " 'userid_1588',\n",
       " 'userid_15880',\n",
       " 'userid_15896',\n",
       " 'userid_159',\n",
       " 'userid_15908',\n",
       " 'userid_15915',\n",
       " 'userid_15923',\n",
       " 'userid_15926',\n",
       " 'userid_15928',\n",
       " 'userid_15934',\n",
       " 'userid_15935',\n",
       " 'userid_15936',\n",
       " 'userid_15937',\n",
       " 'userid_1595',\n",
       " 'userid_15953',\n",
       " 'userid_15959',\n",
       " 'userid_15971',\n",
       " 'userid_15977',\n",
       " 'userid_15978',\n",
       " 'userid_15982',\n",
       " ...]"
      ]
     },
     "execution_count": 186,
     "metadata": {},
     "output_type": "execute_result"
    }
   ],
   "source": [
    "# n_canciones = 2\n",
    "\n",
    "usuario_activo = generador_preferencias().sort_values(\"artist_id\")\n",
    "\n",
    "usuarios_count = usuarios[usuarios[\"artist_id\"].isin(usuario_activo[\"artist_id\"])].groupby(\"user_id\", as_index = False).agg({\"artist_id\" : \"count\"})\n",
    "\n",
    "lista_usuarios = usuarios_count[usuarios_count[\"artist_id\"] == usuario_activo.shape[0]][\"user_id\"].to_list()\n",
    "\n",
    "lista_usuarios"
   ]
  },
  {
   "cell_type": "code",
   "execution_count": 187,
   "metadata": {
    "tags": []
   },
   "outputs": [
    {
     "name": "stderr",
     "output_type": "stream",
     "text": [
      "C:\\Users\\esthe\\AppData\\Local\\Temp\\ipykernel_56196\\3042593484.py:1: UserWarning: Boolean Series key will be reindexed to match DataFrame index.\n",
      "  correlacion = usuarios.sort_values([\"user_id\", \"artist_id\"])[(usuarios[\"user_id\"].isin(lista_usuarios)) & (usuarios[\"artist_id\"].isin(usuario_activo[\"artist_id\"]))][[\"user_id\", \"like\"]]\n"
     ]
    },
    {
     "data": {
      "text/html": [
       "<div>\n",
       "<style scoped>\n",
       "    .dataframe tbody tr th:only-of-type {\n",
       "        vertical-align: middle;\n",
       "    }\n",
       "\n",
       "    .dataframe tbody tr th {\n",
       "        vertical-align: top;\n",
       "    }\n",
       "\n",
       "    .dataframe thead th {\n",
       "        text-align: right;\n",
       "    }\n",
       "</style>\n",
       "<table border=\"1\" class=\"dataframe\">\n",
       "  <thead>\n",
       "    <tr style=\"text-align: right;\">\n",
       "      <th></th>\n",
       "      <th>user_id</th>\n",
       "      <th>like</th>\n",
       "    </tr>\n",
       "  </thead>\n",
       "  <tbody>\n",
       "    <tr>\n",
       "      <th>86</th>\n",
       "      <td>userid_0</td>\n",
       "      <td>7</td>\n",
       "    </tr>\n",
       "    <tr>\n",
       "      <th>104</th>\n",
       "      <td>userid_0</td>\n",
       "      <td>3</td>\n",
       "    </tr>\n",
       "    <tr>\n",
       "      <th>128</th>\n",
       "      <td>userid_0</td>\n",
       "      <td>7</td>\n",
       "    </tr>\n",
       "    <tr>\n",
       "      <th>137</th>\n",
       "      <td>userid_0</td>\n",
       "      <td>5</td>\n",
       "    </tr>\n",
       "    <tr>\n",
       "      <th>190</th>\n",
       "      <td>userid_0</td>\n",
       "      <td>1</td>\n",
       "    </tr>\n",
       "    <tr>\n",
       "      <th>...</th>\n",
       "      <td>...</td>\n",
       "      <td>...</td>\n",
       "    </tr>\n",
       "    <tr>\n",
       "      <th>2491748</th>\n",
       "      <td>userid_9999</td>\n",
       "      <td>9</td>\n",
       "    </tr>\n",
       "    <tr>\n",
       "      <th>2491782</th>\n",
       "      <td>userid_9999</td>\n",
       "      <td>2</td>\n",
       "    </tr>\n",
       "    <tr>\n",
       "      <th>2491793</th>\n",
       "      <td>userid_9999</td>\n",
       "      <td>2</td>\n",
       "    </tr>\n",
       "    <tr>\n",
       "      <th>2491843</th>\n",
       "      <td>userid_9999</td>\n",
       "      <td>3</td>\n",
       "    </tr>\n",
       "    <tr>\n",
       "      <th>2491860</th>\n",
       "      <td>userid_9999</td>\n",
       "      <td>4</td>\n",
       "    </tr>\n",
       "  </tbody>\n",
       "</table>\n",
       "<p>13925 rows × 2 columns</p>\n",
       "</div>"
      ],
      "text/plain": [
       "             user_id  like\n",
       "86          userid_0     7\n",
       "104         userid_0     3\n",
       "128         userid_0     7\n",
       "137         userid_0     5\n",
       "190         userid_0     1\n",
       "...              ...   ...\n",
       "2491748  userid_9999     9\n",
       "2491782  userid_9999     2\n",
       "2491793  userid_9999     2\n",
       "2491843  userid_9999     3\n",
       "2491860  userid_9999     4\n",
       "\n",
       "[13925 rows x 2 columns]"
      ]
     },
     "execution_count": 187,
     "metadata": {},
     "output_type": "execute_result"
    }
   ],
   "source": [
    "correlacion = usuarios.sort_values([\"user_id\", \"artist_id\"])[(usuarios[\"user_id\"].isin(lista_usuarios)) & (usuarios[\"artist_id\"].isin(usuario_activo[\"artist_id\"]))][[\"user_id\", \"like\"]]\n",
    "\n",
    "correlacion"
   ]
  },
  {
   "cell_type": "code",
   "execution_count": 188,
   "metadata": {
    "tags": []
   },
   "outputs": [
    {
     "data": {
      "text/html": [
       "<div>\n",
       "<style scoped>\n",
       "    .dataframe tbody tr th:only-of-type {\n",
       "        vertical-align: middle;\n",
       "    }\n",
       "\n",
       "    .dataframe tbody tr th {\n",
       "        vertical-align: top;\n",
       "    }\n",
       "\n",
       "    .dataframe thead th {\n",
       "        text-align: right;\n",
       "    }\n",
       "</style>\n",
       "<table border=\"1\" class=\"dataframe\">\n",
       "  <thead>\n",
       "    <tr style=\"text-align: right;\">\n",
       "      <th></th>\n",
       "      <th>artist_id</th>\n",
       "      <th>score</th>\n",
       "    </tr>\n",
       "  </thead>\n",
       "  <tbody>\n",
       "    <tr>\n",
       "      <th>0</th>\n",
       "      <td>06HL4z0CvFAxyc27GXpf02</td>\n",
       "      <td>10</td>\n",
       "    </tr>\n",
       "    <tr>\n",
       "      <th>3</th>\n",
       "      <td>2UZIAOlrnyZmyzt1nuXr9y</td>\n",
       "      <td>10</td>\n",
       "    </tr>\n",
       "    <tr>\n",
       "      <th>1</th>\n",
       "      <td>2o5jDhtHVPhrJdv3cEQ99Z</td>\n",
       "      <td>10</td>\n",
       "    </tr>\n",
       "    <tr>\n",
       "      <th>4</th>\n",
       "      <td>4utLUGcTvOJFr6aqIJtYWV</td>\n",
       "      <td>10</td>\n",
       "    </tr>\n",
       "    <tr>\n",
       "      <th>2</th>\n",
       "      <td>50tDsT4wwq8FCMJNkn1D67</td>\n",
       "      <td>10</td>\n",
       "    </tr>\n",
       "  </tbody>\n",
       "</table>\n",
       "</div>"
      ],
      "text/plain": [
       "                artist_id  score\n",
       "0  06HL4z0CvFAxyc27GXpf02     10\n",
       "3  2UZIAOlrnyZmyzt1nuXr9y     10\n",
       "1  2o5jDhtHVPhrJdv3cEQ99Z     10\n",
       "4  4utLUGcTvOJFr6aqIJtYWV     10\n",
       "2  50tDsT4wwq8FCMJNkn1D67     10"
      ]
     },
     "execution_count": 188,
     "metadata": {},
     "output_type": "execute_result"
    }
   ],
   "source": [
    "usuario_activo"
   ]
  },
  {
   "cell_type": "code",
   "execution_count": 189,
   "metadata": {
    "tags": []
   },
   "outputs": [
    {
     "data": {
      "text/html": [
       "<div>\n",
       "<style scoped>\n",
       "    .dataframe tbody tr th:only-of-type {\n",
       "        vertical-align: middle;\n",
       "    }\n",
       "\n",
       "    .dataframe tbody tr th {\n",
       "        vertical-align: top;\n",
       "    }\n",
       "\n",
       "    .dataframe thead th {\n",
       "        text-align: right;\n",
       "    }\n",
       "</style>\n",
       "<table border=\"1\" class=\"dataframe\">\n",
       "  <thead>\n",
       "    <tr style=\"text-align: right;\">\n",
       "      <th></th>\n",
       "      <th>user_id</th>\n",
       "      <th>similitud</th>\n",
       "    </tr>\n",
       "  </thead>\n",
       "  <tbody>\n",
       "    <tr>\n",
       "      <th>2115</th>\n",
       "      <td>userid_6145</td>\n",
       "      <td>0.999168</td>\n",
       "    </tr>\n",
       "    <tr>\n",
       "      <th>1733</th>\n",
       "      <td>userid_3835</td>\n",
       "      <td>0.997925</td>\n",
       "    </tr>\n",
       "    <tr>\n",
       "      <th>1086</th>\n",
       "      <td>userid_16537</td>\n",
       "      <td>0.997816</td>\n",
       "    </tr>\n",
       "    <tr>\n",
       "      <th>59</th>\n",
       "      <td>userid_1035</td>\n",
       "      <td>0.997540</td>\n",
       "    </tr>\n",
       "    <tr>\n",
       "      <th>2080</th>\n",
       "      <td>userid_5953</td>\n",
       "      <td>0.996890</td>\n",
       "    </tr>\n",
       "    <tr>\n",
       "      <th>...</th>\n",
       "      <td>...</td>\n",
       "      <td>...</td>\n",
       "    </tr>\n",
       "    <tr>\n",
       "      <th>1495</th>\n",
       "      <td>userid_2471</td>\n",
       "      <td>0.696932</td>\n",
       "    </tr>\n",
       "    <tr>\n",
       "      <th>1572</th>\n",
       "      <td>userid_2952</td>\n",
       "      <td>0.695608</td>\n",
       "    </tr>\n",
       "    <tr>\n",
       "      <th>480</th>\n",
       "      <td>userid_12926</td>\n",
       "      <td>0.675725</td>\n",
       "    </tr>\n",
       "    <tr>\n",
       "      <th>441</th>\n",
       "      <td>userid_12727</td>\n",
       "      <td>0.667424</td>\n",
       "    </tr>\n",
       "    <tr>\n",
       "      <th>1759</th>\n",
       "      <td>userid_4024</td>\n",
       "      <td>0.630593</td>\n",
       "    </tr>\n",
       "  </tbody>\n",
       "</table>\n",
       "<p>2785 rows × 2 columns</p>\n",
       "</div>"
      ],
      "text/plain": [
       "           user_id  similitud\n",
       "2115   userid_6145   0.999168\n",
       "1733   userid_3835   0.997925\n",
       "1086  userid_16537   0.997816\n",
       "59     userid_1035   0.997540\n",
       "2080   userid_5953   0.996890\n",
       "...            ...        ...\n",
       "1495   userid_2471   0.696932\n",
       "1572   userid_2952   0.695608\n",
       "480   userid_12926   0.675725\n",
       "441   userid_12727   0.667424\n",
       "1759   userid_4024   0.630593\n",
       "\n",
       "[2785 rows x 2 columns]"
      ]
     },
     "execution_count": 189,
     "metadata": {},
     "output_type": "execute_result"
    }
   ],
   "source": [
    "similitud = list()\n",
    "\n",
    "for user_id in correlacion[\"user_id\"].unique():\n",
    "    \n",
    "    user_ = correlacion[correlacion[\"user_id\"] == user_id][\"like\"].values.reshape(1, -1)\n",
    "    \n",
    "    similitud.append([user_id, cosine_similarity(usuario_activo[\"score\"].values.reshape(1, -1), user_)[0][0]])\n",
    "    \n",
    "df_correlacion_usuario = pd.DataFrame(similitud, columns = [\"user_id\", \"similitud\"])\n",
    "\n",
    "df_correlacion_usuario.sort_values(\"similitud\", ascending = False)"
   ]
  },
  {
   "cell_type": "code",
   "execution_count": 190,
   "metadata": {
    "tags": []
   },
   "outputs": [],
   "source": [
    "#Borrar los artistas que \n",
    "artistas_borrados = usuarios[(usuarios[\"user_id\"].isin(df_correlacion_usuario[\"user_id\"])) & ~(usuarios[\"artist_id\"].isin(usuario_activo[\"artist_id\"]))]"
   ]
  },
  {
   "cell_type": "code",
   "execution_count": 191,
   "metadata": {
    "tags": []
   },
   "outputs": [
    {
     "data": {
      "text/html": [
       "<div>\n",
       "<style scoped>\n",
       "    .dataframe tbody tr th:only-of-type {\n",
       "        vertical-align: middle;\n",
       "    }\n",
       "\n",
       "    .dataframe tbody tr th {\n",
       "        vertical-align: top;\n",
       "    }\n",
       "\n",
       "    .dataframe thead th {\n",
       "        text-align: right;\n",
       "    }\n",
       "</style>\n",
       "<table border=\"1\" class=\"dataframe\">\n",
       "  <thead>\n",
       "    <tr style=\"text-align: right;\">\n",
       "      <th></th>\n",
       "      <th>user_id</th>\n",
       "      <th>similitud</th>\n",
       "      <th>like</th>\n",
       "      <th>artist_id</th>\n",
       "    </tr>\n",
       "  </thead>\n",
       "  <tbody>\n",
       "    <tr>\n",
       "      <th>0</th>\n",
       "      <td>userid_0</td>\n",
       "      <td>0.891902</td>\n",
       "      <td>8</td>\n",
       "      <td>16ZWHAtASUfHWkdT9NMXMj</td>\n",
       "    </tr>\n",
       "    <tr>\n",
       "      <th>1</th>\n",
       "      <td>userid_0</td>\n",
       "      <td>0.891902</td>\n",
       "      <td>4</td>\n",
       "      <td>4O0xp5h962swGSOOhM05Ni</td>\n",
       "    </tr>\n",
       "    <tr>\n",
       "      <th>2</th>\n",
       "      <td>userid_0</td>\n",
       "      <td>0.891902</td>\n",
       "      <td>10</td>\n",
       "      <td>0MHgLfmQdutffmvWe5XBTN</td>\n",
       "    </tr>\n",
       "    <tr>\n",
       "      <th>3</th>\n",
       "      <td>userid_0</td>\n",
       "      <td>0.891902</td>\n",
       "      <td>2</td>\n",
       "      <td>1SupJlEpv7RS2tPNRaHViT</td>\n",
       "    </tr>\n",
       "    <tr>\n",
       "      <th>4</th>\n",
       "      <td>userid_0</td>\n",
       "      <td>0.891902</td>\n",
       "      <td>6</td>\n",
       "      <td>3Ka1nDpDzxDveEqUPzIeom</td>\n",
       "    </tr>\n",
       "    <tr>\n",
       "      <th>...</th>\n",
       "      <td>...</td>\n",
       "      <td>...</td>\n",
       "      <td>...</td>\n",
       "      <td>...</td>\n",
       "    </tr>\n",
       "    <tr>\n",
       "      <th>670985</th>\n",
       "      <td>userid_9999</td>\n",
       "      <td>0.837708</td>\n",
       "      <td>3</td>\n",
       "      <td>4Kr8tEhZ6ecAQnqxd7WkTb</td>\n",
       "    </tr>\n",
       "    <tr>\n",
       "      <th>670986</th>\n",
       "      <td>userid_9999</td>\n",
       "      <td>0.837708</td>\n",
       "      <td>9</td>\n",
       "      <td>79HYgPQhrRdcGWDwZO2fhV</td>\n",
       "    </tr>\n",
       "    <tr>\n",
       "      <th>670987</th>\n",
       "      <td>userid_9999</td>\n",
       "      <td>0.837708</td>\n",
       "      <td>4</td>\n",
       "      <td>5zB4FgmxvPsn1G4TeKO62C</td>\n",
       "    </tr>\n",
       "    <tr>\n",
       "      <th>670988</th>\n",
       "      <td>userid_9999</td>\n",
       "      <td>0.837708</td>\n",
       "      <td>8</td>\n",
       "      <td>0hxQtmgWiPtEsDPeIuKxXq</td>\n",
       "    </tr>\n",
       "    <tr>\n",
       "      <th>670989</th>\n",
       "      <td>userid_9999</td>\n",
       "      <td>0.837708</td>\n",
       "      <td>9</td>\n",
       "      <td>5UNXmWQKKqqBCxmcotxXmO</td>\n",
       "    </tr>\n",
       "  </tbody>\n",
       "</table>\n",
       "<p>670990 rows × 4 columns</p>\n",
       "</div>"
      ],
      "text/plain": [
       "            user_id  similitud  like               artist_id\n",
       "0          userid_0   0.891902     8  16ZWHAtASUfHWkdT9NMXMj\n",
       "1          userid_0   0.891902     4  4O0xp5h962swGSOOhM05Ni\n",
       "2          userid_0   0.891902    10  0MHgLfmQdutffmvWe5XBTN\n",
       "3          userid_0   0.891902     2  1SupJlEpv7RS2tPNRaHViT\n",
       "4          userid_0   0.891902     6  3Ka1nDpDzxDveEqUPzIeom\n",
       "...             ...        ...   ...                     ...\n",
       "670985  userid_9999   0.837708     3  4Kr8tEhZ6ecAQnqxd7WkTb\n",
       "670986  userid_9999   0.837708     9  79HYgPQhrRdcGWDwZO2fhV\n",
       "670987  userid_9999   0.837708     4  5zB4FgmxvPsn1G4TeKO62C\n",
       "670988  userid_9999   0.837708     8  0hxQtmgWiPtEsDPeIuKxXq\n",
       "670989  userid_9999   0.837708     9  5UNXmWQKKqqBCxmcotxXmO\n",
       "\n",
       "[670990 rows x 4 columns]"
      ]
     },
     "execution_count": 191,
     "metadata": {},
     "output_type": "execute_result"
    }
   ],
   "source": [
    "df_ratings_subset = df_correlacion_usuario.merge(artistas_borrados, on = \"user_id\")\n",
    "df_ratings_subset"
   ]
  },
  {
   "cell_type": "code",
   "execution_count": 192,
   "metadata": {
    "tags": []
   },
   "outputs": [],
   "source": [
    "df_ratings_subset['weight'] = df_ratings_subset['like'] * df_ratings_subset['similitud']"
   ]
  },
  {
   "cell_type": "code",
   "execution_count": 193,
   "metadata": {
    "tags": []
   },
   "outputs": [],
   "source": [
    "df_ratings_subset_agg = df_ratings_subset.groupby(\"artist_id\", as_index = False).agg({\"weight\": \"sum\", \"similitud\":\"sum\"})"
   ]
  },
  {
   "cell_type": "code",
   "execution_count": 194,
   "metadata": {
    "tags": []
   },
   "outputs": [
    {
     "data": {
      "text/html": [
       "<div>\n",
       "<style scoped>\n",
       "    .dataframe tbody tr th:only-of-type {\n",
       "        vertical-align: middle;\n",
       "    }\n",
       "\n",
       "    .dataframe tbody tr th {\n",
       "        vertical-align: top;\n",
       "    }\n",
       "\n",
       "    .dataframe thead th {\n",
       "        text-align: right;\n",
       "    }\n",
       "</style>\n",
       "<table border=\"1\" class=\"dataframe\">\n",
       "  <thead>\n",
       "    <tr style=\"text-align: right;\">\n",
       "      <th></th>\n",
       "      <th>artist_id</th>\n",
       "      <th>weight</th>\n",
       "      <th>similitud</th>\n",
       "    </tr>\n",
       "  </thead>\n",
       "  <tbody>\n",
       "    <tr>\n",
       "      <th>0</th>\n",
       "      <td>000Dq0VqTZpxOP6jQMscVL</td>\n",
       "      <td>307.417535</td>\n",
       "      <td>51.820575</td>\n",
       "    </tr>\n",
       "    <tr>\n",
       "      <th>1</th>\n",
       "      <td>00190FC20vIUv0wXpeTf8S</td>\n",
       "      <td>231.508743</td>\n",
       "      <td>42.686694</td>\n",
       "    </tr>\n",
       "    <tr>\n",
       "      <th>2</th>\n",
       "      <td>002nyxOMwdc9EgNEo7ETcF</td>\n",
       "      <td>260.798552</td>\n",
       "      <td>56.722081</td>\n",
       "    </tr>\n",
       "    <tr>\n",
       "      <th>3</th>\n",
       "      <td>003f4bk13c6Q3gAUXv7dGJ</td>\n",
       "      <td>1256.984817</td>\n",
       "      <td>233.134669</td>\n",
       "    </tr>\n",
       "    <tr>\n",
       "      <th>4</th>\n",
       "      <td>00AUnQaXE6XTTZvr7kgNHb</td>\n",
       "      <td>224.711486</td>\n",
       "      <td>42.723560</td>\n",
       "    </tr>\n",
       "    <tr>\n",
       "      <th>...</th>\n",
       "      <td>...</td>\n",
       "      <td>...</td>\n",
       "      <td>...</td>\n",
       "    </tr>\n",
       "    <tr>\n",
       "      <th>9737</th>\n",
       "      <td>7zkwepHPyac6tCYl0fL0co</td>\n",
       "      <td>270.676567</td>\n",
       "      <td>48.218906</td>\n",
       "    </tr>\n",
       "    <tr>\n",
       "      <th>9738</th>\n",
       "      <td>7zla0bcNDIUPym1Jj7ChEm</td>\n",
       "      <td>258.019199</td>\n",
       "      <td>50.042501</td>\n",
       "    </tr>\n",
       "    <tr>\n",
       "      <th>9739</th>\n",
       "      <td>7zmk5lkmCMVvfvwF3H8FWC</td>\n",
       "      <td>218.482931</td>\n",
       "      <td>37.804496</td>\n",
       "    </tr>\n",
       "    <tr>\n",
       "      <th>9740</th>\n",
       "      <td>7zmuMr74dNGqjq74uibncO</td>\n",
       "      <td>263.980489</td>\n",
       "      <td>46.910393</td>\n",
       "    </tr>\n",
       "    <tr>\n",
       "      <th>9741</th>\n",
       "      <td>7zwiFdY90oXzLh1Wz22oEq</td>\n",
       "      <td>244.165260</td>\n",
       "      <td>45.077453</td>\n",
       "    </tr>\n",
       "  </tbody>\n",
       "</table>\n",
       "<p>9742 rows × 3 columns</p>\n",
       "</div>"
      ],
      "text/plain": [
       "                   artist_id       weight   similitud\n",
       "0     000Dq0VqTZpxOP6jQMscVL   307.417535   51.820575\n",
       "1     00190FC20vIUv0wXpeTf8S   231.508743   42.686694\n",
       "2     002nyxOMwdc9EgNEo7ETcF   260.798552   56.722081\n",
       "3     003f4bk13c6Q3gAUXv7dGJ  1256.984817  233.134669\n",
       "4     00AUnQaXE6XTTZvr7kgNHb   224.711486   42.723560\n",
       "...                      ...          ...         ...\n",
       "9737  7zkwepHPyac6tCYl0fL0co   270.676567   48.218906\n",
       "9738  7zla0bcNDIUPym1Jj7ChEm   258.019199   50.042501\n",
       "9739  7zmk5lkmCMVvfvwF3H8FWC   218.482931   37.804496\n",
       "9740  7zmuMr74dNGqjq74uibncO   263.980489   46.910393\n",
       "9741  7zwiFdY90oXzLh1Wz22oEq   244.165260   45.077453\n",
       "\n",
       "[9742 rows x 3 columns]"
      ]
     },
     "execution_count": 194,
     "metadata": {},
     "output_type": "execute_result"
    }
   ],
   "source": [
    "df_ratings_subset_agg"
   ]
  },
  {
   "cell_type": "code",
   "execution_count": 195,
   "metadata": {
    "tags": []
   },
   "outputs": [],
   "source": [
    "df_ratings_subset_agg['final'] = df_ratings_subset_agg['weight']  / df_ratings_subset_agg['similitud'] "
   ]
  },
  {
   "cell_type": "code",
   "execution_count": 196,
   "metadata": {
    "tags": []
   },
   "outputs": [],
   "source": [
    "df_ratings_subset_agg = df_ratings_subset_agg.merge(spotify_features_data_reducido, on = \"artist_id\").drop_duplicates(\"artist_id\")"
   ]
  },
  {
   "cell_type": "code",
   "execution_count": 197,
   "metadata": {
    "tags": []
   },
   "outputs": [],
   "source": [
    "df_ratings_subset_agg = df_ratings_subset_agg.sort_values(by = \"final\", ascending=False)"
   ]
  },
  {
   "cell_type": "code",
   "execution_count": 198,
   "metadata": {
    "tags": []
   },
   "outputs": [
    {
     "name": "stdout",
     "output_type": "stream",
     "text": [
      "<class 'pandas.core.frame.DataFrame'>\n",
      "Int64Index: 3 entries, 3320 to 75219\n",
      "Data columns (total 32 columns):\n",
      " #   Column             Non-Null Count  Dtype  \n",
      "---  ------             --------------  -----  \n",
      " 0   artist_id          3 non-null      object \n",
      " 1   weight             3 non-null      float64\n",
      " 2   similitud          3 non-null      float64\n",
      " 3   final              3 non-null      float64\n",
      " 4   album_id           3 non-null      object \n",
      " 5   album_name         3 non-null      object \n",
      " 6   album_popularity   3 non-null      int64  \n",
      " 7   genre_0            3 non-null      object \n",
      " 8   album_type         3 non-null      object \n",
      " 9   artists            3 non-null      object \n",
      " 10  duration_sec       3 non-null      float64\n",
      " 11  track_id           3 non-null      object \n",
      " 12  track_name         3 non-null      object \n",
      " 13  artist_genres      3 non-null      object \n",
      " 14  artist_popularity  3 non-null      int64  \n",
      " 15  name               3 non-null      object \n",
      " 16  acousticness       3 non-null      float64\n",
      " 17  danceability       3 non-null      float64\n",
      " 18  energy             3 non-null      float64\n",
      " 19  instrumentalness   3 non-null      float64\n",
      " 20  key                3 non-null      float64\n",
      " 21  liveness           3 non-null      float64\n",
      " 22  loudness           3 non-null      float64\n",
      " 23  mode               3 non-null      float64\n",
      " 24  speechiness        3 non-null      float64\n",
      " 25  tempo              3 non-null      float64\n",
      " 26  time_signature     3 non-null      float64\n",
      " 27  uri                3 non-null      object \n",
      " 28  valence            3 non-null      float64\n",
      " 29  explicit           3 non-null      object \n",
      " 30  track_popularity   3 non-null      float64\n",
      " 31  followers          3 non-null      int64  \n",
      "dtypes: float64(17), int64(3), object(12)\n",
      "memory usage: 792.0+ bytes\n"
     ]
    }
   ],
   "source": [
    "top_recomendaciones = df_ratings_subset_agg.head(3)\n",
    "top_recomendaciones.info()"
   ]
  },
  {
   "cell_type": "code",
   "execution_count": 199,
   "metadata": {
    "tags": []
   },
   "outputs": [],
   "source": [
    "canciones = spotify_features_data_reducido[spotify_features_data_reducido[\"artists\"].isin(top_recomendaciones[\"artists\"].values)]\n"
   ]
  },
  {
   "cell_type": "code",
   "execution_count": 200,
   "metadata": {
    "tags": []
   },
   "outputs": [],
   "source": [
    "###############################################################################################################################################################################"
   ]
  },
  {
   "cell_type": "code",
   "execution_count": 201,
   "metadata": {
    "tags": []
   },
   "outputs": [],
   "source": [
    "canciones_recomendadas = canciones.sample(10)[[\"artists\", \"track_name\"]]"
   ]
  },
  {
   "cell_type": "code",
   "execution_count": 202,
   "metadata": {
    "tags": []
   },
   "outputs": [
    {
     "data": {
      "text/html": [
       "<div>\n",
       "<style scoped>\n",
       "    .dataframe tbody tr th:only-of-type {\n",
       "        vertical-align: middle;\n",
       "    }\n",
       "\n",
       "    .dataframe tbody tr th {\n",
       "        vertical-align: top;\n",
       "    }\n",
       "\n",
       "    .dataframe thead th {\n",
       "        text-align: right;\n",
       "    }\n",
       "</style>\n",
       "<table border=\"1\" class=\"dataframe\">\n",
       "  <thead>\n",
       "    <tr style=\"text-align: right;\">\n",
       "      <th></th>\n",
       "      <th>artists</th>\n",
       "      <th>track_name</th>\n",
       "    </tr>\n",
       "  </thead>\n",
       "  <tbody>\n",
       "    <tr>\n",
       "      <th>211348</th>\n",
       "      <td>jimmy hunt</td>\n",
       "      <td>Étoiles</td>\n",
       "    </tr>\n",
       "    <tr>\n",
       "      <th>211343</th>\n",
       "      <td>jimmy hunt</td>\n",
       "      <td>Maladie D'Amour</td>\n",
       "    </tr>\n",
       "    <tr>\n",
       "      <th>211325</th>\n",
       "      <td>jimmy hunt</td>\n",
       "      <td>Innocence</td>\n",
       "    </tr>\n",
       "    <tr>\n",
       "      <th>211336</th>\n",
       "      <td>jimmy hunt</td>\n",
       "      <td>Antilope</td>\n",
       "    </tr>\n",
       "    <tr>\n",
       "      <th>211340</th>\n",
       "      <td>jimmy hunt</td>\n",
       "      <td>Mathilde</td>\n",
       "    </tr>\n",
       "    <tr>\n",
       "      <th>211346</th>\n",
       "      <td>jimmy hunt</td>\n",
       "      <td>Au-Dessus Du Monde</td>\n",
       "    </tr>\n",
       "    <tr>\n",
       "      <th>211351</th>\n",
       "      <td>jimmy hunt</td>\n",
       "      <td>Bébé</td>\n",
       "    </tr>\n",
       "    <tr>\n",
       "      <th>211330</th>\n",
       "      <td>jimmy hunt</td>\n",
       "      <td>Mental</td>\n",
       "    </tr>\n",
       "    <tr>\n",
       "      <th>211364</th>\n",
       "      <td>jimmy hunt</td>\n",
       "      <td>Retraite</td>\n",
       "    </tr>\n",
       "    <tr>\n",
       "      <th>211334</th>\n",
       "      <td>jimmy hunt</td>\n",
       "      <td>Oversea</td>\n",
       "    </tr>\n",
       "  </tbody>\n",
       "</table>\n",
       "</div>"
      ],
      "text/plain": [
       "           artists          track_name\n",
       "211348  jimmy hunt             Étoiles\n",
       "211343  jimmy hunt     Maladie D'Amour\n",
       "211325  jimmy hunt           Innocence\n",
       "211336  jimmy hunt            Antilope\n",
       "211340  jimmy hunt            Mathilde\n",
       "211346  jimmy hunt  Au-Dessus Du Monde\n",
       "211351  jimmy hunt                Bébé\n",
       "211330  jimmy hunt              Mental\n",
       "211364  jimmy hunt            Retraite\n",
       "211334  jimmy hunt             Oversea"
      ]
     },
     "execution_count": 202,
     "metadata": {},
     "output_type": "execute_result"
    }
   ],
   "source": [
    "canciones_recomendadas"
   ]
  },
  {
   "cell_type": "code",
   "execution_count": 203,
   "metadata": {
    "tags": []
   },
   "outputs": [
    {
     "name": "stderr",
     "output_type": "stream",
     "text": [
      "C:\\Users\\esthe\\AppData\\Local\\Temp\\ipykernel_56196\\3806710095.py:1: DtypeWarning: Columns (25,26,44) have mixed types. Specify dtype option on import or set low_memory=False.\n",
      "  spotify_data = pd.read_csv(\"spotify_data_12_20_2023.csv\")\n"
     ]
    },
    {
     "data": {
      "text/html": [
       "<div>\n",
       "<style scoped>\n",
       "    .dataframe tbody tr th:only-of-type {\n",
       "        vertical-align: middle;\n",
       "    }\n",
       "\n",
       "    .dataframe tbody tr th {\n",
       "        vertical-align: top;\n",
       "    }\n",
       "\n",
       "    .dataframe thead th {\n",
       "        text-align: right;\n",
       "    }\n",
       "</style>\n",
       "<table border=\"1\" class=\"dataframe\">\n",
       "  <thead>\n",
       "    <tr style=\"text-align: right;\">\n",
       "      <th></th>\n",
       "      <th>artist_id</th>\n",
       "      <th>weight</th>\n",
       "      <th>similitud</th>\n",
       "      <th>final</th>\n",
       "      <th>album_id</th>\n",
       "      <th>album_name</th>\n",
       "      <th>album_popularity</th>\n",
       "      <th>genre_0</th>\n",
       "      <th>album_type</th>\n",
       "      <th>artists</th>\n",
       "      <th>...</th>\n",
       "      <th>loudness</th>\n",
       "      <th>mode</th>\n",
       "      <th>speechiness</th>\n",
       "      <th>tempo</th>\n",
       "      <th>time_signature</th>\n",
       "      <th>uri</th>\n",
       "      <th>valence</th>\n",
       "      <th>explicit</th>\n",
       "      <th>track_popularity</th>\n",
       "      <th>followers</th>\n",
       "    </tr>\n",
       "  </thead>\n",
       "  <tbody>\n",
       "    <tr>\n",
       "      <th>0</th>\n",
       "      <td>06HL4z0CvFAxyc27GXpf02</td>\n",
       "      <td>NaN</td>\n",
       "      <td>NaN</td>\n",
       "      <td>NaN</td>\n",
       "      <td>6AORtDjduMM3bupSWzbTSG</td>\n",
       "      <td>Evermore (Deluxe Version)</td>\n",
       "      <td>85</td>\n",
       "      <td>pop</td>\n",
       "      <td>album</td>\n",
       "      <td>['Taylor Swift']</td>\n",
       "      <td>...</td>\n",
       "      <td>-10.491</td>\n",
       "      <td>1.0</td>\n",
       "      <td>0.0408</td>\n",
       "      <td>112.05</td>\n",
       "      <td>4.0</td>\n",
       "      <td>spotify:track:3Dby3p1m6IOZn2gIIqECgK</td>\n",
       "      <td>0.353</td>\n",
       "      <td>True</td>\n",
       "      <td>73.0</td>\n",
       "      <td>95859165</td>\n",
       "    </tr>\n",
       "    <tr>\n",
       "      <th>3</th>\n",
       "      <td>2UZIAOlrnyZmyzt1nuXr9y</td>\n",
       "      <td>NaN</td>\n",
       "      <td>NaN</td>\n",
       "      <td>NaN</td>\n",
       "      <td>0pWzIntouGCOZzQsSW6xYc</td>\n",
       "      <td>Alma</td>\n",
       "      <td>78</td>\n",
       "      <td>argentine hip hop</td>\n",
       "      <td>album</td>\n",
       "      <td>['Nicki Nicole']</td>\n",
       "      <td>...</td>\n",
       "      <td>-7.314</td>\n",
       "      <td>0.0</td>\n",
       "      <td>0.0274</td>\n",
       "      <td>98.047</td>\n",
       "      <td>3.0</td>\n",
       "      <td>spotify:track:04v1IMQMdemyNhfH5G2uyp</td>\n",
       "      <td>0.47</td>\n",
       "      <td>False</td>\n",
       "      <td>56.0</td>\n",
       "      <td>5445003</td>\n",
       "    </tr>\n",
       "    <tr>\n",
       "      <th>1</th>\n",
       "      <td>2o5jDhtHVPhrJdv3cEQ99Z</td>\n",
       "      <td>NaN</td>\n",
       "      <td>NaN</td>\n",
       "      <td>NaN</td>\n",
       "      <td>1pJxMMEFi51mp8MCpVonVe</td>\n",
       "      <td>In Search Of Sunrise 6 Mixed By Tiësto (Ibiza)</td>\n",
       "      <td>45</td>\n",
       "      <td>big room</td>\n",
       "      <td>album</td>\n",
       "      <td>['Maor Levi']</td>\n",
       "      <td>...</td>\n",
       "      <td>-8.336</td>\n",
       "      <td>1.0</td>\n",
       "      <td>0.0676</td>\n",
       "      <td>132.537</td>\n",
       "      <td>4.0</td>\n",
       "      <td>spotify:track:2tj4BT9j7968ZrWxklOqSS</td>\n",
       "      <td>0.0869</td>\n",
       "      <td>False</td>\n",
       "      <td>23.0</td>\n",
       "      <td>7229863</td>\n",
       "    </tr>\n",
       "    <tr>\n",
       "      <th>4</th>\n",
       "      <td>4utLUGcTvOJFr6aqIJtYWV</td>\n",
       "      <td>NaN</td>\n",
       "      <td>NaN</td>\n",
       "      <td>NaN</td>\n",
       "      <td>2aYIs6VLwMLzONDdVtNOe6</td>\n",
       "      <td>Last One Standing (Feat. Polo G, Mozzy &amp; Emine...</td>\n",
       "      <td>53</td>\n",
       "      <td>piano rock</td>\n",
       "      <td>single</td>\n",
       "      <td>['Eminem']</td>\n",
       "      <td>...</td>\n",
       "      <td>-3.927</td>\n",
       "      <td>1.0</td>\n",
       "      <td>0.244</td>\n",
       "      <td>135.986</td>\n",
       "      <td>4.0</td>\n",
       "      <td>spotify:track:6kUaRtXf19fu5IQWjmwsEJ</td>\n",
       "      <td>0.71</td>\n",
       "      <td>True</td>\n",
       "      <td>60.0</td>\n",
       "      <td>589140</td>\n",
       "    </tr>\n",
       "    <tr>\n",
       "      <th>2</th>\n",
       "      <td>50tDsT4wwq8FCMJNkn1D67</td>\n",
       "      <td>NaN</td>\n",
       "      <td>NaN</td>\n",
       "      <td>NaN</td>\n",
       "      <td>5exZjAvyfhdDdssxOcWfRj</td>\n",
       "      <td>Hate 2 Luv U</td>\n",
       "      <td>45</td>\n",
       "      <td>alt z</td>\n",
       "      <td>album</td>\n",
       "      <td>['AViVA']</td>\n",
       "      <td>...</td>\n",
       "      <td>-5.015</td>\n",
       "      <td>0.0</td>\n",
       "      <td>0.0854</td>\n",
       "      <td>120.091</td>\n",
       "      <td>4.0</td>\n",
       "      <td>spotify:track:4EzLV1QxUkkU5VV30YdkTF</td>\n",
       "      <td>0.449</td>\n",
       "      <td>False</td>\n",
       "      <td>33.0</td>\n",
       "      <td>464728</td>\n",
       "    </tr>\n",
       "  </tbody>\n",
       "</table>\n",
       "<p>5 rows × 32 columns</p>\n",
       "</div>"
      ],
      "text/plain": [
       "                artist_id weight similitud final                album_id  \\\n",
       "0  06HL4z0CvFAxyc27GXpf02    NaN       NaN   NaN  6AORtDjduMM3bupSWzbTSG   \n",
       "3  2UZIAOlrnyZmyzt1nuXr9y    NaN       NaN   NaN  0pWzIntouGCOZzQsSW6xYc   \n",
       "1  2o5jDhtHVPhrJdv3cEQ99Z    NaN       NaN   NaN  1pJxMMEFi51mp8MCpVonVe   \n",
       "4  4utLUGcTvOJFr6aqIJtYWV    NaN       NaN   NaN  2aYIs6VLwMLzONDdVtNOe6   \n",
       "2  50tDsT4wwq8FCMJNkn1D67    NaN       NaN   NaN  5exZjAvyfhdDdssxOcWfRj   \n",
       "\n",
       "                                          album_name album_popularity  \\\n",
       "0                          Evermore (Deluxe Version)               85   \n",
       "3                                               Alma               78   \n",
       "1     In Search Of Sunrise 6 Mixed By Tiësto (Ibiza)               45   \n",
       "4  Last One Standing (Feat. Polo G, Mozzy & Emine...               53   \n",
       "2                                       Hate 2 Luv U               45   \n",
       "\n",
       "             genre_0 album_type           artists  ... loudness mode  \\\n",
       "0                pop      album  ['Taylor Swift']  ...  -10.491  1.0   \n",
       "3  argentine hip hop      album  ['Nicki Nicole']  ...   -7.314  0.0   \n",
       "1           big room      album     ['Maor Levi']  ...   -8.336  1.0   \n",
       "4         piano rock     single        ['Eminem']  ...   -3.927  1.0   \n",
       "2              alt z      album         ['AViVA']  ...   -5.015  0.0   \n",
       "\n",
       "  speechiness    tempo time_signature                                   uri  \\\n",
       "0      0.0408   112.05            4.0  spotify:track:3Dby3p1m6IOZn2gIIqECgK   \n",
       "3      0.0274   98.047            3.0  spotify:track:04v1IMQMdemyNhfH5G2uyp   \n",
       "1      0.0676  132.537            4.0  spotify:track:2tj4BT9j7968ZrWxklOqSS   \n",
       "4       0.244  135.986            4.0  spotify:track:6kUaRtXf19fu5IQWjmwsEJ   \n",
       "2      0.0854  120.091            4.0  spotify:track:4EzLV1QxUkkU5VV30YdkTF   \n",
       "\n",
       "  valence explicit track_popularity followers  \n",
       "0   0.353     True             73.0  95859165  \n",
       "3    0.47    False             56.0   5445003  \n",
       "1  0.0869    False             23.0   7229863  \n",
       "4    0.71     True             60.0    589140  \n",
       "2   0.449    False             33.0    464728  \n",
       "\n",
       "[5 rows x 32 columns]"
      ]
     },
     "execution_count": 203,
     "metadata": {},
     "output_type": "execute_result"
    }
   ],
   "source": [
    "spotify_data = pd.read_csv(\"spotify_data_12_20_2023.csv\")\n",
    "\n",
    "# Crear un nuevo DataFrame vacío con la misma estructura de columnas que top_recomendaciones\n",
    "preferencias_usuario_completo = pd.DataFrame(columns=top_recomendaciones.columns)\n",
    "\n",
    "# Copiar los artist_id de usuario_activo en preferencias_usuario_completo\n",
    "preferencias_usuario_completo['artist_id'] = usuario_activo['artist_id']\n",
    "\n",
    "# Realizar un bucle sobre preferencias_usuario_completo para llenar los datos desde spotify_features_data_reducido\n",
    "for index, row in preferencias_usuario_completo.iterrows():\n",
    "    artist_id = row['artist_id']\n",
    "    # Buscar la primera coincidencia en spotify_features_data_reducido por artist_id\n",
    "    matching_row = spotify_data[spotify_data['artist_id'] == artist_id].iloc[0]\n",
    "    \n",
    "     # Llenar la fila en preferencias_usuario_completo con los datos de spotify_features_data_reducido\n",
    "    for col in preferencias_usuario_completo.columns:\n",
    "        if col != 'artist_id' and col != 'weight' and col != 'similitud' and col != 'final':  # Omitir la columna artist_id ya que ya está llena\n",
    "            preferencias_usuario_completo.at[index, col] = matching_row[col]\n",
    "preferencias_usuario_completo"
   ]
  },
  {
   "cell_type": "markdown",
   "metadata": {},
   "source": [
    "### Gráfica comparación follower vs artista del usuario"
   ]
  },
  {
   "cell_type": "code",
   "execution_count": 206,
   "metadata": {
    "tags": []
   },
   "outputs": [],
   "source": [
    "follower_top_final = pd.DataFrame({\"followers\": top_recomendaciones[\"followers\"],\n",
    "                     \"artists\" : top_recomendaciones[\"artists\"]})\n",
    "follower_top_final = follower_top_final.drop_duplicates(\"artists\")\n",
    "follower_top_final = follower_top_final.sort_values(by = \"followers\", ascending = False)\n",
    "follower_top_final = follower_top_final.head(10)"
   ]
  },
  {
   "cell_type": "code",
   "execution_count": 207,
   "metadata": {
    "tags": []
   },
   "outputs": [
    {
     "data": {
      "image/png": "[encoded data removed]",
      "text/plain": [
       "<Figure size 1200x600 with 1 Axes>"
      ]
     },
     "metadata": {},
     "output_type": "display_data"
    }
   ],
   "source": [
    "plt.figure(figsize=(12,6))\n",
    "ax = sns.barplot(x='artists', y='followers', data=follower_top_final)\n",
    "plt.xticks(rotation=90)\n",
    "for bar in ax.patches:\n",
    "    ax.annotate(format(bar.get_height(), '.2f'), \n",
    "                   (bar.get_x() + bar.get_width() / 2, \n",
    "                    bar.get_height()), ha='center', va='bottom',\n",
    "                   textcoords='offset points', xytext=(0,10),\n",
    "                   fontsize=8)\n",
    "\n",
    "plt.show()"
   ]
  },
  {
   "cell_type": "markdown",
   "metadata": {},
   "source": [
    "### Gráfica comparación popularity vs artista del usuario"
   ]
  },
  {
   "cell_type": "code",
   "execution_count": 208,
   "metadata": {
    "tags": []
   },
   "outputs": [],
   "source": [
    "popularity_top_final = pd.DataFrame({\"artist_popularity\": top_recomendaciones[\"artist_popularity\"],\n",
    "                     \"artists\" : top_recomendaciones[\"artists\"]})\n",
    "popularity_top_final = popularity_top_final.drop_duplicates(\"artists\")\n",
    "popularity_top_final = popularity_top_final.sort_values(by = \"artist_popularity\", ascending = False)\n",
    "popularity_top_final = popularity_top_final.head(10)"
   ]
  },
  {
   "cell_type": "code",
   "execution_count": 210,
   "metadata": {
    "tags": []
   },
   "outputs": [
    {
     "data": {
      "image/png": "[encoded data removed]",
      "text/plain": [
       "<Figure size 1200x600 with 1 Axes>"
      ]
     },
     "metadata": {},
     "output_type": "display_data"
    }
   ],
   "source": [
    "plt.figure(figsize=(12,6))\n",
    "ax = sns.barplot(x='artists', y='artist_popularity', data=popularity_top_final)\n",
    "plt.xticks(rotation=90)\n",
    "for bar in ax.patches:\n",
    "    ax.annotate(format(bar.get_height(), '.2f'), \n",
    "                   (bar.get_x() + bar.get_width() / 2, \n",
    "                    bar.get_height()), ha='center', va='bottom',\n",
    "                   textcoords='offset points', xytext=(0,10),\n",
    "                   fontsize=8)\n",
    "\n",
    "plt.show()"
   ]
  },
  {
   "cell_type": "markdown",
   "metadata": {},
   "source": [
    "### Gráfico genereo (elección usuario-recomendador)"
   ]
  },
  {
   "cell_type": "code",
   "execution_count": 212,
   "metadata": {
    "tags": []
   },
   "outputs": [
    {
     "name": "stderr",
     "output_type": "stream",
     "text": [
      "C:\\Users\\esthe\\AppData\\Local\\Temp\\ipykernel_56196\\3806710095.py:1: DtypeWarning: Columns (25,26,44) have mixed types. Specify dtype option on import or set low_memory=False.\n",
      "  spotify_data = pd.read_csv(\"spotify_data_12_20_2023.csv\")\n"
     ]
    },
    {
     "ename": "KeyError",
     "evalue": "'dance_interval'",
     "output_type": "error",
     "traceback": [
      "\u001b[1;31m---------------------------------------------------------------------------\u001b[0m",
      "\u001b[1;31mKeyError\u001b[0m                                  Traceback (most recent call last)",
      "File \u001b[1;32m~\\anaconda3\\Lib\\site-packages\\pandas\\core\\indexes\\base.py:3802\u001b[0m, in \u001b[0;36mIndex.get_loc\u001b[1;34m(self, key, method, tolerance)\u001b[0m\n\u001b[0;32m   3801\u001b[0m \u001b[38;5;28;01mtry\u001b[39;00m:\n\u001b[1;32m-> 3802\u001b[0m     \u001b[38;5;28;01mreturn\u001b[39;00m \u001b[38;5;28mself\u001b[39m\u001b[38;5;241m.\u001b[39m_engine\u001b[38;5;241m.\u001b[39mget_loc(casted_key)\n\u001b[0;32m   3803\u001b[0m \u001b[38;5;28;01mexcept\u001b[39;00m \u001b[38;5;167;01mKeyError\u001b[39;00m \u001b[38;5;28;01mas\u001b[39;00m err:\n",
      "File \u001b[1;32m~\\anaconda3\\Lib\\site-packages\\pandas\\_libs\\index.pyx:138\u001b[0m, in \u001b[0;36mpandas._libs.index.IndexEngine.get_loc\u001b[1;34m()\u001b[0m\n",
      "File \u001b[1;32m~\\anaconda3\\Lib\\site-packages\\pandas\\_libs\\index.pyx:165\u001b[0m, in \u001b[0;36mpandas._libs.index.IndexEngine.get_loc\u001b[1;34m()\u001b[0m\n",
      "File \u001b[1;32mpandas\\_libs\\hashtable_class_helper.pxi:5745\u001b[0m, in \u001b[0;36mpandas._libs.hashtable.PyObjectHashTable.get_item\u001b[1;34m()\u001b[0m\n",
      "File \u001b[1;32mpandas\\_libs\\hashtable_class_helper.pxi:5753\u001b[0m, in \u001b[0;36mpandas._libs.hashtable.PyObjectHashTable.get_item\u001b[1;34m()\u001b[0m\n",
      "\u001b[1;31mKeyError\u001b[0m: 'dance_interval'",
      "\nThe above exception was the direct cause of the following exception:\n",
      "\u001b[1;31mKeyError\u001b[0m                                  Traceback (most recent call last)",
      "Cell \u001b[1;32mIn[212], line 18\u001b[0m\n\u001b[0;32m     16\u001b[0m     \u001b[38;5;28;01mfor\u001b[39;00m col \u001b[38;5;129;01min\u001b[39;00m preferencias_usuario_completo\u001b[38;5;241m.\u001b[39mcolumns:\n\u001b[0;32m     17\u001b[0m         \u001b[38;5;28;01mif\u001b[39;00m col \u001b[38;5;241m!=\u001b[39m \u001b[38;5;124m'\u001b[39m\u001b[38;5;124martist_id\u001b[39m\u001b[38;5;124m'\u001b[39m \u001b[38;5;129;01mand\u001b[39;00m col \u001b[38;5;241m!=\u001b[39m \u001b[38;5;124m'\u001b[39m\u001b[38;5;124mweight\u001b[39m\u001b[38;5;124m'\u001b[39m \u001b[38;5;129;01mand\u001b[39;00m col \u001b[38;5;241m!=\u001b[39m \u001b[38;5;124m'\u001b[39m\u001b[38;5;124msimilitud\u001b[39m\u001b[38;5;124m'\u001b[39m \u001b[38;5;129;01mand\u001b[39;00m col \u001b[38;5;241m!=\u001b[39m \u001b[38;5;124m'\u001b[39m\u001b[38;5;124mfinal\u001b[39m\u001b[38;5;124m'\u001b[39m:  \u001b[38;5;66;03m# Omitir la columna artist_id ya que ya está llena\u001b[39;00m\n\u001b[1;32m---> 18\u001b[0m             preferencias_usuario_completo\u001b[38;5;241m.\u001b[39mat[index, col] \u001b[38;5;241m=\u001b[39m matching_row[col]\n\u001b[0;32m     19\u001b[0m preferencias_usuario_completo\n",
      "File \u001b[1;32m~\\anaconda3\\Lib\\site-packages\\pandas\\core\\series.py:981\u001b[0m, in \u001b[0;36mSeries.__getitem__\u001b[1;34m(self, key)\u001b[0m\n\u001b[0;32m    978\u001b[0m     \u001b[38;5;28;01mreturn\u001b[39;00m \u001b[38;5;28mself\u001b[39m\u001b[38;5;241m.\u001b[39m_values[key]\n\u001b[0;32m    980\u001b[0m \u001b[38;5;28;01melif\u001b[39;00m key_is_scalar:\n\u001b[1;32m--> 981\u001b[0m     \u001b[38;5;28;01mreturn\u001b[39;00m \u001b[38;5;28mself\u001b[39m\u001b[38;5;241m.\u001b[39m_get_value(key)\n\u001b[0;32m    983\u001b[0m \u001b[38;5;28;01mif\u001b[39;00m is_hashable(key):\n\u001b[0;32m    984\u001b[0m     \u001b[38;5;66;03m# Otherwise index.get_value will raise InvalidIndexError\u001b[39;00m\n\u001b[0;32m    985\u001b[0m     \u001b[38;5;28;01mtry\u001b[39;00m:\n\u001b[0;32m    986\u001b[0m         \u001b[38;5;66;03m# For labels that don't resolve as scalars like tuples and frozensets\u001b[39;00m\n",
      "File \u001b[1;32m~\\anaconda3\\Lib\\site-packages\\pandas\\core\\series.py:1089\u001b[0m, in \u001b[0;36mSeries._get_value\u001b[1;34m(self, label, takeable)\u001b[0m\n\u001b[0;32m   1086\u001b[0m     \u001b[38;5;28;01mreturn\u001b[39;00m \u001b[38;5;28mself\u001b[39m\u001b[38;5;241m.\u001b[39m_values[label]\n\u001b[0;32m   1088\u001b[0m \u001b[38;5;66;03m# Similar to Index.get_value, but we do not fall back to positional\u001b[39;00m\n\u001b[1;32m-> 1089\u001b[0m loc \u001b[38;5;241m=\u001b[39m \u001b[38;5;28mself\u001b[39m\u001b[38;5;241m.\u001b[39mindex\u001b[38;5;241m.\u001b[39mget_loc(label)\n\u001b[0;32m   1090\u001b[0m \u001b[38;5;28;01mreturn\u001b[39;00m \u001b[38;5;28mself\u001b[39m\u001b[38;5;241m.\u001b[39mindex\u001b[38;5;241m.\u001b[39m_get_values_for_loc(\u001b[38;5;28mself\u001b[39m, loc, label)\n",
      "File \u001b[1;32m~\\anaconda3\\Lib\\site-packages\\pandas\\core\\indexes\\base.py:3804\u001b[0m, in \u001b[0;36mIndex.get_loc\u001b[1;34m(self, key, method, tolerance)\u001b[0m\n\u001b[0;32m   3802\u001b[0m     \u001b[38;5;28;01mreturn\u001b[39;00m \u001b[38;5;28mself\u001b[39m\u001b[38;5;241m.\u001b[39m_engine\u001b[38;5;241m.\u001b[39mget_loc(casted_key)\n\u001b[0;32m   3803\u001b[0m \u001b[38;5;28;01mexcept\u001b[39;00m \u001b[38;5;167;01mKeyError\u001b[39;00m \u001b[38;5;28;01mas\u001b[39;00m err:\n\u001b[1;32m-> 3804\u001b[0m     \u001b[38;5;28;01mraise\u001b[39;00m \u001b[38;5;167;01mKeyError\u001b[39;00m(key) \u001b[38;5;28;01mfrom\u001b[39;00m \u001b[38;5;21;01merr\u001b[39;00m\n\u001b[0;32m   3805\u001b[0m \u001b[38;5;28;01mexcept\u001b[39;00m \u001b[38;5;167;01mTypeError\u001b[39;00m:\n\u001b[0;32m   3806\u001b[0m     \u001b[38;5;66;03m# If we have a listlike key, _check_indexing_error will raise\u001b[39;00m\n\u001b[0;32m   3807\u001b[0m     \u001b[38;5;66;03m#  InvalidIndexError. Otherwise we fall through and re-raise\u001b[39;00m\n\u001b[0;32m   3808\u001b[0m     \u001b[38;5;66;03m#  the TypeError.\u001b[39;00m\n\u001b[0;32m   3809\u001b[0m     \u001b[38;5;28mself\u001b[39m\u001b[38;5;241m.\u001b[39m_check_indexing_error(key)\n",
      "\u001b[1;31mKeyError\u001b[0m: 'dance_interval'"
     ]
    }
   ],
   "source": [
    "spotify_data = pd.read_csv(\"spotify_data_12_20_2023.csv\")\n",
    "\n",
    "# Crear un nuevo DataFrame vacío con la misma estructura de columnas que top_recomendaciones\n",
    "preferencias_usuario_completo = pd.DataFrame(columns=top_recomendaciones.columns)\n",
    "\n",
    "# Copiar los artist_id de usuario_activo en preferencias_usuario_completo\n",
    "preferencias_usuario_completo['artist_id'] = usuario_activo['artist_id']\n",
    "\n",
    "# Realizar un bucle sobre preferencias_usuario_completo para llenar los datos desde spotify_features_data_reducido\n",
    "for index, row in preferencias_usuario_completo.iterrows():\n",
    "    artist_id = row['artist_id']\n",
    "    # Buscar la primera coincidencia en spotify_features_data_reducido por artist_id\n",
    "    matching_row = spotify_data[spotify_data['artist_id'] == artist_id].iloc[0]\n",
    "    \n",
    "     # Llenar la fila en preferencias_usuario_completo con los datos de spotify_features_data_reducido\n",
    "    for col in preferencias_usuario_completo.columns:\n",
    "        if col != 'artist_id' and col != 'weight' and col != 'similitud' and col != 'final':  # Omitir la columna artist_id ya que ya está llena\n",
    "            preferencias_usuario_completo.at[index, col] = matching_row[col]\n",
    "preferencias_usuario_completo"
   ]
  },
  {
   "cell_type": "code",
   "execution_count": null,
   "metadata": {},
   "outputs": [],
   "source": [
    "### "
   ]
  },
  {
   "cell_type": "code",
   "execution_count": 105,
   "metadata": {
    "tags": []
   },
   "outputs": [
    {
     "name": "stderr",
     "output_type": "stream",
     "text": [
      "C:\\Users\\esthe\\AppData\\Local\\Temp\\ipykernel_56196\\1356358849.py:3: FutureWarning: The default value of numeric_only in DataFrame.corr is deprecated. In a future version, it will default to False. Select only valid columns or specify the value of numeric_only to silence this warning.\n",
      "  sns.heatmap(data = top_recomendaciones.corr().round(2), annot = True)\n"
     ]
    },
    {
     "data": {
      "image/png": "[encoded data removed]",
      "text/plain": [
       "<Figure size 1200x800 with 2 Axes>"
      ]
     },
     "metadata": {},
     "output_type": "display_data"
    }
   ],
   "source": [
    "plt.figure(figsize = (12, 8))\n",
    "\n",
    "sns.heatmap(data = top_recomendaciones.corr().round(2), annot = True)\n",
    "plt.show()"
   ]
  },
  {
   "cell_type": "code",
   "execution_count": null,
   "metadata": {},
   "outputs": [],
   "source": []
  }
 ],
 "metadata": {
  "kernelspec": {
   "display_name": "Python 3 (ipykernel)",
   "language": "python",
   "name": "python3"
  },
  "language_info": {
   "codemirror_mode": {
    "name": "ipython",
    "version": 3
   },
   "file_extension": ".py",
   "mimetype": "text/x-python",
   "name": "python",
   "nbconvert_exporter": "python",
   "pygments_lexer": "ipython3",
   "version": "3.11.4"
  }
 },
 "nbformat": 4,
 "nbformat_minor": 4
}
